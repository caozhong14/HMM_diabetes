{
 "cells": [
  {
   "cell_type": "code",
   "execution_count": 1,
   "metadata": {},
   "outputs": [],
   "source": [
    "import pandas as pd"
   ]
  },
  {
   "cell_type": "code",
   "execution_count": 2,
   "metadata": {},
   "outputs": [],
   "source": [
    "\n",
    "## MAIN FUNCTION - input\n",
    "\n",
    "## INPUT FILE\n",
    "df = pd.read_csv('savings_raw.csv')\n",
    "## OUTPUT FILE\n",
    "save_file_name = \"savings.csv\""
   ]
  },
  {
   "cell_type": "code",
   "execution_count": 3,
   "metadata": {},
   "outputs": [
    {
     "name": "stdout",
     "output_type": "stream",
     "text": [
      "Index(['Country Name', 'Country Code', 'Indicator Name', 'Indicator Code',\n",
      "       '2010', '2011', '2012', '2013', '2014', '2015', '2016', '2017', '2018',\n",
      "       '2019', '2020'],\n",
      "      dtype='object')\n"
     ]
    }
   ],
   "source": [
    "print(df.columns)"
   ]
  },
  {
   "cell_type": "code",
   "execution_count": 4,
   "metadata": {},
   "outputs": [],
   "source": [
    "df = df.drop(columns=['Country Name', 'Indicator Name', 'Indicator Code'])\n",
    "df = df.set_index(['Country Code'])\n",
    "# linear interpolate missing values\n",
    "df = df.T.interpolate(limit_direction='both').T.reset_index()\n",
    "df = df.dropna(axis=0)\n",
    "df = df.set_index('Country Code')\n",
    "\n",
    "df['savings'] = df[['2010','2011','2012','2013','2014','2015','2016','2017','2018','2019']].mean(axis=1)\n",
    "# project to 2050 with average between 2010-2019\n",
    "for t in range(2020, 2051,1):\n",
    "    df[str(t)] = df['savings']\n",
    "df = df.drop(columns=['savings'])"
   ]
  },
  {
   "cell_type": "code",
   "execution_count": 5,
   "metadata": {},
   "outputs": [],
   "source": [
    "df.to_csv(save_file_name)"
   ]
  },
  {
   "cell_type": "code",
   "execution_count": 6,
   "metadata": {},
   "outputs": [
    {
     "name": "stdout",
     "output_type": "stream",
     "text": [
      "Subtraction from WB: ['AFG', 'AND', 'ARE', 'ASM', 'CAF', 'CHI', 'CUB', 'CYM', 'ERI', 'FSM', 'GIB', 'GNQ', 'GRD', 'GRL', 'GUM', 'GUY', 'IMN', 'IRN', 'KNA', 'LBR', 'LBY', 'LCA', 'LIE', 'MAF', 'MCO', 'MNP', 'MWI', 'NCL', 'NRU', 'PLW', 'PNG', 'PRI', 'PRK', 'PYF', 'SMR', 'SOM', 'STP', 'TCA', 'TCD', 'TKM', 'TTO', 'TUV', 'VCT', 'VGB', 'VIR', 'WSM', 'YEM'] 47\n",
      "Plus from WB: ['AFE', 'AFW', 'ARB', 'CEB', 'EAP', 'EAR', 'EAS', 'ECA', 'ECS', 'EMU', 'EUU', 'FCS', 'HIC', 'HPC', 'IBD', 'IBT', 'IDA', 'IDB', 'IDX', 'LAC', 'LCN', 'LDC', 'LIC', 'LMC', 'LMY', 'LTE', 'MEA', 'MIC', 'NAC', 'OED', 'OSS', 'PRE', 'PSE', 'PSS', 'PST', 'SAS', 'SSA', 'SSF', 'SST', 'TEA', 'TEC', 'TLA', 'TSA', 'TSS', 'UMC', 'WLD'] 46\n",
      "Subtraction from GBD : ['AFG', 'AND', 'ARE', 'ASM', 'CAF', 'COK', 'CUB', 'ERI', 'FSM', 'GNQ', 'GRD', 'GRL', 'GUM', 'GUY', 'IRN', 'KNA', 'LBR', 'LBY', 'LCA', 'MCO', 'MNP', 'MWI', 'NIU', 'NRU', 'PLW', 'PNG', 'PRI', 'PRK', 'SMR', 'SOM', 'STP', 'TCD', 'TKL', 'TKM', 'TTO', 'TUV', 'TWN', 'VCT', 'VIR', 'WSM', 'YEM'] 41\n",
      "Plus from GBD : ['ABW', 'AFE', 'AFW', 'ARB', 'CEB', 'CUW', 'EAP', 'EAR', 'EAS', 'ECA', 'ECS', 'EMU', 'EUU', 'FCS', 'FRO', 'HIC', 'HKG', 'HPC', 'IBD', 'IBT', 'IDA', 'IDB', 'IDX', 'LAC', 'LCN', 'LDC', 'LIC', 'LMC', 'LMY', 'LTE', 'MAC', 'MEA', 'MIC', 'NAC', 'OED', 'OSS', 'PRE', 'PSS', 'PST', 'SAS', 'SSA', 'SSF', 'SST', 'SXM', 'TEA', 'TEC', 'TLA', 'TSA', 'TSS', 'UMC', 'WLD', 'XKX'] 52\n"
     ]
    }
   ],
   "source": [
    "def check_countries(filename):\n",
    "    df = pd.read_csv(filename)\n",
    "    countries = df['Country Code'].unique()\n",
    "    country_names = pd.read_csv('../../data/dl1_countrycodeorg_country_name.csv')\n",
    "    GBD_countries = country_names[country_names[\"country\"].notnull()]['Country Code']\n",
    "    WB_countries = country_names[country_names[\"WBCountry\"].notnull()]['Country Code']\n",
    "    plus_GBD = sorted(list(set(countries) - set(GBD_countries)))\n",
    "    sub_GBD = sorted(list(set(GBD_countries) - set(countries)))\n",
    "    plus_WB = sorted(list(set(countries) - set(WB_countries)))\n",
    "    sub_WB = sorted(list(set(WB_countries) - set(countries)))\n",
    "\n",
    "    print ('Subtraction from WB:', sub_WB, len(sub_WB))\n",
    "    print ('Plus from WB:', plus_WB, len(plus_WB))\n",
    "    print ('Subtraction from GBD :', sub_GBD, len(sub_GBD))\n",
    "    print ('Plus from GBD :', plus_GBD, len(plus_GBD))\n",
    "# check_countries(pop_save_file_name)\n",
    "check_countries(save_file_name)"
   ]
  },
  {
   "cell_type": "code",
   "execution_count": null,
   "metadata": {},
   "outputs": [],
   "source": []
  }
 ],
 "metadata": {
  "interpreter": {
   "hash": "c313004aacb210e2a0b0ec8e97d422a11096aa68fd78b262a7f6f720f4307dc6"
  },
  "kernelspec": {
   "display_name": "Python 3.7.10 64-bit ('base': conda)",
   "name": "python3"
  },
  "language_info": {
   "codemirror_mode": {
    "name": "ipython",
    "version": 3
   },
   "file_extension": ".py",
   "mimetype": "text/x-python",
   "name": "python",
   "nbconvert_exporter": "python",
   "pygments_lexer": "ipython3",
   "version": "3.7.10"
  }
 },
 "nbformat": 4,
 "nbformat_minor": 2
}
