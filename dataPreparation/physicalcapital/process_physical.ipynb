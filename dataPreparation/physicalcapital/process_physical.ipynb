{
 "cells": [
  {
   "cell_type": "code",
   "execution_count": 1,
   "metadata": {},
   "outputs": [],
   "source": [
    "import pandas as pd\n",
    "import glob"
   ]
  },
  {
   "cell_type": "code",
   "execution_count": 2,
   "metadata": {},
   "outputs": [],
   "source": [
    "## MAIN FUNCTION - input\n",
    "\n",
    "## INPUT FILE\n",
    "PPP = True\n",
    "if PPP:\n",
    "    input_folder = 'PPP2017_updated_Nov8_2021_Accessed_Apr2022/*.xls'\n",
    "    ## OUTPUT FILE\n",
    "    save_filename = 'physical_ppp.csv'\n",
    "else:\n",
    "    input_folder = 'physical/*.xls'\n",
    "    ## OUTPUT FILE\n",
    "    save_filename = 'physical.csv'\n",
    "\n",
    "# change the name from world bank names to common names\n",
    "countries = pd.read_csv('../../data/dl1_countrycodeorg_country_name.csv')\n",
    "country_names = countries[\"capital country name\"].unique()\n",
    "country_map = dict(zip(countries['capital country name'], countries['Country Code']))\n",
    "\n"
   ]
  },
  {
   "cell_type": "code",
   "execution_count": 3,
   "metadata": {
    "scrolled": false
   },
   "outputs": [
    {
     "name": "stdout",
     "output_type": "stream",
     "text": [
      "167\n"
     ]
    }
   ],
   "source": [
    "pieces = []\n",
    "for i, file in enumerate(glob.glob(input_folder)):\n",
    "    df = pd.read_excel(file, skiprows=7, header=None)\n",
    "    des = df.loc[0, 1]\n",
    "    country = des.split(',')[0].split('for ')[1]\n",
    "    if country == 'Taiwan Province of China':\n",
    "        country = 'Province of China Taiwan'\n",
    "    if not((country in country_names) ):\n",
    "        print(i, country)\n",
    "    try:\n",
    "        df = pd.read_excel(file, skiprows=11, header=None)\n",
    "        df = df.rename(columns={0: 'time', 1: 'value'})\n",
    "        df['Country Code'] = country_map[country]\n",
    "        pieces.append(df)\n",
    "    except:\n",
    "        print('%s'%(country))\n",
    "print(i+1)\n",
    "\n",
    "df = pd.concat(pieces)\n",
    "df['time'] = df['time'].apply(lambda x: str(x.year))\n",
    "df = df[df['time']>='2010']\n",
    "\n",
    "df = pd.pivot_table(df, values='value', index='Country Code', columns = 'time')\n",
    "df.to_csv(save_filename)"
   ]
  },
  {
   "cell_type": "code",
   "execution_count": null,
   "metadata": {},
   "outputs": [],
   "source": []
  }
 ],
 "metadata": {
  "interpreter": {
   "hash": "c313004aacb210e2a0b0ec8e97d422a11096aa68fd78b262a7f6f720f4307dc6"
  },
  "kernelspec": {
   "display_name": "Python 3.7.10 64-bit ('base': conda)",
   "name": "python3"
  },
  "language_info": {
   "codemirror_mode": {
    "name": "ipython",
    "version": 3
   },
   "file_extension": ".py",
   "mimetype": "text/x-python",
   "name": "python",
   "nbconvert_exporter": "python",
   "pygments_lexer": "ipython3",
   "version": "3.7.10"
  }
 },
 "nbformat": 4,
 "nbformat_minor": 2
}
