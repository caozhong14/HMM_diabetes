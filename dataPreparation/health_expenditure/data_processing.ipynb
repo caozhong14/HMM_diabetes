{
 "cells": [
  {
   "cell_type": "code",
   "execution_count": 1,
   "metadata": {},
   "outputs": [],
   "source": [
    "import pandas as pd\n",
    "import numpy as np"
   ]
  },
  {
   "cell_type": "code",
   "execution_count": 2,
   "metadata": {},
   "outputs": [
    {
     "name": "stdout",
     "output_type": "stream",
     "text": [
      "Index(['Country Name', 'Country Code', 'Indicator Name', 'Indicator Code',\n",
      "       '2000', '2001', '2002', '2003', '2004', '2005', '2006', '2007', '2008',\n",
      "       '2009', '2010', '2011', '2012', '2013', '2014', '2015', '2016', '2017',\n",
      "       '2018', '2019', '2020'],\n",
      "      dtype='object')\n"
     ]
    }
   ],
   "source": [
    "df = pd.read_csv('hp_raw.csv')\n",
    "print(df.columns)\n",
    "savefile_rate = 'HealthExpenditureRate.csv'\n",
    "\n",
    "df = df.drop(columns=['Country Name', 'Indicator Name', 'Indicator Code'])\n",
    "df = df.set_index(['Country Code'])\n",
    "# linear interpolate missing values\n",
    "df = df.T.interpolate(limit_direction='both').T.reset_index()\n",
    "df = df.dropna(axis=0)\n",
    "df = df.set_index('Country Code')\n",
    "# df.to_csv(savefile_rate)"
   ]
  },
  {
   "cell_type": "code",
   "execution_count": 3,
   "metadata": {},
   "outputs": [],
   "source": [
    "# rate = pd.read_csv(savefile_rate).set_index(['Country Code'])\n",
    "rate = df\n",
    "rate = rate/100\n",
    "\n",
    "latest_available_year = 2019\n",
    "# given the volatility in estimates, we use rolling average to get the growth rate\n",
    "rate2000 = rate[[str(year) for year in range(2000,2009,1)]].mean(axis=1)\n",
    "rate2010 = rate[[str(year) for year in range(2010,2019,1)]].mean(axis=1)\n",
    "exp = (rate2010/rate2000)**0.1\n",
    "\n",
    "# follow the projection rule in the write-up\n",
    "upperCap = 0.1244\n",
    "lowerCap = 0.03\n",
    "\n",
    "# now do the projection\n",
    "for country in rate.index:\n",
    "    for year in range(latest_available_year+1,2051,1):\n",
    "        if (rate.loc[country,str(year-1)]<upperCap) and (rate.loc[country,str(year-1)]>lowerCap):\n",
    "            rate.loc[country,str(year)] = rate.loc[country,str(year-1)]*exp.loc[country]\n",
    "        else:\n",
    "            rate.loc[country,str(year)] = rate.loc[country,str(year-1)]\n",
    "\n",
    "rate = round(rate, 10) \n",
    "rate.to_csv(savefile_rate)"
   ]
  },
  {
   "cell_type": "code",
   "execution_count": null,
   "metadata": {},
   "outputs": [],
   "source": []
  },
  {
   "cell_type": "code",
   "execution_count": 4,
   "metadata": {},
   "outputs": [],
   "source": [
    "\n",
    "# gdp and population use the output from the GDP and population_labor section\n",
    "PPP = True\n",
    "if PPP:\n",
    "    gdp = pd.read_csv('../GDP/GDP_ppp.csv').set_index(['Country Code'])\n",
    "else:\n",
    "    gdp = pd.read_csv('../GDP/GDP.csv').set_index(['Country Code'])\n",
    "pop = pd.read_csv('../population_labor/UNDP/population_total.csv')\n",
    "\n",
    "\n",
    "if PPP:\n",
    "    savefile = 'hepc_ppp.csv'\n",
    "else:\n",
    "    savefile = 'hepc.csv'\n",
    "# "
   ]
  },
  {
   "cell_type": "code",
   "execution_count": 5,
   "metadata": {},
   "outputs": [
    {
     "name": "stdout",
     "output_type": "stream",
     "text": [
      "182\n"
     ]
    }
   ],
   "source": [
    "he = gdp*rate[[str(year) for year in range(2010,2051,1)]]\n",
    "he = he.dropna(axis=0, how='all')\n",
    "\n",
    "pop = pop.groupby('Country Code').sum()\n",
    "pop = pop[[str(year) for year in range(2010,2051,1)]]\n",
    "hepc = (he[[str(year) for year in range(2010,2051,1)]]/pop).dropna(axis=0, how='all')\n",
    "hepc.to_csv(savefile)\n",
    "print(len(hepc))"
   ]
  },
  {
   "cell_type": "code",
   "execution_count": null,
   "metadata": {},
   "outputs": [],
   "source": []
  }
 ],
 "metadata": {
  "interpreter": {
   "hash": "c313004aacb210e2a0b0ec8e97d422a11096aa68fd78b262a7f6f720f4307dc6"
  },
  "kernelspec": {
   "display_name": "Python 3.7.10 64-bit ('base': conda)",
   "name": "python3"
  },
  "language_info": {
   "codemirror_mode": {
    "name": "ipython",
    "version": 3
   },
   "file_extension": ".py",
   "mimetype": "text/x-python",
   "name": "python",
   "nbconvert_exporter": "python",
   "pygments_lexer": "ipython3",
   "version": "3.7.10"
  }
 },
 "nbformat": 4,
 "nbformat_minor": 2
}
