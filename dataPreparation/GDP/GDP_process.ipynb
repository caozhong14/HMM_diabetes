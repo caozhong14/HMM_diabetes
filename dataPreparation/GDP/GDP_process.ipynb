{
 "cells": [
  {
   "cell_type": "code",
   "execution_count": 1,
   "metadata": {},
   "outputs": [],
   "source": [
    "import pandas as pd\n",
    "import numpy as np"
   ]
  },
  {
   "cell_type": "code",
   "execution_count": 2,
   "metadata": {},
   "outputs": [],
   "source": [
    "## MAIN FUNCTION - input\n",
    "\n",
    "## INPUT FILE\n",
    "PPP = True\n",
    "df_imf = pd.read_excel('IMF_WEOApr2022all.xlsx', thousands=',')\n",
    "df_worldbank = pd.read_csv('gdp_raw.csv')\n",
    "countries_imf = df_imf['ISO'].unique() #\n",
    "countries_worldbank = df_worldbank['Country Code'].unique() #\n",
    "\n",
    "## OUTPUT FILE\n",
    "save_file_name = \"GDP_ppp.csv\""
   ]
  },
  {
   "cell_type": "code",
   "execution_count": 3,
   "metadata": {},
   "outputs": [],
   "source": [
    "### references, data from IMF\n",
    "\n",
    "df_ppp = df_imf[df_imf['WEO Subject Code'] == 'PPPGDP']\n",
    "# print(df_ppp.columns)\n",
    "df_ppp = df_ppp[['ISO', 2010, 2011, 2012, 2013, 2014, 2015, 2016, 2017, 2018, 2019, \n",
    "                        2020, 2021, 2022, 2023, 2024, 2025, 2026, 2027]]\n",
    "df_ppp = df_ppp.rename(columns = {'ISO': 'Country Code'})\n",
    "df_ppp = df_ppp.set_index('Country Code')\n",
    "# print (df_ppp.loc[['USA','IND','CHN']])\n",
    "\n",
    "df_growth = df_imf[df_imf['WEO Subject Code'] == 'NGDP_RPCH']\n",
    "# print(df_growth.columns)\n",
    "df_growth = df_growth[['ISO', 2015, 2016, 2017, 2018, 2019, \n",
    "                        2020, 2021, 2022, 2023, 2024, 2025, 2026, 2027]]\n",
    "df_growth = df_growth.rename(columns = {'ISO': 'Country Code'})\n",
    "df_growth = df_growth.set_index('Country Code')\n",
    "df_growth = df_growth.replace('--', np.nan)\n",
    "df_growth = df_growth.dropna(axis=0, how='all')\n",
    "df_growth = df_growth.T.interpolate(limit_direction='both').T\n",
    "\n",
    "# print (df_growth.loc[['USA','IND','CHN']])"
   ]
  },
  {
   "cell_type": "markdown",
   "metadata": {},
   "source": []
  },
  {
   "cell_type": "code",
   "execution_count": 4,
   "metadata": {},
   "outputs": [],
   "source": [
    "### GDP data from 2010-2020 in World Bank\n",
    "df = df_worldbank.drop(columns=['Country Name', 'Country Name', 'Indicator Name' , 'Indicator Code'])\n",
    "df = df.set_index(['Country Code'])\n",
    "# linear interpolate missing values\n",
    "df = df.T.interpolate(limit_direction='both').T\n",
    "df = df.dropna(axis=0)\n",
    "# print (df.loc[['USA','IND','CHN']])"
   ]
  },
  {
   "cell_type": "code",
   "execution_count": 5,
   "metadata": {},
   "outputs": [],
   "source": [
    "df_combine = df.merge(df_growth, on='Country Code', how='inner')"
   ]
  },
  {
   "cell_type": "code",
   "execution_count": 6,
   "metadata": {},
   "outputs": [
    {
     "data": {
      "text/plain": [
       "Index(['2010', '2011', '2012', '2013', '2014', '2015', '2016', '2017', '2018',\n",
       "       '2019', '2020',   2015,   2016,   2017,   2018,   2019,   2020,   2021,\n",
       "         2022,   2023,   2024,   2025,   2026,   2027],\n",
       "      dtype='object')"
      ]
     },
     "execution_count": 6,
     "metadata": {},
     "output_type": "execute_result"
    }
   ],
   "source": [
    "df_combine.columns"
   ]
  },
  {
   "cell_type": "code",
   "execution_count": 7,
   "metadata": {},
   "outputs": [],
   "source": [
    "# project to 2021 using the growth rate from data\n",
    "for t in range(2021, 2029,1):\n",
    "    df_combine[str(t)]=df_combine[str(t-1)] * (df_combine[t-1]/100+1)\n",
    "# project to 2050 using the growthrate column \n",
    "for t in range(2029, 2051,1):\n",
    "    rate = (df_combine[2015] + df_combine[2016] + df_combine[2017] + df_combine[2018] + df_combine[2019]) / 5\n",
    "    df_combine[str(t)]=df_combine[str(t-1)]*(rate/100+1)"
   ]
  },
  {
   "cell_type": "code",
   "execution_count": 8,
   "metadata": {},
   "outputs": [],
   "source": [
    "df_combine = df_combine[[str(t) for t in range(2010,2051,1)]]"
   ]
  },
  {
   "cell_type": "code",
   "execution_count": 9,
   "metadata": {},
   "outputs": [],
   "source": [
    "for t in range(2029, 2051,1):\n",
    "    df_combine.at['CHN', str(t)] = df_combine.loc['CHN',str(t-1)] * 1.035"
   ]
  },
  {
   "cell_type": "code",
   "execution_count": 10,
   "metadata": {},
   "outputs": [],
   "source": [
    "df_combine.to_csv(save_file_name)"
   ]
  },
  {
   "cell_type": "code",
   "execution_count": null,
   "metadata": {},
   "outputs": [],
   "source": []
  },
  {
   "cell_type": "code",
   "execution_count": 11,
   "metadata": {},
   "outputs": [],
   "source": [
    "def check_countries(filename):\n",
    "    df = pd.read_csv(filename)\n",
    "    countries = df['Country Code'].unique()\n",
    "    country_names = pd.read_csv('../../data/dl1_countrycodeorg_country_name.csv')\n",
    "    GBD_countries = country_names[country_names[\"country\"].notnull()]['Country Code']\n",
    "    WB_countries = country_names[country_names[\"WBCountry\"].notnull()]['Country Code']\n",
    "    plus_GBD = sorted(list(set(countries) - set(GBD_countries)))\n",
    "    sub_GBD = sorted(list(set(GBD_countries) - set(countries)))\n",
    "    plus_WB = sorted(list(set(countries) - set(WB_countries)))\n",
    "    sub_WB = sorted(list(set(WB_countries) - set(countries)))\n",
    "\n",
    "    print ('Subtraction from WB:', sub_WB, len(sub_WB))\n",
    "    print ('Plus from WB:', plus_WB, len(plus_WB))\n",
    "    print ('Subtraction from GBD :', sub_GBD, len(sub_GBD))\n",
    "    print ('Plus from GBD :', plus_GBD, len(plus_GBD))\n",
    "# check_countries(pop_save_file_name)\n"
   ]
  },
  {
   "cell_type": "code",
   "execution_count": 12,
   "metadata": {},
   "outputs": [
    {
     "name": "stdout",
     "output_type": "stream",
     "text": [
      "Subtraction from WB: ['AND', 'ASM', 'BMU', 'CHI', 'CUB', 'CUW', 'CYM', 'ERI', 'FRO', 'GIB', 'GRL', 'GUM', 'IMN', 'LIE', 'MAF', 'MCO', 'MNP', 'NCL', 'PRK', 'PYF', 'SSD', 'SXM', 'SYR', 'TCA', 'VEN', 'VGB', 'VIR', 'XKX', 'YEM'] 29\n",
      "Plus from WB: [] 0\n",
      "Subtraction from GBD : ['AND', 'ASM', 'BMU', 'COK', 'CUB', 'ERI', 'GRL', 'GUM', 'MCO', 'MNP', 'NIU', 'PRK', 'PSE', 'SSD', 'SYR', 'TKL', 'TWN', 'VEN', 'VIR', 'YEM'] 20\n",
      "Plus from GBD : ['ABW', 'HKG', 'MAC'] 3\n"
     ]
    }
   ],
   "source": [
    "check_countries(\"GDP_ppp.csv\")"
   ]
  },
  {
   "cell_type": "code",
   "execution_count": null,
   "metadata": {},
   "outputs": [],
   "source": []
  },
  {
   "cell_type": "code",
   "execution_count": null,
   "metadata": {},
   "outputs": [],
   "source": []
  },
  {
   "cell_type": "markdown",
   "metadata": {},
   "source": [
    "## CIA \n",
    "GDP for each country.\n",
    "Because the data in world bank and IMF do not contain all GBD 204 countries.\n",
    " https://www.cia.gov/the-world-factbook/field/real-gdp-purchasing-power-parity/country-comparison"
   ]
  },
  {
   "cell_type": "code",
   "execution_count": 13,
   "metadata": {},
   "outputs": [
    {
     "name": "stdout",
     "output_type": "stream",
     "text": [
      "Subtraction from WB: ['CHI'] 1\n",
      "Plus from WB: ['AIA', 'COK', 'FLK', 'GGY', 'JEY', 'MSR', 'NIU', 'PSE', 'SHN', 'SPM', 'TKL', 'TWN', 'WLF'] 13\n",
      "Subtraction from GBD : [] 0\n",
      "Plus from GBD : ['ABW', 'AIA', 'CUW', 'CYM', 'FLK', 'FRO', 'GGY', 'GIB', 'HKG', 'IMN', 'JEY', 'LIE', 'MAC', 'MAF', 'MSR', 'NCL', 'PYF', 'SHN', 'SPM', 'SXM', 'TCA', 'VGB', 'WLF', 'XKX'] 24\n"
     ]
    },
    {
     "name": "stderr",
     "output_type": "stream",
     "text": [
      "/Users/caozhong/miniconda3/lib/python3.7/site-packages/ipykernel_launcher.py:19: FutureWarning: The default value of regex will change from True to False in a future version. In addition, single character regular expressions will *not* be treated as literal strings when regex=True.\n"
     ]
    }
   ],
   "source": [
    "import pandas as pd\n",
    "## MAIN FUNCTION - input\n",
    "\n",
    "## INPUT FILE\n",
    "df_gdp_cia = pd.read_csv('gdp_raw_cia.csv')\n",
    "country_names_cia = pd.read_csv('d2_countrycode_ciagov.csv')\n",
    "\n",
    "## OUTPUT FILE\n",
    "\n",
    "save_file_name_gdp_cia = \"GDP_ppp_cia.csv\"\n",
    "\n",
    "gdp_cia = pd.merge(df_gdp_cia, country_names_cia, left_on='name', right_on='Entity')\n",
    "gdp_cia = gdp_cia[['Country Code', 'value', 'date_of_information']]\n",
    "\n",
    "def changevalue(str):\n",
    "    return float(str)\n",
    "\n",
    "gdp_cia['value'] = gdp_cia['value'].str.replace(',', '')\n",
    "gdp_cia['value'] = gdp_cia['value'].str.replace('$', '')\n",
    "\n",
    "gdp_cia = gdp_cia.set_index('Country Code')\n",
    "gdp_cia = gdp_cia.sort_index()\n",
    "gdp_cia.to_csv(save_file_name_gdp_cia)\n",
    "\n",
    "\n",
    "check_countries(save_file_name_gdp_cia)"
   ]
  },
  {
   "cell_type": "code",
   "execution_count": null,
   "metadata": {},
   "outputs": [],
   "source": []
  }
 ],
 "metadata": {
  "interpreter": {
   "hash": "c313004aacb210e2a0b0ec8e97d422a11096aa68fd78b262a7f6f720f4307dc6"
  },
  "kernelspec": {
   "display_name": "Python 3.7.10 64-bit ('base': conda)",
   "name": "python3"
  },
  "language_info": {
   "codemirror_mode": {
    "name": "ipython",
    "version": 3
   },
   "file_extension": ".py",
   "mimetype": "text/x-python",
   "name": "python",
   "nbconvert_exporter": "python",
   "pygments_lexer": "ipython3",
   "version": "3.7.10"
  }
 },
 "nbformat": 4,
 "nbformat_minor": 2
}
