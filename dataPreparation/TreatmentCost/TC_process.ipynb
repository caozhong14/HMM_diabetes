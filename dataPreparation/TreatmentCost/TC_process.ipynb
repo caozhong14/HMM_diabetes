{
 "cells": [
  {
   "cell_type": "code",
   "execution_count": 4,
   "metadata": {},
   "outputs": [],
   "source": [
    "import pandas as pd"
   ]
  },
  {
   "cell_type": "markdown",
   "metadata": {},
   "source": [
    "## IDF Diabetes Atlas 2021"
   ]
  },
  {
   "cell_type": "code",
   "execution_count": 5,
   "metadata": {},
   "outputs": [],
   "source": [
    "## MAIN FUNCTION - input\n",
    "df_input_tc = pd.read_csv('IDF (diabetes-related-health-expenditure-per-person--usd).csv', thousands=',')\n",
    "country_names = pd.read_csv('../../data/dl1_countrycodeorg_country_name.csv')\n",
    "df_input_prev = pd.read_csv('./adjust_prevalence/prevalence.csv')\n",
    "\n",
    "# OUTPUT FILE\n",
    "save_file_name = \"TC_ppp.csv\""
   ]
  },
  {
   "cell_type": "code",
   "execution_count": 6,
   "metadata": {},
   "outputs": [],
   "source": [
    "## Part I, per patient cost\n",
    "for i in range(len(df_input_tc)):\n",
    "    if df_input_tc.loc[i, '2021'] == '-':\n",
    "        df_input_tc.loc[i, '2021'] = df_input_tc.loc[i, '2011']\n",
    "        \n",
    "tc = df_input_tc[['Country/Territory', '2021']]\n",
    "tc = tc.rename(columns = {'Country/Territory':'country', '2021':'Diabetes mellitus'})\n",
    "# tc = tc.set_index(\"countries\")\n",
    "tc.replace({'Taiwan': 'Taiwan (Province of China)', \n",
    "            'State of Palestine': 'Palestine', \n",
    "            'US Virgin Islands': 'United States Virgin Islands'}, inplace = True)\n",
    "\n",
    "tc_code = country_names[[\"Country Code\", \"country\"]].merge(tc, on=\"country\").drop(columns=['country'])\n",
    "tc_code['Diabetes mellitus'] = tc_code['Diabetes mellitus'].str.replace(',', '')\n",
    "tc_code['Diabetes mellitus'] = tc_code['Diabetes mellitus'].str.replace('-', '-0').astype(float)\n",
    "\n",
    "## Part II, per person cost\n",
    "per_patient = tc_code.set_index(\"Country Code\")\n",
    "perv = df_input_prev.set_index(\"Country Code\")\n",
    "\n",
    "data_idf = per_patient * perv / 100000"
   ]
  },
  {
   "cell_type": "code",
   "execution_count": 7,
   "metadata": {},
   "outputs": [],
   "source": [
    "data_idf = data_idf[data_idf['Diabetes mellitus'] > 0]\n",
    "data_idf.to_csv(save_file_name)"
   ]
  },
  {
   "cell_type": "markdown",
   "metadata": {},
   "source": [
    "## JAMA 2016"
   ]
  },
  {
   "cell_type": "code",
   "execution_count": 8,
   "metadata": {},
   "outputs": [],
   "source": [
    "## MAIN FUNCTION - input\n",
    "\n",
    "## INPUT FILE\n",
    "PPP = True\n",
    "# PPP = False\n",
    "if PPP:\n",
    "    df_input_he = pd.read_csv('../health_expenditure/hepc_ppp.csv')\n",
    "else:\n",
    "    df_input_he = pd.read_csv('../health_expenditure/hepc.csv')\n",
    "df_input_prev = pd.read_csv('./adjust_prevalence/prevalence.csv')\n",
    "df_input_USA_TC = pd.read_csv('TC_USA.csv')\n",
    "\n",
    "## OUTPUT FILE\n",
    "# 'tmp.csv'"
   ]
  },
  {
   "cell_type": "code",
   "execution_count": 9,
   "metadata": {},
   "outputs": [],
   "source": [
    "he = df_input_he[['Country Code', '2013']]\n",
    "he = he.set_index(\"Country Code\")\n",
    "he = he.rename(columns = {'2013':'house expend'})\n",
    "he_merge = he.merge(df_input_prev, on='Country Code')\n",
    "he_merge = he_merge[[\"Country Code\", \"house expend\"]]\n",
    "\n",
    "data = he_merge.set_index(\"Country Code\")\n",
    "prev = df_input_prev.set_index(\"Country Code\")"
   ]
  },
  {
   "cell_type": "code",
   "execution_count": 10,
   "metadata": {},
   "outputs": [],
   "source": [
    "for i in range(len(df_input_USA_TC['disease'])):\n",
    "    disease = df_input_USA_TC.loc[i, 'disease']\n",
    "    tc_USA = data.loc['USA','house expend'] * df_input_USA_TC.loc[i, 'TC_USA'] / 2100.1\n",
    "    const = tc_USA / prev.loc['USA', disease] / data.loc['USA','house expend']\n",
    "    data[disease] = const * prev[disease] * data['house expend']\n",
    "# data.to_csv(save_file_name)"
   ]
  },
  {
   "cell_type": "markdown",
   "metadata": {},
   "source": [
    "## Comparison"
   ]
  },
  {
   "cell_type": "code",
   "execution_count": 22,
   "metadata": {},
   "outputs": [],
   "source": [
    "he2021 = df_input_he[['Country Code', '2021']].set_index(\"Country Code\")['2021']\n",
    "he2013 = df_input_he[['Country Code', '2013']].set_index(\"Country Code\")['2013']\n",
    "data_jama_2021 = data\n",
    "data_jama_2021['Diabetes mellitus'] = data_jama_2021['Diabetes mellitus'] * he2021 / he2013\n",
    "data_combine = data_idf.merge(data_jama_2021, how='outer', on='Country Code')\n",
    "data_combine = data_combine.merge(country_names[[\"Country Code\", \"Region\", \"WBCountry\"]], on='Country Code')\n",
    "data_combine = data_combine.set_index([\"Region\", \"WBCountry\"])\n",
    "data_combine = data_combine.sort_index().reset_index()\n",
    "data_combine.to_csv('tmp.csv',index=False)"
   ]
  },
  {
   "cell_type": "code",
   "execution_count": 15,
   "metadata": {},
   "outputs": [
    {
     "data": {
      "text/html": [
       "<div>\n",
       "<style scoped>\n",
       "    .dataframe tbody tr th:only-of-type {\n",
       "        vertical-align: middle;\n",
       "    }\n",
       "\n",
       "    .dataframe tbody tr th {\n",
       "        vertical-align: top;\n",
       "    }\n",
       "\n",
       "    .dataframe thead th {\n",
       "        text-align: right;\n",
       "    }\n",
       "</style>\n",
       "<table border=\"1\" class=\"dataframe\">\n",
       "  <thead>\n",
       "    <tr style=\"text-align: right;\">\n",
       "      <th></th>\n",
       "      <th>Country Code</th>\n",
       "      <th>Region</th>\n",
       "      <th>WBCountry</th>\n",
       "    </tr>\n",
       "  </thead>\n",
       "  <tbody>\n",
       "    <tr>\n",
       "      <th>0</th>\n",
       "      <td>ABW</td>\n",
       "      <td>Latin America &amp; Caribbean</td>\n",
       "      <td>Aruba</td>\n",
       "    </tr>\n",
       "    <tr>\n",
       "      <th>1</th>\n",
       "      <td>AFG</td>\n",
       "      <td>South Asia</td>\n",
       "      <td>Afghanistan</td>\n",
       "    </tr>\n",
       "    <tr>\n",
       "      <th>2</th>\n",
       "      <td>AGO</td>\n",
       "      <td>Sub-Saharan Africa</td>\n",
       "      <td>Angola</td>\n",
       "    </tr>\n",
       "    <tr>\n",
       "      <th>3</th>\n",
       "      <td>AIA</td>\n",
       "      <td>NaN</td>\n",
       "      <td>NaN</td>\n",
       "    </tr>\n",
       "    <tr>\n",
       "      <th>4</th>\n",
       "      <td>ALB</td>\n",
       "      <td>Europe &amp; Central Asia</td>\n",
       "      <td>Albania</td>\n",
       "    </tr>\n",
       "    <tr>\n",
       "      <th>...</th>\n",
       "      <td>...</td>\n",
       "      <td>...</td>\n",
       "      <td>...</td>\n",
       "    </tr>\n",
       "    <tr>\n",
       "      <th>236</th>\n",
       "      <td>XKX</td>\n",
       "      <td>Europe &amp; Central Asia</td>\n",
       "      <td>Kosovo</td>\n",
       "    </tr>\n",
       "    <tr>\n",
       "      <th>237</th>\n",
       "      <td>YEM</td>\n",
       "      <td>Middle East &amp; North Africa</td>\n",
       "      <td>Yemen, Rep.</td>\n",
       "    </tr>\n",
       "    <tr>\n",
       "      <th>238</th>\n",
       "      <td>ZAF</td>\n",
       "      <td>Sub-Saharan Africa</td>\n",
       "      <td>South Africa</td>\n",
       "    </tr>\n",
       "    <tr>\n",
       "      <th>239</th>\n",
       "      <td>ZMB</td>\n",
       "      <td>Sub-Saharan Africa</td>\n",
       "      <td>Zambia</td>\n",
       "    </tr>\n",
       "    <tr>\n",
       "      <th>240</th>\n",
       "      <td>ZWE</td>\n",
       "      <td>Sub-Saharan Africa</td>\n",
       "      <td>Zimbabwe</td>\n",
       "    </tr>\n",
       "  </tbody>\n",
       "</table>\n",
       "<p>241 rows × 3 columns</p>\n",
       "</div>"
      ],
      "text/plain": [
       "    Country Code                      Region     WBCountry\n",
       "0            ABW   Latin America & Caribbean         Aruba\n",
       "1            AFG                  South Asia   Afghanistan\n",
       "2            AGO          Sub-Saharan Africa        Angola\n",
       "3            AIA                         NaN           NaN\n",
       "4            ALB       Europe & Central Asia       Albania\n",
       "..           ...                         ...           ...\n",
       "236          XKX       Europe & Central Asia        Kosovo\n",
       "237          YEM  Middle East & North Africa   Yemen, Rep.\n",
       "238          ZAF          Sub-Saharan Africa  South Africa\n",
       "239          ZMB          Sub-Saharan Africa        Zambia\n",
       "240          ZWE          Sub-Saharan Africa      Zimbabwe\n",
       "\n",
       "[241 rows x 3 columns]"
      ]
     },
     "execution_count": 15,
     "metadata": {},
     "output_type": "execute_result"
    }
   ],
   "source": []
  },
  {
   "cell_type": "code",
   "execution_count": null,
   "metadata": {},
   "outputs": [],
   "source": []
  }
 ],
 "metadata": {
  "interpreter": {
   "hash": "c313004aacb210e2a0b0ec8e97d422a11096aa68fd78b262a7f6f720f4307dc6"
  },
  "kernelspec": {
   "display_name": "Python 3.7.10 64-bit ('base': conda)",
   "name": "python3"
  },
  "language_info": {
   "codemirror_mode": {
    "name": "ipython",
    "version": 3
   },
   "file_extension": ".py",
   "mimetype": "text/x-python",
   "name": "python",
   "nbconvert_exporter": "python",
   "pygments_lexer": "ipython3",
   "version": "3.7.10"
  }
 },
 "nbformat": 4,
 "nbformat_minor": 2
}
