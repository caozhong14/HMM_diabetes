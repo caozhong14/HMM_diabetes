{
 "cells": [
  {
   "cell_type": "code",
   "execution_count": 1,
   "metadata": {},
   "outputs": [],
   "source": [
    "import pandas as pd"
   ]
  },
  {
   "cell_type": "markdown",
   "metadata": {},
   "source": [
    "## IDF Diabetes Atlas 2021"
   ]
  },
  {
   "cell_type": "code",
   "execution_count": 2,
   "metadata": {},
   "outputs": [],
   "source": [
    "## MAIN FUNCTION - input\n",
    "df_input_tc = pd.read_csv('IDF (diabetes-related-health-expenditure-per-person--usd).csv', thousands=',')\n",
    "country_names = pd.read_csv('../../data/dl1_countrycodeorg_country_name.csv')\n",
    "df_input_prev = pd.read_csv('./adjust_prevalence/prevalence.csv')\n",
    "\n",
    "# OUTPUT FILE\n",
    "save_file_name = \"TC_ppp.csv\""
   ]
  },
  {
   "cell_type": "code",
   "execution_count": 3,
   "metadata": {},
   "outputs": [],
   "source": [
    "## Part I, per patient cost\n",
    "for i in range(len(df_input_tc)):\n",
    "    if df_input_tc.loc[i, '2021'] == '-':\n",
    "        df_input_tc.loc[i, '2021'] = df_input_tc.loc[i, '2011']\n",
    "        \n",
    "tc = df_input_tc[['Country/Territory', '2021']]\n",
    "tc = tc.rename(columns = {'Country/Territory':'country', '2021':'Diabetes mellitus'})\n",
    "# tc = tc.set_index(\"countries\")\n",
    "tc.replace({'Taiwan': 'Taiwan (Province of China)', \n",
    "            'State of Palestine': 'Palestine', \n",
    "            'US Virgin Islands': 'United States Virgin Islands'}, inplace = True)\n",
    "\n",
    "tc_code = country_names[[\"Country Code\", \"country\"]].merge(tc, on=\"country\").drop(columns=['country'])\n",
    "tc_code['Diabetes mellitus'] = tc_code['Diabetes mellitus'].str.replace(',', '')\n",
    "tc_code['Diabetes mellitus'] = tc_code['Diabetes mellitus'].str.replace('-', '-0').astype(float)\n",
    "\n",
    "## Part II, per person cost\n",
    "per_patient = tc_code.set_index(\"Country Code\")\n",
    "perv = df_input_prev.set_index(\"Country Code\")\n",
    "\n",
    "data_idf = per_patient * perv / 100000"
   ]
  },
  {
   "cell_type": "code",
   "execution_count": 4,
   "metadata": {},
   "outputs": [],
   "source": [
    "data_idf = data_idf[data_idf['Diabetes mellitus'] > 0]\n",
    "data_idf.to_csv(save_file_name)"
   ]
  },
  {
   "cell_type": "markdown",
   "metadata": {},
   "source": [
    "## JAMA 2016"
   ]
  },
  {
   "cell_type": "code",
   "execution_count": 5,
   "metadata": {},
   "outputs": [],
   "source": [
    "## MAIN FUNCTION - input\n",
    "\n",
    "## INPUT FILE\n",
    "PPP = True\n",
    "# PPP = False\n",
    "if PPP:\n",
    "    df_input_he = pd.read_csv('../health_expenditure/hepc_ppp.csv')\n",
    "else:\n",
    "    df_input_he = pd.read_csv('../health_expenditure/hepc.csv')\n",
    "df_input_prev = pd.read_csv('./adjust_prevalence/prevalence.csv')\n",
    "df_input_USA_TC = pd.read_csv('TC_USA.csv')\n",
    "\n",
    "## OUTPUT FILE\n",
    "# 'tmp.csv'"
   ]
  },
  {
   "cell_type": "code",
   "execution_count": 6,
   "metadata": {},
   "outputs": [],
   "source": [
    "he = df_input_he[['Country Code', '2013']]\n",
    "he = he.set_index(\"Country Code\")\n",
    "he = he.rename(columns = {'2013':'house expend'})\n",
    "he_merge = he.merge(df_input_prev, on='Country Code')\n",
    "he_merge = he_merge[[\"Country Code\", \"house expend\"]]\n",
    "\n",
    "data = he_merge.set_index(\"Country Code\")\n",
    "prev = df_input_prev.set_index(\"Country Code\")"
   ]
  },
  {
   "cell_type": "code",
   "execution_count": 7,
   "metadata": {},
   "outputs": [],
   "source": [
    "for i in range(len(df_input_USA_TC['disease'])):\n",
    "    disease = df_input_USA_TC.loc[i, 'disease']\n",
    "    tc_USA = data.loc['USA','house expend'] * df_input_USA_TC.loc[i, 'TC_USA'] / 2100.1\n",
    "    const = tc_USA / prev.loc['USA', disease] / data.loc['USA','house expend']\n",
    "    data[disease] = const * prev[disease] * data['house expend']\n",
    "# data.to_csv(save_file_name)"
   ]
  },
  {
   "cell_type": "markdown",
   "metadata": {},
   "source": [
    "## Comparison"
   ]
  },
  {
   "cell_type": "code",
   "execution_count": 8,
   "metadata": {},
   "outputs": [],
   "source": [
    "he2021 = df_input_he[['Country Code', '2021']].set_index(\"Country Code\")['2021']\n",
    "he2013 = df_input_he[['Country Code', '2013']].set_index(\"Country Code\")['2013']\n",
    "data_jama_2021 = data\n",
    "data_jama_2021['Diabetes mellitus'] = data_jama_2021['Diabetes mellitus'] * he2021 / he2013\n",
    "data_combine = data_idf.merge(data_jama_2021, how='outer', on='Country Code')\n",
    "data_combine.to_csv('tmp.csv')"
   ]
  }
 ],
 "metadata": {
  "interpreter": {
   "hash": "c313004aacb210e2a0b0ec8e97d422a11096aa68fd78b262a7f6f720f4307dc6"
  },
  "kernelspec": {
   "display_name": "Python 3.7.10 64-bit ('base': conda)",
   "name": "python3"
  },
  "language_info": {
   "codemirror_mode": {
    "name": "ipython",
    "version": 3
   },
   "file_extension": ".py",
   "mimetype": "text/x-python",
   "name": "python",
   "nbconvert_exporter": "python",
   "pygments_lexer": "ipython3",
   "version": "3.7.10"
  }
 },
 "nbformat": 4,
 "nbformat_minor": 2
}
