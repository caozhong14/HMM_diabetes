{
 "cells": [
  {
   "cell_type": "code",
   "execution_count": 1,
   "metadata": {},
   "outputs": [],
   "source": [
    "import pandas as pd"
   ]
  },
  {
   "cell_type": "code",
   "execution_count": 2,
   "metadata": {},
   "outputs": [],
   "source": [
    "## MAIN FUNCTION - input\n",
    "\n",
    "## INPUT FILE\n",
    "df = pd.read_csv('IHME_prevalence.csv')\n",
    "\n",
    "\n",
    "country_names = pd.read_csv('../../../data/dl1_countrycodeorg_country_name.csv')\n",
    "codemap = dict(zip(country_names['Country Code'], country_names.country))\n",
    "countries = country_names['country'].unique() # 146\n",
    "\n",
    "## OUTPUT FILE\n",
    "save_file_name = \"prevalence.csv\""
   ]
  },
  {
   "cell_type": "code",
   "execution_count": 3,
   "metadata": {},
   "outputs": [
    {
     "name": "stdout",
     "output_type": "stream",
     "text": [
      "205 204\n",
      "[]\n"
     ]
    }
   ],
   "source": [
    "print(len(countries), len(df['location'].unique()))\n",
    "set_miss = set(df['location'].unique()) - set(countries)\n",
    "print(sorted(list(set_miss)))"
   ]
  },
  {
   "cell_type": "code",
   "execution_count": 4,
   "metadata": {},
   "outputs": [],
   "source": [
    "df = df[df['year']==2019]\n",
    "df = df.rename(columns={'location':'country'})\n",
    "cn = country_names[[\"Country Code\", \"country\"]]\n",
    "df = df.merge(cn, on='country',how='inner')\n",
    "df = df[['Country Code','cause','val']]\n",
    "data = pd.pivot_table(df, columns='cause',values='val',index=['Country Code'])\n",
    "data.to_csv(save_file_name)"
   ]
  },
  {
   "cell_type": "code",
   "execution_count": null,
   "metadata": {},
   "outputs": [],
   "source": []
  }
 ],
 "metadata": {
  "interpreter": {
   "hash": "c313004aacb210e2a0b0ec8e97d422a11096aa68fd78b262a7f6f720f4307dc6"
  },
  "kernelspec": {
   "display_name": "Python 3.7.10 64-bit ('base': conda)",
   "name": "python3"
  },
  "language_info": {
   "codemirror_mode": {
    "name": "ipython",
    "version": 3
   },
   "file_extension": ".py",
   "mimetype": "text/x-python",
   "name": "python",
   "nbconvert_exporter": "python",
   "pygments_lexer": "ipython3",
   "version": "3.7.10"
  }
 },
 "nbformat": 4,
 "nbformat_minor": 2
}
