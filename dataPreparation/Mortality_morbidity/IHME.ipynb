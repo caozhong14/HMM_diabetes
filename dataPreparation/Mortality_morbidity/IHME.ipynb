{
 "cells": [
  {
   "cell_type": "code",
   "execution_count": 1,
   "metadata": {},
   "outputs": [],
   "source": [
    "import pandas as pd\n",
    "from os import listdir\n",
    "from zipfile import ZipFile\n"
   ]
  },
  {
   "cell_type": "markdown",
   "metadata": {},
   "source": [
    "# Process the download data\n",
    "## read and merge zipped files"
   ]
  },
  {
   "cell_type": "code",
   "execution_count": 2,
   "metadata": {},
   "outputs": [],
   "source": [
    "def find_zip_filenames( path_to_dir, suffix=\".zip\" ):\n",
    "    filenames = listdir(path_to_dir)\n",
    "    return [filename for filename in filenames if filename.endswith( suffix ) ]"
   ]
  },
  {
   "cell_type": "code",
   "execution_count": 3,
   "metadata": {},
   "outputs": [],
   "source": [
    "def change_df_columnnames(df): # change columnnames if download data with id and names\n",
    "    new_col = [col.split(\"_\")[0] if col.split(\"_\")[-1] == \"name\" else col for col in df.columns]\n",
    "    df.columns = new_col\n",
    "    del_col = [col for col in df.columns if col.split(\"_\")[-1] == \"id\"]\n",
    "    df_new = df.drop(columns=del_col)\n",
    "    return df_new"
   ]
  },
  {
   "cell_type": "code",
   "execution_count": 4,
   "metadata": {},
   "outputs": [
    {
     "name": "stdout",
     "output_type": "stream",
     "text": [
      "IHME-GBD_2019_DATA-0862adbd-1.zip IHME-GBD_2019_DATA-96f16e6b-1.zip\n",
      "IHME-GBD_2019_DATA-178ef5e8-1.zip IHME-GBD_2019_DATA-dca0b348-1.zip\n",
      "IHME-GBD_2019_DATA-1844a1c6-1.zip IHME-GBD_2019_DATA-f11c19de-1.zip\n",
      "IHME-GBD_2019_DATA-5d5cdf1d-1.zip IHME-GBD_2019_DATA-f2ec3a9c-1.zip\n",
      "IHME-GBD_2019_DATA-74788d53-1.zip javascript.level3\n",
      "IHME-GBD_2019_DATA-8a8e36bd-1.zip\n"
     ]
    }
   ],
   "source": [
    "!ls ../../bigdata/level3_diabetes_zipped_data"
   ]
  },
  {
   "cell_type": "code",
   "execution_count": 5,
   "metadata": {},
   "outputs": [
    {
     "name": "stdout",
     "output_type": "stream",
     "text": [
      "0\n",
      "117504\n",
      "117504\n",
      "117504\n",
      "117504\n",
      "117504\n",
      "117504\n",
      "117504\n",
      "117504\n",
      "117504\n",
      "117504\n"
     ]
    }
   ],
   "source": [
    "# file_dir = './Level Three Zipped Data/'\n",
    "file_dir = '../../bigdata/level3_diabetes_zipped_data/'\n",
    "files = find_zip_filenames(file_dir)\n",
    "## time\n",
    "MAXSIZE = 1\n",
    "for i in range(0, MAXSIZE, 1):\n",
    "    print(i)\n",
    "    pieces = []\n",
    "    for file in files[i*100: min(i*100+100, len(files))]:\n",
    "        zip_file = ZipFile(file_dir + file)\n",
    "        csv_file = [text_file.filename for text_file in zip_file.infolist() if text_file.filename.endswith('.csv')][0]\n",
    "        df = pd.read_csv(zip_file.open(csv_file))\n",
    "        print(len(df))\n",
    "        df = change_df_columnnames(df)\n",
    "        pieces.append(df)\n",
    "    df = pd.concat(pieces)\n",
    "    df.to_parquet('../../bigdata/piece%s.parquet'%i)  \n",
    "    del df, pieces"
   ]
  },
  {
   "cell_type": "code",
   "execution_count": 6,
   "metadata": {},
   "outputs": [],
   "source": [
    "# ages_to_use = ['Under 5', '5 to 9', '10 to 14', '15 to 19', '20 to 24',\n",
    "#        '25 to 29', '30 to 34', '35 to 39', '40 to 44', '45 to 49',\n",
    "#        '50 to 54', '55 to 59', '60 to 64', '65 to 69', '70 to 74',\n",
    "#        '75 to 79', '80 to 84', '85 to 89', '90 to 94',\n",
    "#        '95 plus']\n",
    "\n",
    "ages_to_use = ['Under 5', '5 to 9', '10 to 14', '15 to 19', '20 to 24',\n",
    "       '25 to 29', '30 to 34', '35 to 39', '40 to 44', '45 to 49',\n",
    "       '50 to 54', '55 to 59', '60 to 64', '65 to 69', '70 to 74',\n",
    "       '75 plus']"
   ]
  },
  {
   "cell_type": "markdown",
   "metadata": {},
   "source": [
    "# get level 3 data "
   ]
  },
  {
   "cell_type": "code",
   "execution_count": 7,
   "metadata": {},
   "outputs": [],
   "source": [
    "data_folder = '../../bigdata/data_diabetes/'\n",
    "if not os.path.exists(data_folder):\n",
    "    os.makedirs(data_folder)"
   ]
  },
  {
   "cell_type": "code",
   "execution_count": 8,
   "metadata": {},
   "outputs": [
    {
     "name": "stdout",
     "output_type": "stream",
     "text": [
      "piece0.parquet\n"
     ]
    }
   ],
   "source": [
    "# get cause\n",
    "causes_to_use = [\"Diabetes mellitus\"]\n",
    "\n",
    "file_dir = '../../bigdata/'\n",
    "files = find_zip_filenames(file_dir, suffix='.parquet')\n",
    "pieces = []\n",
    "for file in files:\n",
    "    print(file)\n",
    "    df = pd.read_parquet(file_dir+file)\n",
    "    # df = df[df['cause'].isin(causes_to_use)]\n",
    "    df = df[df['age'].isin(ages_to_use)]\n",
    "    df = df[df['year']>=2010]\n",
    "    pieces.append(df)\n",
    "df = pd.concat(pieces)"
   ]
  },
  {
   "cell_type": "code",
   "execution_count": 9,
   "metadata": {},
   "outputs": [
    {
     "name": "stdout",
     "output_type": "stream",
     "text": [
      "Index(['measure', 'location', 'sex', 'age', 'cause', 'metric', 'year', 'val',\n",
      "       'upper', 'lower'],\n",
      "      dtype='object') 1175040\n"
     ]
    }
   ],
   "source": [
    "print(df.columns, len(df))"
   ]
  },
  {
   "cell_type": "markdown",
   "metadata": {},
   "source": [
    "## convert IHME country names to WB codes"
   ]
  },
  {
   "cell_type": "code",
   "execution_count": 10,
   "metadata": {},
   "outputs": [],
   "source": [
    "# change the name from world bank names to common names\n",
    "countries = pd.read_csv('../../data/dl1_countrycodeorg_country_name.csv')\n",
    "code_map = dict(zip(countries.country, countries['Country Code'])) \n",
    "# df = df[df['location'].isin(countries.country)]\n",
    "# df['location'] = df['location'].apply(lambda x:country_map[x])\n",
    "df['Country Code'] = df['location'].apply(lambda x:code_map[x])\n",
    "df.to_csv(data_folder+'IHME_p_details.csv',index=False)"
   ]
  },
  {
   "cell_type": "markdown",
   "metadata": {},
   "source": [
    "# RUN MAIN FUNCTION FROM HERE \n",
    "## process the raw data"
   ]
  },
  {
   "cell_type": "code",
   "execution_count": 11,
   "metadata": {},
   "outputs": [
    {
     "name": "stdout",
     "output_type": "stream",
     "text": [
      "1175040\n",
      "391680\n",
      "Please calculate the numbers and verify!\n",
      "342720\n"
     ]
    }
   ],
   "source": [
    "## MAIN FUNCTION - input\n",
    "## OUTPUT FILE\n",
    "data_folder = '../../bigdata/data_diabetes/'\n",
    "\n",
    "## INPUT FILE\n",
    "df = pd.read_csv(data_folder+'IHME_p_details.csv')\n",
    "\n",
    "# pop_data = pd.read_csv('../population_labor/UNDP/population_final.csv')\n",
    "# pop_data = pd.read_csv('../../data/population_final.csv')\n",
    "countries_pri = pd.read_csv('../../data/dl1_countrycodeorg_country_name.csv')\n",
    "\n",
    "\n",
    "# # map of ages to dx+\n",
    "ages = {'Under 5': 'd0', '5 to 9': 'd5', '10 to 14': 'd10', '15 to 19': 'd15', \n",
    "        '20 to 24': 'd20', '25 to 29': 'd25', '30 to 34': 'd30', '35 to 39': 'd35', \n",
    "        '40 to 44': 'd40', '45 to 49': 'd45', '50 to 54': 'd50', '55 to 59': 'd55', \n",
    "        '60 to 64': 'd60', '65 to 69': 'd65', '70 to 74': 'd65', '75 plus': 'd65'}\n",
    "\n",
    "# ages = {    'Under 5': 'd0',   '5 to 9': 'd05', '10 to 14': 'd10', '15 to 19': 'd15'\n",
    "#         , '20 to 24': 'd20', '25 to 29': 'd25', '30 to 34': 'd30', '35 to 39': 'd35'\n",
    "#         , '40 to 44': 'd40', '45 to 49': 'd45', '50 to 54': 'd50', '55 to 59': 'd55'\n",
    "#         , '60 to 64': 'd60', '65 to 69': 'd65', '70 to 74': 'd70', '75 to 79': 'd75'\n",
    "#         , '80 to 84': 'd80', '85 to 89': 'd85', '90 to 94': 'd90', '95 plus': 'd95' }\n",
    "## Process \n",
    "print(len(df))\n",
    "df = df[df['metric']=='Rate']\n",
    "df['sex'].replace(to_replace='Female', value='F', inplace=True)\n",
    "df['sex'].replace(to_replace='Male', value='M', inplace=True)\n",
    "df = df[df['age'] != 'All Ages']\n",
    "df = df[df['sex'] != 'Both']\n",
    "df['age'] = df['age'].apply(lambda x: ages[x])\n",
    "df = df.rename(columns={\"cause\": \"disease\"})\n",
    "print(len(df)) ##\n",
    "print('Please calculate the numbers and verify!')\n",
    "gb = df.groupby(['measure', 'location', 'sex', 'age', 'disease', 'metric', 'year', 'Country Code']).sum()\n",
    "print(len(gb))\n",
    "df = gb.reset_index()"
   ]
  },
  {
   "cell_type": "code",
   "execution_count": 12,
   "metadata": {},
   "outputs": [
    {
     "name": "stdout",
     "output_type": "stream",
     "text": [
      "2019\n",
      "Index(['measure', 'location', 'sex', 'age', 'disease', 'metric', 'year',\n",
      "       'Country Code', 'val', 'upper', 'lower'],\n",
      "      dtype='object')\n",
      "['DALYs (Disability-Adjusted Life Years)' 'Deaths' 'Incidence'\n",
      " 'Prevalence' 'YLDs (Years Lived with Disability)'\n",
      " 'YLLs (Years of Life Lost)']\n",
      "6\n",
      "204\n",
      "204\n",
      "1\n",
      "14\n",
      "10\n",
      "342720 342720\n"
     ]
    }
   ],
   "source": [
    "diseases = sorted(list(df['disease'].unique()))\n",
    "\n",
    "countrymap = dict(zip(countries_pri.country, countries_pri['Country Code'])) \n",
    "codemap = dict(zip(countries_pri['Country Code'], countries_pri.country)) \n",
    "countries = df['Country Code'].unique()\n",
    "\n",
    "# this the latest year of data available, should be updated if it changes.\n",
    "latest_year_available = max(df[\"year\"]) # 2019\n",
    "print (latest_year_available)\n",
    "\n",
    "print(df.columns)\n",
    "print(df['measure'].unique())\n",
    "print(len(df['measure'].unique()))\n",
    "print(len(countries))\n",
    "print(len(df['Country Code'].unique()))\n",
    "print(len(df['disease'].unique()))\n",
    "print(len(df['age'].unique()))\n",
    "print(len(df['year'].unique()))\n",
    "l, m = len(df), len(df['measure'].unique()) * len(df['Country Code'].unique()) * len(df['disease'].unique()) * len(df['age'].unique()) * len(df['year'].unique()) * len(df['sex'].unique())\n",
    "print(l, m)\n"
   ]
  },
  {
   "cell_type": "code",
   "execution_count": 13,
   "metadata": {},
   "outputs": [
    {
     "data": {
      "text/plain": [
       "(measure         YLLs (Years of Life Lost)\n",
       " location                         Zimbabwe\n",
       " sex                                     M\n",
       " age                                   d65\n",
       " disease                 Diabetes mellitus\n",
       " metric                               Rate\n",
       " year                                 2019\n",
       " Country Code                          ZWE\n",
       " val                         242541.846466\n",
       " upper                       252506.687775\n",
       " lower                       232834.137905\n",
       " dtype: object,\n",
       " measure         DALYs (Disability-Adjusted Life Years)\n",
       " location                                   Afghanistan\n",
       " sex                                                  F\n",
       " age                                                 d0\n",
       " disease                              Diabetes mellitus\n",
       " metric                                            Rate\n",
       " year                                              2010\n",
       " Country Code                                       AFG\n",
       " val                                            0.00657\n",
       " upper                                         0.008819\n",
       " lower                                          0.00002\n",
       " dtype: object)"
      ]
     },
     "execution_count": 13,
     "metadata": {},
     "output_type": "execute_result"
    }
   ],
   "source": [
    "df.max(), df.min()"
   ]
  },
  {
   "cell_type": "markdown",
   "metadata": {},
   "source": [
    "# get  mortality"
   ]
  },
  {
   "cell_type": "code",
   "execution_count": 14,
   "metadata": {},
   "outputs": [],
   "source": [
    "def get_IHME(df):\n",
    "    dff = pd.pivot_table(df, columns=['year'], index=['measure', 'disease', 'Country Code', 'sex', 'age'], values=scen)\n",
    "    # dff = dff.T.interpolate(limit_direction='both').T\n",
    "    # exp = dff[2019] / dff[2010]\n",
    "    # exp = exp.apply(lambda x: pow(x, 1.0 / (2019-2010)))\n",
    "    # print('The max and min rate is', exp.max(), exp.min())\n",
    "    # for year in range(2019+1, 2051, 1):\n",
    "    #     dff[year] = dff[year - 1] * exp\n",
    "    exp = dff[2019] / dff[2010]\n",
    "    exp[exp > 1.13] = 1.13\n",
    "    exp[exp < 0.87] = 0.87\n",
    "    # print(exp)\n",
    "    exp = exp.apply(lambda x: pow(x, 1.0 / (2019-2010)))\n",
    "    print('The max and min rate is', exp.max(), exp.min())\n",
    "    for year in range(2019+1, 2051, 1):\n",
    "        dff[year] = dff[year - 1] * exp\n",
    "    # dff = dff.fillna(0)\n",
    "    dff = dff / 100000\n",
    "    return dff\n",
    "\n",
    "def get_index(dff):\n",
    "    df_indexes = dff.reset_index()\n",
    "    measures = df_indexes['measure'].unique()\n",
    "    diseases = df_indexes['disease'].unique()\n",
    "    countries = df_indexes['Country Code'].unique()\n",
    "    sexes = df_indexes['sex'].unique()\n",
    "    ages = df_indexes['age'].unique()\n",
    "    sesies_index = pd.MultiIndex.from_product([measures, diseases, countries, sexes, ages]) \n",
    "    sesies_index = sesies_index.set_names(['measure', 'disease', 'Country Code', 'sex', 'age'])  \n",
    "    return sesies_index\n",
    "    \n",
    "def save_IHME(dff):\n",
    "    dff.loc['Incidence'].reset_index().to_csv(data_folder + '/incidence_%s.csv'%(scen), index=False)\n",
    "    dff.loc['Prevalence'].reset_index().to_csv(data_folder + '/prevalence_%s.csv'%(scen), index=False)\n",
    "    dff.loc['Deaths'].reset_index().to_csv(data_folder + '/mortality_%s.csv'%(scen), index=False)\n",
    "    dff.loc['DALYs (Disability-Adjusted Life Years)'].reset_index().to_csv(data_folder + '/DALY_%s.csv'%(scen), index=False)\n",
    "    YLL = dff.loc['YLLs (Years of Life Lost)']\n",
    "    YLD = dff.loc['YLDs (Years Lived with Disability)']\n",
    "    YLL.reset_index().to_csv(data_folder + '/YLL_%s.csv'%(scen), index=False)\n",
    "    YLD.reset_index().to_csv(data_folder + '/YLD_%s.csv'%(scen), index=False)\n",
    "    MORBIDITY = YLD / YLL\n",
    "    MORBIDITY = MORBIDITY.fillna(0)\n",
    "    MORBIDITY.reset_index().to_csv(data_folder + '/morbidity_%s.csv'%(scen), index=False)\n"
   ]
  },
  {
   "cell_type": "code",
   "execution_count": 15,
   "metadata": {},
   "outputs": [
    {
     "name": "stdout",
     "output_type": "stream",
     "text": [
      "val\n",
      "The max and min rate is 1.0136723603897777 0.9846455374452312\n",
      "The counts of data: 34272\n",
      "lower\n",
      "The max and min rate is 1.0136723603897777 0.9846455374452312\n",
      "The counts of data: 34272\n",
      "upper\n",
      "The max and min rate is 1.0136723603897777 0.9846455374452312\n",
      "The counts of data: 34272\n"
     ]
    }
   ],
   "source": [
    "for scen in ['val', 'lower', 'upper']:\n",
    "    print (scen)\n",
    "    dff = get_IHME(df)\n",
    "    # full_index = get_index(dff)\n",
    "    # dff_full = dff.reindex(full_index, fill_value=0)\n",
    "    dff_full = dff\n",
    "    print('The counts of data:',len(dff_full))\n",
    "    save_IHME(dff_full)"
   ]
  }
 ],
 "metadata": {
  "interpreter": {
   "hash": "c313004aacb210e2a0b0ec8e97d422a11096aa68fd78b262a7f6f720f4307dc6"
  },
  "kernelspec": {
   "display_name": "Python 3.7.10 64-bit ('base': conda)",
   "name": "python3"
  },
  "language_info": {
   "codemirror_mode": {
    "name": "ipython",
    "version": 3
   },
   "file_extension": ".py",
   "mimetype": "text/x-python",
   "name": "python",
   "nbconvert_exporter": "python",
   "pygments_lexer": "ipython3",
   "version": "3.7.10"
  }
 },
 "nbformat": 4,
 "nbformat_minor": 2
}
