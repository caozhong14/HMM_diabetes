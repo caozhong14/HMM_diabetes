{
 "cells": [
  {
   "cell_type": "code",
   "execution_count": 1,
   "metadata": {},
   "outputs": [],
   "source": [
    "import pandas as pd\n",
    "import os\n",
    "import numpy as np"
   ]
  },
  {
   "cell_type": "code",
   "execution_count": 2,
   "metadata": {},
   "outputs": [
    {
     "name": "stdout",
     "output_type": "stream",
     "text": [
      "204 216\n"
     ]
    }
   ],
   "source": [
    "country_names = pd.read_csv('data/dl1_countrycodeorg_country_name.csv')\n",
    "GBD_countries = sorted(country_names[country_names[\"country\"].notna()]['Country Code'])\n",
    "WB_countries = sorted(country_names[country_names[\"WBCountry\"].notna()]['Country Code'])\n",
    "print(len(GBD_countries), len(WB_countries))"
   ]
  },
  {
   "cell_type": "code",
   "execution_count": 3,
   "metadata": {},
   "outputs": [
    {
     "name": "stdout",
     "output_type": "stream",
     "text": [
      "['GDP_ppp.csv', 'TC_ppp.csv', 'education_filled.csv', 'hepc_ppp.csv', 'laborparticipation_final.csv', 'physical_ppp.csv', 'population_un.csv', 'savings.csv'] [187, 190, 216, 182, 283, 167, 201, 215]\n",
      "143\n"
     ]
    }
   ],
   "source": [
    "sets_touse = []\n",
    "# filelist = os.listdir('./')\n",
    "# filelist = [file  for file in filelist if file.endswith('.csv')]\n",
    "# filelist.remove('alpha.csv')\n",
    "# filelist.remove('gd.csv')\n",
    "# # filelist.remove('country_touse.csv')\n",
    "# filelist = sorted(filelist)\n",
    "# print(filelist)\n",
    "PPP = True\n",
    "\n",
    "filelist = ['GDP_ppp.csv', 'TC_ppp.csv', 'education_filled.csv', 'hepc_ppp.csv', 'laborparticipation_final.csv', 'physical_ppp.csv', 'population_un.csv', 'savings.csv']\n",
    "\n",
    "savefile = 'country_touse_ppp.csv'\n",
    "savefile_identify = 'country_indentify_ppp.csv'\n",
    "\n",
    "df_identify = pd.DataFrame()\n",
    "df_identify['Country Code'] = GBD_countries\n",
    "df_identify = df_identify.merge(country_names[['Country Code', 'country', 'WBCountry', 'Region']], on='Country Code')\n",
    "sets_touse = []\n",
    "for file in filelist:\n",
    "    df = pd.read_csv(os.path.join('data',file))\n",
    "    countries = df['Country Code'].unique()\n",
    "    df_identify[file] = df_identify['Country Code'].isin(countries)\n",
    "    sets_touse.append(set(countries))\n",
    "lens = [len(countries) for countries in sets_touse]\n",
    "print(filelist, lens)\n",
    "country_to_use = set.intersection(*sets_touse)\n",
    "df = pd.DataFrame()\n",
    "df['Country Code'] = sorted(list(country_to_use))\n",
    "# df.to_csv(savefile,index=False)\n",
    "# df_identify.to_csv(savefile_identify, index=False)\n",
    "print(len(df))"
   ]
  },
  {
   "cell_type": "code",
   "execution_count": 4,
   "metadata": {},
   "outputs": [],
   "source": [
    "\n",
    "df_missing = df_identify.copy()\n",
    "df_missing = df_missing.replace(True, np.nan).set_index(['Region',  'country', 'WBCountry', 'Country Code'])\n",
    "df_missing = df_missing.sort_index()\n",
    "df_missing.dropna(inplace=True, how='all')\n",
    "df_missing = df_missing.replace(False, 'X')"
   ]
  },
  {
   "cell_type": "code",
   "execution_count": 5,
   "metadata": {},
   "outputs": [],
   "source": [
    "df_missing.to_csv('Missingdata.csv')"
   ]
  },
  {
   "cell_type": "code",
   "execution_count": 9,
   "metadata": {},
   "outputs": [],
   "source": [
    "def get_table_by_region(df):\n",
    "    projectStartYear, endyear = 2020, 2051\n",
    "    discount, informal = 0.02, 0.11\n",
    "    country_file = 'data/dl1_countrycodeorg_country_name.csv'\n",
    "    countries = pd.read_csv(country_file)[['Country Code', 'Region', 'Income group']]\n",
    "    countryinfofile = 'tmpresults/countryinfo.csv'\n",
    "    countryinfo = pd.read_csv(countryinfofile)\n",
    "    countryinfo['totalGDP'] = countryinfo['totalGDPD0'] * (discount == 0) \\\n",
    "                             + countryinfo['totalGDPD2'] * (discount == 0.02) \\\n",
    "                             + countryinfo['totalGDPD3'] * (discount == 0.03)\n",
    "    \n",
    "    df_table = df[(df['discount'] == discount) & (df['informal'] == informal)]\n",
    "    df_table = df_table.merge(countries, on='Country Code').merge(countryinfo, on='Country Code')\n",
    "    print ('confirms the lens of table ', len(df_table))  \n",
    "    group1 = df_table.groupby(['Region', 'scenario']).sum().reset_index()\n",
    "    group1['By regions'] = group1['Region'] \n",
    "    group2 = df_table.groupby(['Income group', 'scenario']).sum().reset_index()\n",
    "    group2['By regions'] = group2['Income group'] \n",
    "    group3 = df_table.groupby('scenario').sum().reset_index()\n",
    "    group3['By regions'] = 'Total'\n",
    "\n",
    "    df1 = pd.concat([group1, group2, group3])\n",
    "    df1['tax']  = df1['GDPloss'] / df1['totalGDP'] * 1000000000\n",
    "    df1['pc_loss'] = df1['GDPloss'] / df1['totalPOP'] * (endyear - projectStartYear) * 1000000000\n",
    "\n",
    "    df1['GDPloss'] = df1.apply(lambda x: format(round(x['GDPloss']), ','), axis=1)\n",
    "    df1['tax'] = df1.apply(lambda x: format(x['tax'], '.3%'), axis=1)\n",
    "    df1['pc_loss'] = df1.apply(lambda x: format(round(x['pc_loss']), ','), axis=1)\n",
    "    df1 = df1[['By regions', 'scenario', 'GDPloss', 'tax', 'pc_loss']]\n",
    "\n",
    "    val = df1[df1['scenario'] == 'val']\n",
    "    lower = df1[df1['scenario'] == 'lower']\n",
    "    upper = df1[df1['scenario'] == 'upper']\n",
    "    df = val.merge(upper,on='By regions',suffixes=('', '_upper'))\n",
    "    df= df.merge(lower,on='By regions',suffixes=('', '_lower'))\n",
    "\n",
    "    data = df.copy()\n",
    "    data['Economic cost in billions of 2017 INT$'] = data.apply(lambda x: '{}({}-{})'.format(x['GDPloss'], x['GDPloss_lower'], x['GDPloss_upper']), axis=1)\n",
    "    data['Percentage of total GDP in 2020-2050'] = data.apply(lambda x: '{}({}-{})'.format(x['tax'], x['tax_lower'], x['tax_upper']), axis=1)\n",
    "    data['Per capita loss in 2017 INT $'] = data.apply(lambda x: '{}({}-{})'.format(x['pc_loss'], x['pc_loss_lower'], x['pc_loss_upper']), axis=1)\n",
    "    data = data[['By regions', 'Economic cost in billions of 2017 INT$', 'Percentage of total GDP in 2020-2050','Per capita loss in 2017 INT $']]\n",
    "    data.to_csv('tables/Table2_i11d2.csv',index=False)\n",
    "    return 0"
   ]
  },
  {
   "cell_type": "code",
   "execution_count": null,
   "metadata": {},
   "outputs": [],
   "source": []
  },
  {
   "cell_type": "code",
   "execution_count": 12,
   "metadata": {},
   "outputs": [
    {
     "name": "stdout",
     "output_type": "stream",
     "text": [
      "confirms the lens of table  612\n"
     ]
    },
    {
     "data": {
      "text/plain": [
       "0"
      ]
     },
     "execution_count": 12,
     "metadata": {},
     "output_type": "execute_result"
    }
   ],
   "source": [
    "import pandas as pd\n",
    "df_input = pd.read_csv('results/aggregate_results_imputed.csv')\n",
    "ConsiderTC,ConsiderMB,informal,discount = 1,1,0.11, 0.02\n",
    "df = df_input[(df_input['discount']==discount)&\n",
    "                (df_input['ConsiderTC']==ConsiderTC)&\n",
    "                (df_input['ConsiderMB']==ConsiderMB)&\n",
    "                (df_input['informal']==informal)]\n",
    "get_table_by_region(df)"
   ]
  },
  {
   "cell_type": "markdown",
   "metadata": {},
   "source": [
    "GBD_countries"
   ]
  }
 ],
 "metadata": {
  "interpreter": {
   "hash": "0d91d8949c2ca5c58054151070c524aee125a3ba79b1f1190e6cdb85ab1c4234"
  },
  "kernelspec": {
   "display_name": "Python 3.7.10 ('base')",
   "language": "python",
   "name": "python3"
  },
  "language_info": {
   "codemirror_mode": {
    "name": "ipython",
    "version": 3
   },
   "file_extension": ".py",
   "mimetype": "text/x-python",
   "name": "python",
   "nbconvert_exporter": "python",
   "pygments_lexer": "ipython3",
   "version": "3.7.10"
  },
  "orig_nbformat": 4
 },
 "nbformat": 4,
 "nbformat_minor": 2
}
