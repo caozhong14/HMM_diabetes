{
 "cells": [
  {
   "cell_type": "code",
   "execution_count": 72,
   "metadata": {},
   "outputs": [],
   "source": [
    "import pandas as pd\n",
    "import os\n",
    "import numpy as np"
   ]
  },
  {
   "cell_type": "code",
   "execution_count": 73,
   "metadata": {},
   "outputs": [
    {
     "name": "stdout",
     "output_type": "stream",
     "text": [
      "204 216\n"
     ]
    }
   ],
   "source": [
    "country_names = pd.read_csv('data/dl1_countrycodeorg_country_name.csv')\n",
    "GBD_countries = sorted(country_names[country_names[\"country\"].notna()]['Country Code'])\n",
    "WB_countries = sorted(country_names[country_names[\"WBCountry\"].notna()]['Country Code'])\n",
    "print(len(GBD_countries), len(WB_countries))"
   ]
  },
  {
   "cell_type": "code",
   "execution_count": 74,
   "metadata": {},
   "outputs": [
    {
     "name": "stdout",
     "output_type": "stream",
     "text": [
      "['GDP_ppp.csv', 'TC_ppp.csv', 'education_filled.csv', 'hepc_ppp.csv', 'laborparticipation_final.csv', 'physical_ppp.csv', 'population_un.csv', 'savings.csv'] [187, 190, 216, 182, 283, 167, 201, 215]\n",
      "143\n"
     ]
    }
   ],
   "source": [
    "sets_touse = []\n",
    "# filelist = os.listdir('./')\n",
    "# filelist = [file  for file in filelist if file.endswith('.csv')]\n",
    "# filelist.remove('alpha.csv')\n",
    "# filelist.remove('gd.csv')\n",
    "# # filelist.remove('country_touse.csv')\n",
    "# filelist = sorted(filelist)\n",
    "# print(filelist)\n",
    "PPP = True\n",
    "\n",
    "filelist = ['GDP_ppp.csv', 'TC_ppp.csv', 'education_filled.csv', 'hepc_ppp.csv', 'laborparticipation_final.csv', 'physical_ppp.csv', 'population_un.csv', 'savings.csv']\n",
    "\n",
    "savefile = 'country_touse_ppp.csv'\n",
    "savefile_identify = 'country_indentify_ppp.csv'\n",
    "\n",
    "df_identify = pd.DataFrame()\n",
    "df_identify['Country Code'] = GBD_countries\n",
    "df_identify = df_identify.merge(country_names[['Country Code', 'country', 'WBCountry', 'Region']], on='Country Code')\n",
    "sets_touse = []\n",
    "for file in filelist:\n",
    "    df = pd.read_csv(os.path.join('data',file))\n",
    "    countries = df['Country Code'].unique()\n",
    "    df_identify[file] = df_identify['Country Code'].isin(countries)\n",
    "    sets_touse.append(set(countries))\n",
    "lens = [len(countries) for countries in sets_touse]\n",
    "print(filelist, lens)\n",
    "country_to_use = set.intersection(*sets_touse)\n",
    "df = pd.DataFrame()\n",
    "df['Country Code'] = sorted(list(country_to_use))\n",
    "# df.to_csv(savefile,index=False)\n",
    "# df_identify.to_csv(savefile_identify, index=False)\n",
    "print(len(df))"
   ]
  },
  {
   "cell_type": "code",
   "execution_count": 77,
   "metadata": {},
   "outputs": [],
   "source": [
    "\n",
    "df_missing = df_identify.copy()\n",
    "df_missing = df_missing.replace(True, np.nan).set_index(['Region',  'country', 'WBCountry', 'Country Code'])\n",
    "df_missing = df_missing.sort_index()\n",
    "df_missing.dropna(inplace=True, how='all')\n",
    "df_missing = df_missing.replace(False, 'X')"
   ]
  },
  {
   "cell_type": "code",
   "execution_count": 78,
   "metadata": {},
   "outputs": [],
   "source": [
    "df_missing.to_csv('Missingdata.csv')"
   ]
  },
  {
   "cell_type": "markdown",
   "metadata": {},
   "source": [
    "GBD_countries"
   ]
  }
 ],
 "metadata": {
  "interpreter": {
   "hash": "c313004aacb210e2a0b0ec8e97d422a11096aa68fd78b262a7f6f720f4307dc6"
  },
  "kernelspec": {
   "display_name": "Python 3.7.10 64-bit ('base': conda)",
   "name": "python3"
  },
  "language_info": {
   "codemirror_mode": {
    "name": "ipython",
    "version": 3
   },
   "file_extension": ".py",
   "mimetype": "text/x-python",
   "name": "python",
   "nbconvert_exporter": "python",
   "pygments_lexer": "ipython3",
   "version": "3.7.10"
  },
  "orig_nbformat": 4
 },
 "nbformat": 4,
 "nbformat_minor": 2
}
