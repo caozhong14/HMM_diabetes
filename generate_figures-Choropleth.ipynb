{
 "cells": [
  {
   "cell_type": "code",
   "execution_count": 65,
   "metadata": {},
   "outputs": [],
   "source": [
    "import plotly\n",
    "from plotly.graph_objs import Scatter, Layout\n",
    "import numpy as np\n",
    "import pandas as pd\n",
    "import plotly.graph_objects as go\n",
    "from plotly.offline import plot\n",
    "\n",
    "\n",
    "%matplotlib inline\n",
    "discount = 0\n",
    "ConsiderTC = 1\n",
    "ConsiderMB = 1\n",
    "scenario = 'val'"
   ]
  },
  {
   "cell_type": "code",
   "execution_count": 66,
   "metadata": {},
   "outputs": [],
   "source": [
    "# codemap = pd.read_csv('codemaps.csv')\n",
    "countries_info = pd.read_csv('data/dl1_countrycodeorg_country_name.csv')\n",
    "countries_info = countries_info[['Country Code', 'Region', 'Income group', 'WBCountry', 'country']]\n",
    "codemap = countries_info.dropna()"
   ]
  },
  {
   "cell_type": "code",
   "execution_count": 67,
   "metadata": {},
   "outputs": [],
   "source": [
    "# df = pd.read_csv('imputation/aggregated_results_imputated_%s.csv'%(discount))\n",
    "df_input = pd.read_csv('results/aggregate_results_imputed.csv')\n",
    "df = df_input[(df_input['discount']==discount)&\n",
    "                (df_input['ConsiderTC']==ConsiderTC)&\n",
    "                (df_input['ConsiderMB']==ConsiderMB)&\n",
    "                (df_input['scenario']==scenario)]\n",
    "\n",
    "# df = df[df['tax'] >0 ]\n",
    "df.head()\n",
    "df = df.groupby('Country Code').sum()\n",
    "df = df.reset_index()\n",
    "# discount = 0\n",
    "# scenario = 'val'\n",
    "# disease = 'Liver cancer'\n",
    "# df = pd.read_csv('results/aggregate_results_discount_0.csv')\n",
    "# df = df[(df['disease'] == disease) & (df['scenario'] == scenario)]\n",
    "# df = df.reset_index().drop(columns=['index'])\n",
    "# df.head()\n",
    "# print(len(df))"
   ]
  },
  {
   "cell_type": "code",
   "execution_count": 68,
   "metadata": {},
   "outputs": [],
   "source": [
    "test_df = df.copy()\n",
    "test_df = df.sort_values(by='GDPloss')"
   ]
  },
  {
   "cell_type": "code",
   "execution_count": 69,
   "metadata": {},
   "outputs": [
    {
     "data": {
      "text/html": [
       "<div>\n",
       "<style scoped>\n",
       "    .dataframe tbody tr th:only-of-type {\n",
       "        vertical-align: middle;\n",
       "    }\n",
       "\n",
       "    .dataframe tbody tr th {\n",
       "        vertical-align: top;\n",
       "    }\n",
       "\n",
       "    .dataframe thead th {\n",
       "        text-align: right;\n",
       "    }\n",
       "</style>\n",
       "<table border=\"1\" class=\"dataframe\">\n",
       "  <thead>\n",
       "    <tr style=\"text-align: right;\">\n",
       "      <th></th>\n",
       "      <th>Country Code</th>\n",
       "      <th>Unnamed: 0</th>\n",
       "      <th>ConsiderTC</th>\n",
       "      <th>ConsiderMB</th>\n",
       "      <th>GDPloss</th>\n",
       "      <th>tax</th>\n",
       "      <th>pc_loss</th>\n",
       "      <th>discount</th>\n",
       "    </tr>\n",
       "  </thead>\n",
       "  <tbody>\n",
       "    <tr>\n",
       "      <th>179</th>\n",
       "      <td>TKL</td>\n",
       "      <td>1450</td>\n",
       "      <td>29</td>\n",
       "      <td>29</td>\n",
       "      <td>0.001657</td>\n",
       "      <td>0.004297</td>\n",
       "      <td>1194.637142</td>\n",
       "      <td>0.0</td>\n",
       "    </tr>\n",
       "    <tr>\n",
       "      <th>133</th>\n",
       "      <td>NIU</td>\n",
       "      <td>957</td>\n",
       "      <td>29</td>\n",
       "      <td>29</td>\n",
       "      <td>0.002770</td>\n",
       "      <td>0.005535</td>\n",
       "      <td>1385.119252</td>\n",
       "      <td>0.0</td>\n",
       "    </tr>\n",
       "    <tr>\n",
       "      <th>186</th>\n",
       "      <td>TUV</td>\n",
       "      <td>1595</td>\n",
       "      <td>29</td>\n",
       "      <td>29</td>\n",
       "      <td>0.013412</td>\n",
       "      <td>0.004592</td>\n",
       "      <td>966.938904</td>\n",
       "      <td>0.0</td>\n",
       "    </tr>\n",
       "    <tr>\n",
       "      <th>137</th>\n",
       "      <td>NRU</td>\n",
       "      <td>986</td>\n",
       "      <td>29</td>\n",
       "      <td>29</td>\n",
       "      <td>0.019703</td>\n",
       "      <td>0.003963</td>\n",
       "      <td>1791.215550</td>\n",
       "      <td>0.0</td>\n",
       "    </tr>\n",
       "    <tr>\n",
       "      <th>116</th>\n",
       "      <td>MHL</td>\n",
       "      <td>783</td>\n",
       "      <td>29</td>\n",
       "      <td>29</td>\n",
       "      <td>0.041154</td>\n",
       "      <td>0.004585</td>\n",
       "      <td>606.352700</td>\n",
       "      <td>0.0</td>\n",
       "    </tr>\n",
       "    <tr>\n",
       "      <th>...</th>\n",
       "      <td>...</td>\n",
       "      <td>...</td>\n",
       "      <td>...</td>\n",
       "      <td>...</td>\n",
       "      <td>...</td>\n",
       "      <td>...</td>\n",
       "      <td>...</td>\n",
       "      <td>...</td>\n",
       "    </tr>\n",
       "    <tr>\n",
       "      <th>91</th>\n",
       "      <td>JPN</td>\n",
       "      <td>1851012</td>\n",
       "      <td>29</td>\n",
       "      <td>29</td>\n",
       "      <td>1568.151539</td>\n",
       "      <td>0.008996</td>\n",
       "      <td>13387.669534</td>\n",
       "      <td>0.0</td>\n",
       "    </tr>\n",
       "    <tr>\n",
       "      <th>47</th>\n",
       "      <td>DEU</td>\n",
       "      <td>1850055</td>\n",
       "      <td>29</td>\n",
       "      <td>29</td>\n",
       "      <td>1694.490384</td>\n",
       "      <td>0.010989</td>\n",
       "      <td>20552.786351</td>\n",
       "      <td>0.0</td>\n",
       "    </tr>\n",
       "    <tr>\n",
       "      <th>82</th>\n",
       "      <td>IND</td>\n",
       "      <td>1850780</td>\n",
       "      <td>29</td>\n",
       "      <td>29</td>\n",
       "      <td>2143.535108</td>\n",
       "      <td>0.002947</td>\n",
       "      <td>1399.182948</td>\n",
       "      <td>0.0</td>\n",
       "    </tr>\n",
       "    <tr>\n",
       "      <th>192</th>\n",
       "      <td>USA</td>\n",
       "      <td>1852926</td>\n",
       "      <td>29</td>\n",
       "      <td>29</td>\n",
       "      <td>7456.944591</td>\n",
       "      <td>0.009370</td>\n",
       "      <td>20922.498094</td>\n",
       "      <td>0.0</td>\n",
       "    </tr>\n",
       "    <tr>\n",
       "      <th>34</th>\n",
       "      <td>CHN</td>\n",
       "      <td>1849736</td>\n",
       "      <td>29</td>\n",
       "      <td>29</td>\n",
       "      <td>9473.915798</td>\n",
       "      <td>0.006893</td>\n",
       "      <td>6549.280293</td>\n",
       "      <td>0.0</td>\n",
       "    </tr>\n",
       "  </tbody>\n",
       "</table>\n",
       "<p>204 rows × 8 columns</p>\n",
       "</div>"
      ],
      "text/plain": [
       "    Country Code  Unnamed: 0  ConsiderTC  ConsiderMB      GDPloss       tax  \\\n",
       "179          TKL        1450          29          29     0.001657  0.004297   \n",
       "133          NIU         957          29          29     0.002770  0.005535   \n",
       "186          TUV        1595          29          29     0.013412  0.004592   \n",
       "137          NRU         986          29          29     0.019703  0.003963   \n",
       "116          MHL         783          29          29     0.041154  0.004585   \n",
       "..           ...         ...         ...         ...          ...       ...   \n",
       "91           JPN     1851012          29          29  1568.151539  0.008996   \n",
       "47           DEU     1850055          29          29  1694.490384  0.010989   \n",
       "82           IND     1850780          29          29  2143.535108  0.002947   \n",
       "192          USA     1852926          29          29  7456.944591  0.009370   \n",
       "34           CHN     1849736          29          29  9473.915798  0.006893   \n",
       "\n",
       "          pc_loss  discount  \n",
       "179   1194.637142       0.0  \n",
       "133   1385.119252       0.0  \n",
       "186    966.938904       0.0  \n",
       "137   1791.215550       0.0  \n",
       "116    606.352700       0.0  \n",
       "..            ...       ...  \n",
       "91   13387.669534       0.0  \n",
       "47   20552.786351       0.0  \n",
       "82    1399.182948       0.0  \n",
       "192  20922.498094       0.0  \n",
       "34    6549.280293       0.0  \n",
       "\n",
       "[204 rows x 8 columns]"
      ]
     },
     "execution_count": 69,
     "metadata": {},
     "output_type": "execute_result"
    }
   ],
   "source": [
    "test_df"
   ]
  },
  {
   "cell_type": "code",
   "execution_count": 70,
   "metadata": {},
   "outputs": [
    {
     "data": {
      "text/plain": [
       "(array(['AFG', 'AGO', 'ALB', 'AND', 'ARE', 'ARG', 'ARM', 'ASM', 'ATG',\n",
       "        'AUS', 'AUT', 'AZE', 'BDI', 'BEL', 'BEN', 'BFA', 'BGD', 'BGR',\n",
       "        'BHR', 'BHS', 'BIH', 'BLR', 'BLZ', 'BMU', 'BOL', 'BRA', 'BRB',\n",
       "        'BRN', 'BTN', 'BWA', 'CAF', 'CAN', 'CHE', 'CHL', 'CHN', 'CIV',\n",
       "        'CMR', 'COD', 'COG', 'COK', 'COL', 'COM', 'CPV', 'CRI', 'CUB',\n",
       "        'CYP', 'CZE', 'DEU', 'DJI', 'DMA', 'DNK', 'DOM', 'DZA', 'ECU',\n",
       "        'EGY', 'ERI', 'ESP', 'EST', 'ETH', 'FIN', 'FJI', 'FRA', 'FSM',\n",
       "        'GAB', 'GBR', 'GEO', 'GHA', 'GIN', 'GMB', 'GNB', 'GNQ', 'GRC',\n",
       "        'GRD', 'GRL', 'GTM', 'GUM', 'GUY', 'HND', 'HRV', 'HTI', 'HUN',\n",
       "        'IDN', 'IND', 'IRL', 'IRN', 'IRQ', 'ISL', 'ISR', 'ITA', 'JAM',\n",
       "        'JOR', 'JPN', 'KAZ', 'KEN', 'KGZ', 'KHM', 'KIR', 'KNA', 'KOR',\n",
       "        'KWT', 'LAO', 'LBN', 'LBR', 'LBY', 'LCA', 'LKA', 'LSO', 'LTU',\n",
       "        'LUX', 'LVA', 'MAR', 'MCO', 'MDA', 'MDG', 'MDV', 'MEX', 'MHL',\n",
       "        'MKD', 'MLI', 'MLT', 'MMR', 'MNE', 'MNG', 'MNP', 'MOZ', 'MRT',\n",
       "        'MUS', 'MWI', 'MYS', 'NAM', 'NER', 'NGA', 'NIC', 'NIU', 'NLD',\n",
       "        'NOR', 'NPL', 'NRU', 'NZL', 'OMN', 'PAK', 'PAN', 'PER', 'PHL',\n",
       "        'PLW', 'PNG', 'POL', 'PRI', 'PRK', 'PRT', 'PRY', 'PSE', 'QAT',\n",
       "        'ROU', 'RUS', 'RWA', 'SAU', 'SDN', 'SEN', 'SGP', 'SLB', 'SLE',\n",
       "        'SLV', 'SMR', 'SOM', 'SRB', 'SSD', 'STP', 'SUR', 'SVK', 'SVN',\n",
       "        'SWE', 'SWZ', 'SYC', 'SYR', 'TCD', 'TGO', 'THA', 'TJK', 'TKL',\n",
       "        'TKM', 'TLS', 'TON', 'TTO', 'TUN', 'TUR', 'TUV', 'TWN', 'TZA',\n",
       "        'UGA', 'UKR', 'URY', 'USA', 'UZB', 'VCT', 'VEN', 'VIR', 'VNM',\n",
       "        'VUT', 'WSM', 'YEM', 'ZAF', 'ZMB', 'ZWE'], dtype=object),\n",
       " 204)"
      ]
     },
     "execution_count": 70,
     "metadata": {},
     "output_type": "execute_result"
    }
   ],
   "source": [
    "df['Country Code'].unique(), len(df['Country Code'].unique())"
   ]
  },
  {
   "cell_type": "markdown",
   "metadata": {},
   "source": []
  },
  {
   "cell_type": "code",
   "execution_count": null,
   "metadata": {},
   "outputs": [],
   "source": []
  },
  {
   "cell_type": "markdown",
   "metadata": {},
   "source": [
    "# total burden"
   ]
  },
  {
   "cell_type": "code",
   "execution_count": 71,
   "metadata": {},
   "outputs": [
    {
     "data": {
      "application/vnd.plotly.v1+json": {
       "config": {
        "plotlyServerURL": "https://plot.ly"
       },
       "data": [
        {
         "autocolorscale": false,
         "colorbar": {
          "len": 0.4,
          "thickness": 15,
          "tick0": 0,
          "tickmode": "array",
          "ticktext": [
           "2%",
           "1.00%",
           "0.50%",
           "0.25%",
           "0.1%"
          ],
          "tickvals": [
           -1.699,
           -2,
           -2.3,
           -2.602,
           -2.921
          ],
          "title": {
           "text": "% of  Total GDP<br>During 2020-2050<br>"
          },
          "x": 0,
          "y": 0.4
         },
         "colorscale": [
          [
           0,
           "rgb(5, 10, 172)"
          ],
          [
           0.35,
           "rgb(40, 60, 190)"
          ],
          [
           1,
           "rgb(210, 240, 255)"
          ]
         ],
         "locations": [
          "AFG",
          "AGO",
          "ALB",
          "AND",
          "ARE",
          "ARG",
          "ARM",
          "ASM",
          "ATG",
          "AUS",
          "AUT",
          "AZE",
          "BDI",
          "BEL",
          "BEN",
          "BFA",
          "BGD",
          "BGR",
          "BHR",
          "BHS",
          "BIH",
          "BLR",
          "BLZ",
          "BMU",
          "BOL",
          "BRA",
          "BRB",
          "BRN",
          "BTN",
          "BWA",
          "CAF",
          "CAN",
          "CHE",
          "CHL",
          "CHN",
          "CIV",
          "CMR",
          "COD",
          "COG",
          "COK",
          "COL",
          "COM",
          "CPV",
          "CRI",
          "CUB",
          "CYP",
          "CZE",
          "DEU",
          "DJI",
          "DMA",
          "DNK",
          "DOM",
          "DZA",
          "ECU",
          "EGY",
          "ERI",
          "ESP",
          "EST",
          "ETH",
          "FIN",
          "FJI",
          "FRA",
          "FSM",
          "GAB",
          "GBR",
          "GEO",
          "GHA",
          "GIN",
          "GMB",
          "GNB",
          "GNQ",
          "GRC",
          "GRD",
          "GRL",
          "GTM",
          "GUM",
          "GUY",
          "HND",
          "HRV",
          "HTI",
          "HUN",
          "IDN",
          "IND",
          "IRL",
          "IRN",
          "IRQ",
          "ISL",
          "ISR",
          "ITA",
          "JAM",
          "JOR",
          "JPN",
          "KAZ",
          "KEN",
          "KGZ",
          "KHM",
          "KIR",
          "KNA",
          "KOR",
          "KWT",
          "LAO",
          "LBN",
          "LBR",
          "LBY",
          "LCA",
          "LKA",
          "LSO",
          "LTU",
          "LUX",
          "LVA",
          "MAR",
          "MCO",
          "MDA",
          "MDG",
          "MDV",
          "MEX",
          "MHL",
          "MKD",
          "MLI",
          "MLT",
          "MMR",
          "MNE",
          "MNG",
          "MNP",
          "MOZ",
          "MRT",
          "MUS",
          "MWI",
          "MYS",
          "NAM",
          "NER",
          "NGA",
          "NIC",
          "NIU",
          "NLD",
          "NOR",
          "NPL",
          "NRU",
          "NZL",
          "OMN",
          "PAK",
          "PAN",
          "PER",
          "PHL",
          "PLW",
          "PNG",
          "POL",
          "PRI",
          "PRK",
          "PRT",
          "PRY",
          "PSE",
          "QAT",
          "ROU",
          "RUS",
          "RWA",
          "SAU",
          "SDN",
          "SEN",
          "SGP",
          "SLB",
          "SLE",
          "SLV",
          "SMR",
          "SOM",
          "SRB",
          "SSD",
          "STP",
          "SUR",
          "SVK",
          "SVN",
          "SWE",
          "SWZ",
          "SYC",
          "SYR",
          "TCD",
          "TGO",
          "THA",
          "TJK",
          "TKL",
          "TKM",
          "TLS",
          "TON",
          "TTO",
          "TUN",
          "TUR",
          "TUV",
          "TWN",
          "TZA",
          "UGA",
          "UKR",
          "URY",
          "USA",
          "UZB",
          "VCT",
          "VEN",
          "VIR",
          "VNM",
          "VUT",
          "WSM",
          "YEM",
          "ZAF",
          "ZMB",
          "ZWE"
         ],
         "marker": {
          "line": {
           "color": "rgb(180,180,180)",
           "width": 0.2
          }
         },
         "reversescale": true,
         "type": "choropleth",
         "z": [
          -2.4629472470887905,
          -2.6072312884129745,
          -2.253046217658526,
          -2.1172924283903796,
          -2.438529895392407,
          -2.2763033543840225,
          -2.1866663372441764,
          -2.3536674501961845,
          -2.3274852311559164,
          -2.1770407779725733,
          -2.2609327517499684,
          -2.287613457318493,
          -2.651489177262219,
          -2.2333121832737226,
          -2.5997064276088047,
          -2.458332013727739,
          -2.5896993780416326,
          -1.7678510066426192,
          -2.760427523313127,
          -2.1575066737231974,
          -2.061866361339076,
          -2.278833635244897,
          -2.276667751045053,
          -2.1854079931104753,
          -2.281729334258651,
          -2.5148877134647316,
          -2.0159245404560444,
          -2.0568547142710774,
          -2.4984290393526227,
          -2.4494987033504763,
          -2.5112733798745515,
          -2.118708620586836,
          -2.16689481339288,
          -2.295779432063228,
          -2.161615352721624,
          -2.6384769497636915,
          -2.56113628932021,
          -2.5571135117373562,
          -2.520354665004663,
          -2.309914937245952,
          -2.3598503473190044,
          -2.398455363626863,
          -2.324294275040454,
          -2.2433696468068627,
          -2.176172721733348,
          -2.437402790814101,
          -2.082084733434294,
          -1.9590297791574842,
          -2.464484257381889,
          -2.1681170951243045,
          -2.1599645080670884,
          -2.1335230807337906,
          -2.528074152088504,
          -2.422095369260608,
          -2.5237629708589444,
          -2.4967357923983426,
          -2.235149032022133,
          -1.9617827829093728,
          -2.6381995176831627,
          -2.2964491439958192,
          -2.4442609523481496,
          -2.1688171465654347,
          -2.312024757350622,
          -2.6697321694403953,
          -2.176533735408518,
          -1.8684170660054948,
          -2.356191917679747,
          -2.4010847951637757,
          -2.4105943499378464,
          -2.507569654152338,
          -2.6147514665660894,
          -2.359663525531666,
          -2.22225315412667,
          -2.0831788791397226,
          -2.639420533385083,
          -2.3716678329376117,
          -2.3609449135635288,
          -2.4384007921072026,
          -2.2163814492579195,
          -2.3698957293161187,
          -1.9903976654191684,
          -2.402283343289812,
          -2.5306927073894943,
          -2.1276476937589033,
          -2.4509215018630552,
          -2.668341603912917,
          -2.200088164021716,
          -2.178627157796835,
          -2.232044639313021,
          -2.1724605046916126,
          -2.7559803607032607,
          -2.04594719914788,
          -2.4662305104254103,
          -2.6904958957039518,
          -2.33845670057526,
          -2.2997206595249384,
          -2.226741920214926,
          -2.2706726386385983,
          -2.0734811665913835,
          -2.6891207375194597,
          -2.3885056677031566,
          -2.891115742110381,
          -2.5992829644042996,
          -2.408867862813817,
          -2.2597377317495573,
          -2.3958161576726207,
          -2.2300304491810543,
          -2.0680879265313403,
          -2.471322910135036,
          -2.0646409422207914,
          -2.618741388602868,
          -1.8889047925261624,
          -2.1063888473950945,
          -2.6008528314380213,
          -2.6819984634755496,
          -2.5142558375233093,
          -2.3386310941438992,
          -2.063698100685474,
          -2.6628436259298818,
          -2.130998267848865,
          -2.3716676571123227,
          -2.0865875058383128,
          -2.204690309787597,
          -2.1679641345673097,
          -2.6238387311975453,
          -2.8108142410369887,
          -2.4320046010118803,
          -2.5592541345944175,
          -2.2653564262966466,
          -2.547589591371991,
          -2.8139893099132722,
          -2.888182070850778,
          -2.5058273725743403,
          -2.2569101821739306,
          -2.0501314126906665,
          -2.169882206062133,
          -2.5351253711095025,
          -2.4019400931360217,
          -2.0860492265945707,
          -2.893910153433439,
          -2.2937017669680673,
          -2.391655585286304,
          -2.5611530989653413,
          -2.322646091692941,
          -2.1502907625214083,
          -2.5022144309926353,
          -2.098202732241439,
          -2.2920587218326847,
          -2.235018655839591,
          -2.3458210954081054,
          -2.325088810604051,
          -2.504310531925666,
          -2.9255837448741713,
          -2.0659094375416456,
          -2.2439963308976423,
          -2.4281934712581044,
          -2.6741372194452206,
          -2.6640661602006146,
          -2.5926561177936875,
          -2.357115489782606,
          -2.275840539714168,
          -2.5693514843217953,
          -2.4444230922364345,
          -2.095912671943237,
          -2.57334533143675,
          -1.8727784170177106,
          -2.5813367641581593,
          -2.509011786351074,
          -2.3282584304591816,
          -1.8722352868908583,
          -2.2254743406134607,
          -2.243966689808051,
          -2.442084258591995,
          -2.2037208271962245,
          -2.4837757381527896,
          -2.6176355744628865,
          -2.4674528663376556,
          -2.3850190113484957,
          -2.396569147819668,
          -2.366794028603072,
          -2.409616149546093,
          -2.5283019055040183,
          -2.301075513047459,
          -2.3337331751496135,
          -2.607245114885234,
          -2.464811280263949,
          -2.338031995129018,
          -2.1548237083157122,
          -2.4478749245948275,
          -2.3771640940893968,
          -1.8683452528888305,
          -2.2754463309987294,
          -2.0282398667050368,
          -2.183126727309031,
          -2.226532385303557,
          -2.338935593170378,
          -2.0945458944097464,
          -2.157710807639833,
          -2.442602652794816,
          -2.4629655783585696,
          -2.589504135485411,
          -2.5003938795241414,
          -2.4781678443383797,
          -2.400460741002171
         ]
        }
       ],
       "layout": {
        "font": {
         "family": "Times New Roman",
         "size": 10
        },
        "geo": {
         "countrycolor": "rgb(0, 0, 0)",
         "countrywidth": 0.1,
         "projection": {
          "type": "equirectangular"
         },
         "showcoastlines": false,
         "showcountries": true,
         "showframe": false
        },
        "margin": {
         "b": 0,
         "l": 0,
         "r": 0,
         "t": 0
        },
        "template": {
         "data": {
          "bar": [
           {
            "error_x": {
             "color": "#2a3f5f"
            },
            "error_y": {
             "color": "#2a3f5f"
            },
            "marker": {
             "line": {
              "color": "#E5ECF6",
              "width": 0.5
             },
             "pattern": {
              "fillmode": "overlay",
              "size": 10,
              "solidity": 0.2
             }
            },
            "type": "bar"
           }
          ],
          "barpolar": [
           {
            "marker": {
             "line": {
              "color": "#E5ECF6",
              "width": 0.5
             },
             "pattern": {
              "fillmode": "overlay",
              "size": 10,
              "solidity": 0.2
             }
            },
            "type": "barpolar"
           }
          ],
          "carpet": [
           {
            "aaxis": {
             "endlinecolor": "#2a3f5f",
             "gridcolor": "white",
             "linecolor": "white",
             "minorgridcolor": "white",
             "startlinecolor": "#2a3f5f"
            },
            "baxis": {
             "endlinecolor": "#2a3f5f",
             "gridcolor": "white",
             "linecolor": "white",
             "minorgridcolor": "white",
             "startlinecolor": "#2a3f5f"
            },
            "type": "carpet"
           }
          ],
          "choropleth": [
           {
            "colorbar": {
             "outlinewidth": 0,
             "ticks": ""
            },
            "type": "choropleth"
           }
          ],
          "contour": [
           {
            "colorbar": {
             "outlinewidth": 0,
             "ticks": ""
            },
            "colorscale": [
             [
              0,
              "#0d0887"
             ],
             [
              0.1111111111111111,
              "#46039f"
             ],
             [
              0.2222222222222222,
              "#7201a8"
             ],
             [
              0.3333333333333333,
              "#9c179e"
             ],
             [
              0.4444444444444444,
              "#bd3786"
             ],
             [
              0.5555555555555556,
              "#d8576b"
             ],
             [
              0.6666666666666666,
              "#ed7953"
             ],
             [
              0.7777777777777778,
              "#fb9f3a"
             ],
             [
              0.8888888888888888,
              "#fdca26"
             ],
             [
              1,
              "#f0f921"
             ]
            ],
            "type": "contour"
           }
          ],
          "contourcarpet": [
           {
            "colorbar": {
             "outlinewidth": 0,
             "ticks": ""
            },
            "type": "contourcarpet"
           }
          ],
          "heatmap": [
           {
            "colorbar": {
             "outlinewidth": 0,
             "ticks": ""
            },
            "colorscale": [
             [
              0,
              "#0d0887"
             ],
             [
              0.1111111111111111,
              "#46039f"
             ],
             [
              0.2222222222222222,
              "#7201a8"
             ],
             [
              0.3333333333333333,
              "#9c179e"
             ],
             [
              0.4444444444444444,
              "#bd3786"
             ],
             [
              0.5555555555555556,
              "#d8576b"
             ],
             [
              0.6666666666666666,
              "#ed7953"
             ],
             [
              0.7777777777777778,
              "#fb9f3a"
             ],
             [
              0.8888888888888888,
              "#fdca26"
             ],
             [
              1,
              "#f0f921"
             ]
            ],
            "type": "heatmap"
           }
          ],
          "heatmapgl": [
           {
            "colorbar": {
             "outlinewidth": 0,
             "ticks": ""
            },
            "colorscale": [
             [
              0,
              "#0d0887"
             ],
             [
              0.1111111111111111,
              "#46039f"
             ],
             [
              0.2222222222222222,
              "#7201a8"
             ],
             [
              0.3333333333333333,
              "#9c179e"
             ],
             [
              0.4444444444444444,
              "#bd3786"
             ],
             [
              0.5555555555555556,
              "#d8576b"
             ],
             [
              0.6666666666666666,
              "#ed7953"
             ],
             [
              0.7777777777777778,
              "#fb9f3a"
             ],
             [
              0.8888888888888888,
              "#fdca26"
             ],
             [
              1,
              "#f0f921"
             ]
            ],
            "type": "heatmapgl"
           }
          ],
          "histogram": [
           {
            "marker": {
             "pattern": {
              "fillmode": "overlay",
              "size": 10,
              "solidity": 0.2
             }
            },
            "type": "histogram"
           }
          ],
          "histogram2d": [
           {
            "colorbar": {
             "outlinewidth": 0,
             "ticks": ""
            },
            "colorscale": [
             [
              0,
              "#0d0887"
             ],
             [
              0.1111111111111111,
              "#46039f"
             ],
             [
              0.2222222222222222,
              "#7201a8"
             ],
             [
              0.3333333333333333,
              "#9c179e"
             ],
             [
              0.4444444444444444,
              "#bd3786"
             ],
             [
              0.5555555555555556,
              "#d8576b"
             ],
             [
              0.6666666666666666,
              "#ed7953"
             ],
             [
              0.7777777777777778,
              "#fb9f3a"
             ],
             [
              0.8888888888888888,
              "#fdca26"
             ],
             [
              1,
              "#f0f921"
             ]
            ],
            "type": "histogram2d"
           }
          ],
          "histogram2dcontour": [
           {
            "colorbar": {
             "outlinewidth": 0,
             "ticks": ""
            },
            "colorscale": [
             [
              0,
              "#0d0887"
             ],
             [
              0.1111111111111111,
              "#46039f"
             ],
             [
              0.2222222222222222,
              "#7201a8"
             ],
             [
              0.3333333333333333,
              "#9c179e"
             ],
             [
              0.4444444444444444,
              "#bd3786"
             ],
             [
              0.5555555555555556,
              "#d8576b"
             ],
             [
              0.6666666666666666,
              "#ed7953"
             ],
             [
              0.7777777777777778,
              "#fb9f3a"
             ],
             [
              0.8888888888888888,
              "#fdca26"
             ],
             [
              1,
              "#f0f921"
             ]
            ],
            "type": "histogram2dcontour"
           }
          ],
          "mesh3d": [
           {
            "colorbar": {
             "outlinewidth": 0,
             "ticks": ""
            },
            "type": "mesh3d"
           }
          ],
          "parcoords": [
           {
            "line": {
             "colorbar": {
              "outlinewidth": 0,
              "ticks": ""
             }
            },
            "type": "parcoords"
           }
          ],
          "pie": [
           {
            "automargin": true,
            "type": "pie"
           }
          ],
          "scatter": [
           {
            "marker": {
             "colorbar": {
              "outlinewidth": 0,
              "ticks": ""
             }
            },
            "type": "scatter"
           }
          ],
          "scatter3d": [
           {
            "line": {
             "colorbar": {
              "outlinewidth": 0,
              "ticks": ""
             }
            },
            "marker": {
             "colorbar": {
              "outlinewidth": 0,
              "ticks": ""
             }
            },
            "type": "scatter3d"
           }
          ],
          "scattercarpet": [
           {
            "marker": {
             "colorbar": {
              "outlinewidth": 0,
              "ticks": ""
             }
            },
            "type": "scattercarpet"
           }
          ],
          "scattergeo": [
           {
            "marker": {
             "colorbar": {
              "outlinewidth": 0,
              "ticks": ""
             }
            },
            "type": "scattergeo"
           }
          ],
          "scattergl": [
           {
            "marker": {
             "colorbar": {
              "outlinewidth": 0,
              "ticks": ""
             }
            },
            "type": "scattergl"
           }
          ],
          "scattermapbox": [
           {
            "marker": {
             "colorbar": {
              "outlinewidth": 0,
              "ticks": ""
             }
            },
            "type": "scattermapbox"
           }
          ],
          "scatterpolar": [
           {
            "marker": {
             "colorbar": {
              "outlinewidth": 0,
              "ticks": ""
             }
            },
            "type": "scatterpolar"
           }
          ],
          "scatterpolargl": [
           {
            "marker": {
             "colorbar": {
              "outlinewidth": 0,
              "ticks": ""
             }
            },
            "type": "scatterpolargl"
           }
          ],
          "scatterternary": [
           {
            "marker": {
             "colorbar": {
              "outlinewidth": 0,
              "ticks": ""
             }
            },
            "type": "scatterternary"
           }
          ],
          "surface": [
           {
            "colorbar": {
             "outlinewidth": 0,
             "ticks": ""
            },
            "colorscale": [
             [
              0,
              "#0d0887"
             ],
             [
              0.1111111111111111,
              "#46039f"
             ],
             [
              0.2222222222222222,
              "#7201a8"
             ],
             [
              0.3333333333333333,
              "#9c179e"
             ],
             [
              0.4444444444444444,
              "#bd3786"
             ],
             [
              0.5555555555555556,
              "#d8576b"
             ],
             [
              0.6666666666666666,
              "#ed7953"
             ],
             [
              0.7777777777777778,
              "#fb9f3a"
             ],
             [
              0.8888888888888888,
              "#fdca26"
             ],
             [
              1,
              "#f0f921"
             ]
            ],
            "type": "surface"
           }
          ],
          "table": [
           {
            "cells": {
             "fill": {
              "color": "#EBF0F8"
             },
             "line": {
              "color": "white"
             }
            },
            "header": {
             "fill": {
              "color": "#C8D4E3"
             },
             "line": {
              "color": "white"
             }
            },
            "type": "table"
           }
          ]
         },
         "layout": {
          "annotationdefaults": {
           "arrowcolor": "#2a3f5f",
           "arrowhead": 0,
           "arrowwidth": 1
          },
          "autotypenumbers": "strict",
          "coloraxis": {
           "colorbar": {
            "outlinewidth": 0,
            "ticks": ""
           }
          },
          "colorscale": {
           "diverging": [
            [
             0,
             "#8e0152"
            ],
            [
             0.1,
             "#c51b7d"
            ],
            [
             0.2,
             "#de77ae"
            ],
            [
             0.3,
             "#f1b6da"
            ],
            [
             0.4,
             "#fde0ef"
            ],
            [
             0.5,
             "#f7f7f7"
            ],
            [
             0.6,
             "#e6f5d0"
            ],
            [
             0.7,
             "#b8e186"
            ],
            [
             0.8,
             "#7fbc41"
            ],
            [
             0.9,
             "#4d9221"
            ],
            [
             1,
             "#276419"
            ]
           ],
           "sequential": [
            [
             0,
             "#0d0887"
            ],
            [
             0.1111111111111111,
             "#46039f"
            ],
            [
             0.2222222222222222,
             "#7201a8"
            ],
            [
             0.3333333333333333,
             "#9c179e"
            ],
            [
             0.4444444444444444,
             "#bd3786"
            ],
            [
             0.5555555555555556,
             "#d8576b"
            ],
            [
             0.6666666666666666,
             "#ed7953"
            ],
            [
             0.7777777777777778,
             "#fb9f3a"
            ],
            [
             0.8888888888888888,
             "#fdca26"
            ],
            [
             1,
             "#f0f921"
            ]
           ],
           "sequentialminus": [
            [
             0,
             "#0d0887"
            ],
            [
             0.1111111111111111,
             "#46039f"
            ],
            [
             0.2222222222222222,
             "#7201a8"
            ],
            [
             0.3333333333333333,
             "#9c179e"
            ],
            [
             0.4444444444444444,
             "#bd3786"
            ],
            [
             0.5555555555555556,
             "#d8576b"
            ],
            [
             0.6666666666666666,
             "#ed7953"
            ],
            [
             0.7777777777777778,
             "#fb9f3a"
            ],
            [
             0.8888888888888888,
             "#fdca26"
            ],
            [
             1,
             "#f0f921"
            ]
           ]
          },
          "colorway": [
           "#636efa",
           "#EF553B",
           "#00cc96",
           "#ab63fa",
           "#FFA15A",
           "#19d3f3",
           "#FF6692",
           "#B6E880",
           "#FF97FF",
           "#FECB52"
          ],
          "font": {
           "color": "#2a3f5f"
          },
          "geo": {
           "bgcolor": "white",
           "lakecolor": "white",
           "landcolor": "#E5ECF6",
           "showlakes": true,
           "showland": true,
           "subunitcolor": "white"
          },
          "hoverlabel": {
           "align": "left"
          },
          "hovermode": "closest",
          "mapbox": {
           "style": "light"
          },
          "paper_bgcolor": "white",
          "plot_bgcolor": "#E5ECF6",
          "polar": {
           "angularaxis": {
            "gridcolor": "white",
            "linecolor": "white",
            "ticks": ""
           },
           "bgcolor": "#E5ECF6",
           "radialaxis": {
            "gridcolor": "white",
            "linecolor": "white",
            "ticks": ""
           }
          },
          "scene": {
           "xaxis": {
            "backgroundcolor": "#E5ECF6",
            "gridcolor": "white",
            "gridwidth": 2,
            "linecolor": "white",
            "showbackground": true,
            "ticks": "",
            "zerolinecolor": "white"
           },
           "yaxis": {
            "backgroundcolor": "#E5ECF6",
            "gridcolor": "white",
            "gridwidth": 2,
            "linecolor": "white",
            "showbackground": true,
            "ticks": "",
            "zerolinecolor": "white"
           },
           "zaxis": {
            "backgroundcolor": "#E5ECF6",
            "gridcolor": "white",
            "gridwidth": 2,
            "linecolor": "white",
            "showbackground": true,
            "ticks": "",
            "zerolinecolor": "white"
           }
          },
          "shapedefaults": {
           "line": {
            "color": "#2a3f5f"
           }
          },
          "ternary": {
           "aaxis": {
            "gridcolor": "white",
            "linecolor": "white",
            "ticks": ""
           },
           "baxis": {
            "gridcolor": "white",
            "linecolor": "white",
            "ticks": ""
           },
           "bgcolor": "#E5ECF6",
           "caxis": {
            "gridcolor": "white",
            "linecolor": "white",
            "ticks": ""
           }
          },
          "title": {
           "x": 0.05
          },
          "xaxis": {
           "automargin": true,
           "gridcolor": "white",
           "linecolor": "white",
           "ticks": "",
           "title": {
            "standoff": 15
           },
           "zerolinecolor": "white",
           "zerolinewidth": 2
          },
          "yaxis": {
           "automargin": true,
           "gridcolor": "white",
           "linecolor": "white",
           "ticks": "",
           "title": {
            "standoff": 15
           },
           "zerolinecolor": "white",
           "zerolinewidth": 2
          }
         }
        }
       }
      }
     },
     "metadata": {},
     "output_type": "display_data"
    }
   ],
   "source": [
    "fig = go.Figure(data=go.Choropleth(\n",
    "        locations = df['Country Code'],\n",
    "        z = df['tax'].apply(np.log10),\n",
    "        # text = df['WBCountry'],\n",
    "#         colorscale = [[0,\"rgb(5, 10, 172)\"],[0.35,\"rgb(40, 60, 190)\"],[0.5,\"rgb(70, 100, 245)\"],\\\n",
    "#             [0.6,\"rgb(90, 120, 245)\"],[0.7,\"rgb(106, 137, 247)\"], [1,\"rgb(255, 255, 255)\"]],\n",
    "        colorscale = [[0,\"rgb(5, 10, 172)\"],[0.35,\"rgb(40, 60, 190)\"], [1,\"rgb(210, 240, 255)\"]],\n",
    "        # colorscale = [[0,\"rgb(210, 240, 255)\"],[0.35,\"rgb(106, 137, 247)\"],[1,\"rgb(5, 10, 172)\"]], \n",
    "        # autocolorscale = False,\n",
    "        reversescale = True,\n",
    "        # marker = dict(\n",
    "        #     line = dict (\n",
    "        #         color = 'rgb(180,180,180)',\n",
    "        #         width = 0.5\n",
    "        #     ) ),\n",
    "        colorbar_title='% of  Total GDP<br>During 2020-2050<br>',\n",
    "        # colorbar = dict(\n",
    "        #     tick0= 0,\n",
    "        #     tickmode='array',\n",
    "        #     tickvals= [-1, -1.3, -1.699, -2, -2.3, -2.699, -3],\n",
    "        #     ticktext=['10', '5', '2', '1', '0.5', '0.2', '0.1'],\n",
    "        # title = 'Percentage of Total GDP<br>During 2020-2050'),\n",
    "        # colorscale = 'Blues', \n",
    "        autocolorscale = False,\n",
    "        marker = dict(\n",
    "            line = dict (\n",
    "                color = 'rgb(180,180,180)',\n",
    "                width = 0.2\n",
    "            ) ),\n",
    "        # colorbar_title='%',\n",
    "        colorbar = dict(\n",
    "            len = 0.4,\n",
    "            thickness = 15,\n",
    "            # tickwidth = 1,\n",
    "            tick0= 0,\n",
    "            tickmode='array',\n",
    "            # tickvals= [-1.770, -2, -2.3, -2.602, -2.921],\n",
    "            # ticktext=['1.70%','1.00%', '0.50%', '0.25%', '0.12%']),\n",
    "            tickvals= [-1.699, -2, -2.3, -2.602, -2.921],\n",
    "            ticktext=['2%','1.00%', '0.50%', '0.25%', '0.1%']),\n",
    "            \n",
    "))\n",
    "fig.update_layout(\n",
    "    font=dict(\n",
    "        # family=\"Courier New, monospace\",\n",
    "        family=\"Times New Roman\",\n",
    "        size=10,\n",
    "        # color=\"#7f7f7f\"\n",
    "    ),\n",
    "#     title = 'Economic Burden of Road Injuries During 2020-2050',\n",
    "    geo = dict(\n",
    "        showframe = False,\n",
    "        showcoastlines = False,\n",
    "                showcountries = True,\n",
    "        countrycolor = \"rgb(0, 0, 0)\",\n",
    "        countrywidth = 0.1,\n",
    "        projection_type='equirectangular',\n",
    "    ),\n",
    "    margin = {'l':0,'r':0,'t':0,'b':0}\n",
    "\n",
    ")\n",
    "# fig.update_layout(coloraxis_colorbar_x=-0.1)\n",
    "fig.data[0].colorbar.x=0.0\n",
    "fig.data[0].colorbar.y=0.4\n",
    "# fig.update_layout(coloraxis_colorbar_y=0.9)\n",
    "fig.show()\n",
    "\n",
    "# plot(fig)\n",
    "fig.write_image(\"tables/figure_1.pdf\")"
   ]
  },
  {
   "cell_type": "code",
   "execution_count": null,
   "metadata": {},
   "outputs": [],
   "source": []
  },
  {
   "cell_type": "code",
   "execution_count": 72,
   "metadata": {},
   "outputs": [],
   "source": [
    "df['logGDPloss'] = df['GDPloss'].apply(np.log10)"
   ]
  },
  {
   "cell_type": "code",
   "execution_count": 73,
   "metadata": {},
   "outputs": [
    {
     "data": {
      "application/vnd.plotly.v1+json": {
       "config": {
        "plotlyServerURL": "https://plot.ly"
       },
       "data": [
        {
         "autocolorscale": false,
         "colorbar": {
          "len": 0.4,
          "thickness": 15,
          "tick0": 0.2,
          "tickmode": "array",
          "ticktext": [
           "$0.002",
           "$0.01",
           "$0.1",
           "$1",
           "$10",
           "$100",
           "$1000",
           "$10000"
          ],
          "tickvals": [
           -2.699,
           -2,
           -1,
           0,
           1,
           2,
           3,
           4
          ],
          "title": {
           "text": "Macroeconomic burden due <br>to cancer in 2020-2050<br>(in billions of 2017 INT$)<br>"
          },
          "x": 0,
          "y": 0.4
         },
         "colorscale": [
          [
           0,
           "rgb(210, 240, 255)"
          ],
          [
           0.6,
           "rgb(106, 137, 247)"
          ],
          [
           1,
           "rgb(5, 10, 172)"
          ]
         ],
         "locations": [
          "AFG",
          "AGO",
          "ALB",
          "AND",
          "ARE",
          "ARG",
          "ARM",
          "ASM",
          "ATG",
          "AUS",
          "AUT",
          "AZE",
          "BDI",
          "BEL",
          "BEN",
          "BFA",
          "BGD",
          "BGR",
          "BHR",
          "BHS",
          "BIH",
          "BLR",
          "BLZ",
          "BMU",
          "BOL",
          "BRA",
          "BRB",
          "BRN",
          "BTN",
          "BWA",
          "CAF",
          "CAN",
          "CHE",
          "CHL",
          "CHN",
          "CIV",
          "CMR",
          "COD",
          "COG",
          "COK",
          "COL",
          "COM",
          "CPV",
          "CRI",
          "CUB",
          "CYP",
          "CZE",
          "DEU",
          "DJI",
          "DMA",
          "DNK",
          "DOM",
          "DZA",
          "ECU",
          "EGY",
          "ERI",
          "ESP",
          "EST",
          "ETH",
          "FIN",
          "FJI",
          "FRA",
          "FSM",
          "GAB",
          "GBR",
          "GEO",
          "GHA",
          "GIN",
          "GMB",
          "GNB",
          "GNQ",
          "GRC",
          "GRD",
          "GRL",
          "GTM",
          "GUM",
          "GUY",
          "HND",
          "HRV",
          "HTI",
          "HUN",
          "IDN",
          "IND",
          "IRL",
          "IRN",
          "IRQ",
          "ISL",
          "ISR",
          "ITA",
          "JAM",
          "JOR",
          "JPN",
          "KAZ",
          "KEN",
          "KGZ",
          "KHM",
          "KIR",
          "KNA",
          "KOR",
          "KWT",
          "LAO",
          "LBN",
          "LBR",
          "LBY",
          "LCA",
          "LKA",
          "LSO",
          "LTU",
          "LUX",
          "LVA",
          "MAR",
          "MCO",
          "MDA",
          "MDG",
          "MDV",
          "MEX",
          "MHL",
          "MKD",
          "MLI",
          "MLT",
          "MMR",
          "MNE",
          "MNG",
          "MNP",
          "MOZ",
          "MRT",
          "MUS",
          "MWI",
          "MYS",
          "NAM",
          "NER",
          "NGA",
          "NIC",
          "NIU",
          "NLD",
          "NOR",
          "NPL",
          "NRU",
          "NZL",
          "OMN",
          "PAK",
          "PAN",
          "PER",
          "PHL",
          "PLW",
          "PNG",
          "POL",
          "PRI",
          "PRK",
          "PRT",
          "PRY",
          "PSE",
          "QAT",
          "ROU",
          "RUS",
          "RWA",
          "SAU",
          "SDN",
          "SEN",
          "SGP",
          "SLB",
          "SLE",
          "SLV",
          "SMR",
          "SOM",
          "SRB",
          "SSD",
          "STP",
          "SUR",
          "SVK",
          "SVN",
          "SWE",
          "SWZ",
          "SYC",
          "SYR",
          "TCD",
          "TGO",
          "THA",
          "TJK",
          "TKL",
          "TKM",
          "TLS",
          "TON",
          "TTO",
          "TUN",
          "TUR",
          "TUV",
          "TWN",
          "TZA",
          "UGA",
          "UKR",
          "URY",
          "USA",
          "UZB",
          "VCT",
          "VEN",
          "VIR",
          "VNM",
          "VUT",
          "WSM",
          "YEM",
          "ZAF",
          "ZMB",
          "ZWE"
         ],
         "marker": {
          "line": {
           "color": "rgb(180,180,180)",
           "width": 0.2
          }
         },
         "type": "choropleth",
         "z": [
          1.162528326703526,
          1.4021203736991488,
          1.0395396480110861,
          0.10375363854581648,
          2.0126485456547,
          2.242300871495829,
          1.1296103150779147,
          -0.8364482905148256,
          -0.4424242108572861,
          2.5672097925203357,
          1.9994392936095882,
          1.4387724208510007,
          -0.025633962246327413,
          2.0815772527508796,
          0.9408922332259063,
          1.0660781549866034,
          2.314696764314254,
          2.0979826078020074,
          0.7519488525422057,
          0.4825639258494219,
          1.2760283801089969,
          1.5462817462252003,
          -0.3110401826263521,
          0.2319208518654231,
          1.3794754997624452,
          2.5721412431748507,
          0.12436517544293037,
          1.006075442389137,
          0.2849756391530543,
          0.8615889457145859,
          -0.04517955741121153,
          2.7156185177989878,
          2.2042786142652555,
          2.0028783803888355,
          3.976529520513864,
          1.4144830668129929,
          1.2520165258236555,
          1.2024886580391336,
          0.3021882322320189,
          -1.1339452054190422,
          2.184916196913209,
          -0.23872596201240456,
          0.051213641479564274,
          1.439418733727736,
          1.6595411114904484,
          0.7316966885518241,
          2.1817798832129456,
          3.2290391086968895,
          0.1620693777541274,
          -0.7490873898417297,
          1.953090482281213,
          1.93325260110887,
          1.6890580003590194,
          1.4474284644424602,
          2.453780434519992,
          0.18911874395909392,
          2.5710169871584094,
          1.3971043447454712,
          1.8459094107355527,
          1.6890440325663623,
          0.2152061818400738,
          2.849048552203757,
          -1.198200424113167,
          0.5585176371958614,
          2.841868047732499,
          1.6636905726743978,
          1.7211592352566345,
          0.9949395176480619,
          0.19616986169800063,
          -0.14051274614354825,
          0.1073303452986238,
          1.675089567247448,
          -0.382084572972859,
          -0.0016282911635695735,
          1.2320543202603755,
          0.09022896162884904,
          0.9435799607814459,
          0.9809640362959389,
          1.4834725357091714,
          0.6880875954674476,
          2.1540368037036726,
          2.9302205430109645,
          3.3311306010261665,
          2.2147279361489542,
          2.2016991878353918,
          1.5706215507810226,
          0.705032762301907,
          2.070139919908507,
          2.6642201811544517,
          0.8487060408357855,
          0.9351118362615017,
          3.195388028676146,
          1.9746257238272373,
          1.580690933588817,
          0.8845613857866234,
          1.4762504556947413,
          -1.1716422291536264,
          -0.5613012620966173,
          2.9089503672571073,
          1.2416307779336357,
          1.2587368986323075,
          -0.38869262852360864,
          0.08640360904614218,
          1.1529685417161748,
          -0.3590946021822529,
          1.794347809658341,
          0.13559360088797048,
          1.5893913857259863,
          1.0322673442873431,
          1.37910421656841,
          1.4926859927572558,
          0.6949970677038092,
          1.1403031838083721,
          0.8242181163715083,
          -0.023835516951264853,
          2.4482765222940013,
          -1.385590642706653,
          1.160430566673439,
          0.8096373427192557,
          0.9484520037466361,
          1.7941001910531285,
          0.6225960567090978,
          1.1896232993605778,
          -0.3748492726593602,
          0.8524901068862706,
          0.3073658906597082,
          0.6177625076503144,
          0.7912072465457264,
          2.4849867701415973,
          0.4316969283071392,
          0.5990961228219396,
          1.7446728459989909,
          0.6749724914027593,
          -2.5574828386272683,
          2.512290754537398,
          1.9861851561368247,
          1.333388183450826,
          -1.7054594639936145,
          1.8944276818636239,
          0.8521854610972396,
          2.5248884667298266,
          1.419532345628775,
          1.696616412127968,
          2.5190234653795223,
          -1.0589362527831772,
          0.7249059462196858,
          2.6538240773529487,
          1.1888798371328226,
          1.0660346015557502,
          1.7669649857068184,
          1.3425485601944245,
          0.5214281137070778,
          1.0767823839141168,
          2.4003485357414567,
          2.953410996733883,
          0.9331810918914824,
          2.1728575077173633,
          1.313774872317469,
          1.114618095908693,
          2.0129112092828976,
          -0.37505830001783774,
          0.3416852162154032,
          0.8720534138043169,
          -0.24229857078240416,
          0.3006102608850331,
          1.9826650395173262,
          0.4189035905454531,
          -0.8021455256853998,
          0.14876262504716342,
          2.0026465816135506,
          1.3055435512788396,
          2.0945208175452112,
          0.1541284999449066,
          -0.16222852220704823,
          0.916612796928555,
          0.5067142901854286,
          0.6292606614472167,
          2.4046699078653915,
          0.9273634636871445,
          -2.78065722526329,
          1.3019179801685252,
          -0.24880871892890843,
          -0.87849347962687,
          0.7531221030014846,
          1.030228675794384,
          2.65370648064039,
          -1.8724942039927477,
          2.60232102436468,
          1.5857041254040825,
          1.537236516402308,
          2.577717210054457,
          1.222199895337035,
          3.8725609160711576,
          2.066783093555811,
          -0.44949021138779294,
          1.789919723504349,
          0.19238272029400544,
          2.7105908052270586,
          -0.871813462584109,
          -0.7864618232522012,
          0.9765439310587007,
          1.8848598536423045,
          0.8697829931577719,
          0.8351987861839318
         ]
        }
       ],
       "layout": {
        "font": {
         "family": "Times New Roman",
         "size": 10
        },
        "geo": {
         "countrycolor": "rgb(0, 0, 0)",
         "countrywidth": 0.1,
         "projection": {
          "type": "equirectangular"
         },
         "showcoastlines": false,
         "showcountries": true,
         "showframe": false
        },
        "margin": {
         "b": 0,
         "l": 0,
         "r": 0,
         "t": 0
        },
        "template": {
         "data": {
          "bar": [
           {
            "error_x": {
             "color": "#2a3f5f"
            },
            "error_y": {
             "color": "#2a3f5f"
            },
            "marker": {
             "line": {
              "color": "#E5ECF6",
              "width": 0.5
             },
             "pattern": {
              "fillmode": "overlay",
              "size": 10,
              "solidity": 0.2
             }
            },
            "type": "bar"
           }
          ],
          "barpolar": [
           {
            "marker": {
             "line": {
              "color": "#E5ECF6",
              "width": 0.5
             },
             "pattern": {
              "fillmode": "overlay",
              "size": 10,
              "solidity": 0.2
             }
            },
            "type": "barpolar"
           }
          ],
          "carpet": [
           {
            "aaxis": {
             "endlinecolor": "#2a3f5f",
             "gridcolor": "white",
             "linecolor": "white",
             "minorgridcolor": "white",
             "startlinecolor": "#2a3f5f"
            },
            "baxis": {
             "endlinecolor": "#2a3f5f",
             "gridcolor": "white",
             "linecolor": "white",
             "minorgridcolor": "white",
             "startlinecolor": "#2a3f5f"
            },
            "type": "carpet"
           }
          ],
          "choropleth": [
           {
            "colorbar": {
             "outlinewidth": 0,
             "ticks": ""
            },
            "type": "choropleth"
           }
          ],
          "contour": [
           {
            "colorbar": {
             "outlinewidth": 0,
             "ticks": ""
            },
            "colorscale": [
             [
              0,
              "#0d0887"
             ],
             [
              0.1111111111111111,
              "#46039f"
             ],
             [
              0.2222222222222222,
              "#7201a8"
             ],
             [
              0.3333333333333333,
              "#9c179e"
             ],
             [
              0.4444444444444444,
              "#bd3786"
             ],
             [
              0.5555555555555556,
              "#d8576b"
             ],
             [
              0.6666666666666666,
              "#ed7953"
             ],
             [
              0.7777777777777778,
              "#fb9f3a"
             ],
             [
              0.8888888888888888,
              "#fdca26"
             ],
             [
              1,
              "#f0f921"
             ]
            ],
            "type": "contour"
           }
          ],
          "contourcarpet": [
           {
            "colorbar": {
             "outlinewidth": 0,
             "ticks": ""
            },
            "type": "contourcarpet"
           }
          ],
          "heatmap": [
           {
            "colorbar": {
             "outlinewidth": 0,
             "ticks": ""
            },
            "colorscale": [
             [
              0,
              "#0d0887"
             ],
             [
              0.1111111111111111,
              "#46039f"
             ],
             [
              0.2222222222222222,
              "#7201a8"
             ],
             [
              0.3333333333333333,
              "#9c179e"
             ],
             [
              0.4444444444444444,
              "#bd3786"
             ],
             [
              0.5555555555555556,
              "#d8576b"
             ],
             [
              0.6666666666666666,
              "#ed7953"
             ],
             [
              0.7777777777777778,
              "#fb9f3a"
             ],
             [
              0.8888888888888888,
              "#fdca26"
             ],
             [
              1,
              "#f0f921"
             ]
            ],
            "type": "heatmap"
           }
          ],
          "heatmapgl": [
           {
            "colorbar": {
             "outlinewidth": 0,
             "ticks": ""
            },
            "colorscale": [
             [
              0,
              "#0d0887"
             ],
             [
              0.1111111111111111,
              "#46039f"
             ],
             [
              0.2222222222222222,
              "#7201a8"
             ],
             [
              0.3333333333333333,
              "#9c179e"
             ],
             [
              0.4444444444444444,
              "#bd3786"
             ],
             [
              0.5555555555555556,
              "#d8576b"
             ],
             [
              0.6666666666666666,
              "#ed7953"
             ],
             [
              0.7777777777777778,
              "#fb9f3a"
             ],
             [
              0.8888888888888888,
              "#fdca26"
             ],
             [
              1,
              "#f0f921"
             ]
            ],
            "type": "heatmapgl"
           }
          ],
          "histogram": [
           {
            "marker": {
             "pattern": {
              "fillmode": "overlay",
              "size": 10,
              "solidity": 0.2
             }
            },
            "type": "histogram"
           }
          ],
          "histogram2d": [
           {
            "colorbar": {
             "outlinewidth": 0,
             "ticks": ""
            },
            "colorscale": [
             [
              0,
              "#0d0887"
             ],
             [
              0.1111111111111111,
              "#46039f"
             ],
             [
              0.2222222222222222,
              "#7201a8"
             ],
             [
              0.3333333333333333,
              "#9c179e"
             ],
             [
              0.4444444444444444,
              "#bd3786"
             ],
             [
              0.5555555555555556,
              "#d8576b"
             ],
             [
              0.6666666666666666,
              "#ed7953"
             ],
             [
              0.7777777777777778,
              "#fb9f3a"
             ],
             [
              0.8888888888888888,
              "#fdca26"
             ],
             [
              1,
              "#f0f921"
             ]
            ],
            "type": "histogram2d"
           }
          ],
          "histogram2dcontour": [
           {
            "colorbar": {
             "outlinewidth": 0,
             "ticks": ""
            },
            "colorscale": [
             [
              0,
              "#0d0887"
             ],
             [
              0.1111111111111111,
              "#46039f"
             ],
             [
              0.2222222222222222,
              "#7201a8"
             ],
             [
              0.3333333333333333,
              "#9c179e"
             ],
             [
              0.4444444444444444,
              "#bd3786"
             ],
             [
              0.5555555555555556,
              "#d8576b"
             ],
             [
              0.6666666666666666,
              "#ed7953"
             ],
             [
              0.7777777777777778,
              "#fb9f3a"
             ],
             [
              0.8888888888888888,
              "#fdca26"
             ],
             [
              1,
              "#f0f921"
             ]
            ],
            "type": "histogram2dcontour"
           }
          ],
          "mesh3d": [
           {
            "colorbar": {
             "outlinewidth": 0,
             "ticks": ""
            },
            "type": "mesh3d"
           }
          ],
          "parcoords": [
           {
            "line": {
             "colorbar": {
              "outlinewidth": 0,
              "ticks": ""
             }
            },
            "type": "parcoords"
           }
          ],
          "pie": [
           {
            "automargin": true,
            "type": "pie"
           }
          ],
          "scatter": [
           {
            "marker": {
             "colorbar": {
              "outlinewidth": 0,
              "ticks": ""
             }
            },
            "type": "scatter"
           }
          ],
          "scatter3d": [
           {
            "line": {
             "colorbar": {
              "outlinewidth": 0,
              "ticks": ""
             }
            },
            "marker": {
             "colorbar": {
              "outlinewidth": 0,
              "ticks": ""
             }
            },
            "type": "scatter3d"
           }
          ],
          "scattercarpet": [
           {
            "marker": {
             "colorbar": {
              "outlinewidth": 0,
              "ticks": ""
             }
            },
            "type": "scattercarpet"
           }
          ],
          "scattergeo": [
           {
            "marker": {
             "colorbar": {
              "outlinewidth": 0,
              "ticks": ""
             }
            },
            "type": "scattergeo"
           }
          ],
          "scattergl": [
           {
            "marker": {
             "colorbar": {
              "outlinewidth": 0,
              "ticks": ""
             }
            },
            "type": "scattergl"
           }
          ],
          "scattermapbox": [
           {
            "marker": {
             "colorbar": {
              "outlinewidth": 0,
              "ticks": ""
             }
            },
            "type": "scattermapbox"
           }
          ],
          "scatterpolar": [
           {
            "marker": {
             "colorbar": {
              "outlinewidth": 0,
              "ticks": ""
             }
            },
            "type": "scatterpolar"
           }
          ],
          "scatterpolargl": [
           {
            "marker": {
             "colorbar": {
              "outlinewidth": 0,
              "ticks": ""
             }
            },
            "type": "scatterpolargl"
           }
          ],
          "scatterternary": [
           {
            "marker": {
             "colorbar": {
              "outlinewidth": 0,
              "ticks": ""
             }
            },
            "type": "scatterternary"
           }
          ],
          "surface": [
           {
            "colorbar": {
             "outlinewidth": 0,
             "ticks": ""
            },
            "colorscale": [
             [
              0,
              "#0d0887"
             ],
             [
              0.1111111111111111,
              "#46039f"
             ],
             [
              0.2222222222222222,
              "#7201a8"
             ],
             [
              0.3333333333333333,
              "#9c179e"
             ],
             [
              0.4444444444444444,
              "#bd3786"
             ],
             [
              0.5555555555555556,
              "#d8576b"
             ],
             [
              0.6666666666666666,
              "#ed7953"
             ],
             [
              0.7777777777777778,
              "#fb9f3a"
             ],
             [
              0.8888888888888888,
              "#fdca26"
             ],
             [
              1,
              "#f0f921"
             ]
            ],
            "type": "surface"
           }
          ],
          "table": [
           {
            "cells": {
             "fill": {
              "color": "#EBF0F8"
             },
             "line": {
              "color": "white"
             }
            },
            "header": {
             "fill": {
              "color": "#C8D4E3"
             },
             "line": {
              "color": "white"
             }
            },
            "type": "table"
           }
          ]
         },
         "layout": {
          "annotationdefaults": {
           "arrowcolor": "#2a3f5f",
           "arrowhead": 0,
           "arrowwidth": 1
          },
          "autotypenumbers": "strict",
          "coloraxis": {
           "colorbar": {
            "outlinewidth": 0,
            "ticks": ""
           }
          },
          "colorscale": {
           "diverging": [
            [
             0,
             "#8e0152"
            ],
            [
             0.1,
             "#c51b7d"
            ],
            [
             0.2,
             "#de77ae"
            ],
            [
             0.3,
             "#f1b6da"
            ],
            [
             0.4,
             "#fde0ef"
            ],
            [
             0.5,
             "#f7f7f7"
            ],
            [
             0.6,
             "#e6f5d0"
            ],
            [
             0.7,
             "#b8e186"
            ],
            [
             0.8,
             "#7fbc41"
            ],
            [
             0.9,
             "#4d9221"
            ],
            [
             1,
             "#276419"
            ]
           ],
           "sequential": [
            [
             0,
             "#0d0887"
            ],
            [
             0.1111111111111111,
             "#46039f"
            ],
            [
             0.2222222222222222,
             "#7201a8"
            ],
            [
             0.3333333333333333,
             "#9c179e"
            ],
            [
             0.4444444444444444,
             "#bd3786"
            ],
            [
             0.5555555555555556,
             "#d8576b"
            ],
            [
             0.6666666666666666,
             "#ed7953"
            ],
            [
             0.7777777777777778,
             "#fb9f3a"
            ],
            [
             0.8888888888888888,
             "#fdca26"
            ],
            [
             1,
             "#f0f921"
            ]
           ],
           "sequentialminus": [
            [
             0,
             "#0d0887"
            ],
            [
             0.1111111111111111,
             "#46039f"
            ],
            [
             0.2222222222222222,
             "#7201a8"
            ],
            [
             0.3333333333333333,
             "#9c179e"
            ],
            [
             0.4444444444444444,
             "#bd3786"
            ],
            [
             0.5555555555555556,
             "#d8576b"
            ],
            [
             0.6666666666666666,
             "#ed7953"
            ],
            [
             0.7777777777777778,
             "#fb9f3a"
            ],
            [
             0.8888888888888888,
             "#fdca26"
            ],
            [
             1,
             "#f0f921"
            ]
           ]
          },
          "colorway": [
           "#636efa",
           "#EF553B",
           "#00cc96",
           "#ab63fa",
           "#FFA15A",
           "#19d3f3",
           "#FF6692",
           "#B6E880",
           "#FF97FF",
           "#FECB52"
          ],
          "font": {
           "color": "#2a3f5f"
          },
          "geo": {
           "bgcolor": "white",
           "lakecolor": "white",
           "landcolor": "#E5ECF6",
           "showlakes": true,
           "showland": true,
           "subunitcolor": "white"
          },
          "hoverlabel": {
           "align": "left"
          },
          "hovermode": "closest",
          "mapbox": {
           "style": "light"
          },
          "paper_bgcolor": "white",
          "plot_bgcolor": "#E5ECF6",
          "polar": {
           "angularaxis": {
            "gridcolor": "white",
            "linecolor": "white",
            "ticks": ""
           },
           "bgcolor": "#E5ECF6",
           "radialaxis": {
            "gridcolor": "white",
            "linecolor": "white",
            "ticks": ""
           }
          },
          "scene": {
           "xaxis": {
            "backgroundcolor": "#E5ECF6",
            "gridcolor": "white",
            "gridwidth": 2,
            "linecolor": "white",
            "showbackground": true,
            "ticks": "",
            "zerolinecolor": "white"
           },
           "yaxis": {
            "backgroundcolor": "#E5ECF6",
            "gridcolor": "white",
            "gridwidth": 2,
            "linecolor": "white",
            "showbackground": true,
            "ticks": "",
            "zerolinecolor": "white"
           },
           "zaxis": {
            "backgroundcolor": "#E5ECF6",
            "gridcolor": "white",
            "gridwidth": 2,
            "linecolor": "white",
            "showbackground": true,
            "ticks": "",
            "zerolinecolor": "white"
           }
          },
          "shapedefaults": {
           "line": {
            "color": "#2a3f5f"
           }
          },
          "ternary": {
           "aaxis": {
            "gridcolor": "white",
            "linecolor": "white",
            "ticks": ""
           },
           "baxis": {
            "gridcolor": "white",
            "linecolor": "white",
            "ticks": ""
           },
           "bgcolor": "#E5ECF6",
           "caxis": {
            "gridcolor": "white",
            "linecolor": "white",
            "ticks": ""
           }
          },
          "title": {
           "x": 0.05
          },
          "xaxis": {
           "automargin": true,
           "gridcolor": "white",
           "linecolor": "white",
           "ticks": "",
           "title": {
            "standoff": 15
           },
           "zerolinecolor": "white",
           "zerolinewidth": 2
          },
          "yaxis": {
           "automargin": true,
           "gridcolor": "white",
           "linecolor": "white",
           "ticks": "",
           "title": {
            "standoff": 15
           },
           "zerolinecolor": "white",
           "zerolinewidth": 2
          }
         }
        }
       }
      }
     },
     "metadata": {},
     "output_type": "display_data"
    }
   ],
   "source": [
    "fig = go.Figure(data=go.Choropleth(\n",
    "        locations = df['Country Code'],\n",
    "        z = df['logGDPloss'],\n",
    "        # text = df['WBCountry'],\n",
    "        colorscale = [[0,\"rgb(210, 240, 255)\"],[0.6,\"rgb(106, 137, 247)\"],[1,\"rgb(5, 10, 172)\"]], \n",
    "        # colorscale = 'Blues', \n",
    "        autocolorscale = False,\n",
    "        marker = dict(\n",
    "            line = dict (\n",
    "                color = 'rgb(180,180,180)',\n",
    "                width = 0.2\n",
    "            ) ),\n",
    "        # colorbar_title='$Billion',\n",
    "        colorbar_title='Macroeconomic burden due <br>to cancer in 2020-2050<br>(in billions of 2017 INT$)<br>',\n",
    "        colorbar = dict(\n",
    "            len = 0.4,\n",
    "            thickness = 15,\n",
    "            # tickwidth = 0.2,\n",
    "            tick0= 0.2,\n",
    "            tickmode='array',\n",
    "            tickvals= [-2.6990,-2, -1,0,1,2,3,4],\n",
    "            ticktext=['$0.002', '$0.01', '$0.1','$1','$10','$100','$1000','$10000']),\n",
    "))\n",
    "fig.update_layout(\n",
    "    font=dict(\n",
    "        # family=\"Courier New, monospace\",\n",
    "        family=\"Times New Roman\",\n",
    "        size=10,\n",
    "        # color=\"#7f7f7f\"\n",
    "    ),\n",
    "    margin = {'l':0,'r':0,'t':0,'b':0},\n",
    "#     title = 'Economic Burden of Road Injuries During 2020-2050',\n",
    "    geo = dict(\n",
    "        showframe = False,\n",
    "        showcoastlines = False,\n",
    "                showcountries = True,\n",
    "        countrycolor = \"rgb(0, 0, 0)\",\n",
    "        countrywidth = 0.1,\n",
    "        projection_type='equirectangular',\n",
    "    )\n",
    ")\n",
    "\n",
    "fig.data[0].colorbar.x=0.0\n",
    "fig.data[0].colorbar.y=0.4\n",
    "fig.show()\n",
    "# plotly.offline.init_notebook_mode()\n",
    "# plotly.offline.iplot(fig)\n",
    "# plot(fig)\n",
    "fig.write_image(\"tables/figure_2.pdf\")"
   ]
  },
  {
   "cell_type": "code",
   "execution_count": 74,
   "metadata": {},
   "outputs": [],
   "source": [
    "## generate tax rate"
   ]
  },
  {
   "cell_type": "code",
   "execution_count": null,
   "metadata": {},
   "outputs": [],
   "source": []
  },
  {
   "cell_type": "code",
   "execution_count": 75,
   "metadata": {},
   "outputs": [
    {
     "name": "stdout",
     "output_type": "stream",
     "text": [
      "['TBL' 'Colon' 'Breast' 'Stomach' 'Liver' 'Brain' 'Leukemia' 'Other'\n",
      " 'Non-Hodgkin' 'Esophageal' 'Cervical' 'Lip'] 12\n"
     ]
    },
    {
     "data": {
      "application/vnd.plotly.v1+json": {
       "config": {
        "plotlyServerURL": "https://plot.ly"
       },
       "data": [
        {
         "colorscale": [
          [
           0,
           "rgb(39, 125, 161)"
          ],
          [
           1,
           "rgb(39, 125, 161)"
          ]
         ],
         "geo": "geo",
         "hovertemplate": "disease=TBL<br>Country Code=%{location}<extra></extra>",
         "locations": [
          "BGR",
          "SRB",
          "GEO",
          "MCO",
          "HUN",
          "MKD",
          "GRL",
          "UKR",
          "DEU",
          "MNE",
          "BIH",
          "POL",
          "USA",
          "EST",
          "NLD",
          "VNM",
          "FRA",
          "ROU",
          "CHN",
          "LVA",
          "ISL",
          "CZE",
          "BRN",
          "MNP",
          "CAN",
          "CUB",
          "AND",
          "LTU",
          "SMR",
          "ARM",
          "DNK",
          "SVN",
          "GBR",
          "BEL",
          "MDA",
          "HRV",
          "ISR",
          "CHE",
          "ESP",
          "ALB",
          "NIU",
          "COK",
          "DOM",
          "AZE",
          "PRK",
          "GRC",
          "KHM",
          "GUM",
          "RUS",
          "ITA",
          "URY",
          "BLR",
          "IDN",
          "TUR",
          "ASM",
          "HND",
          "TUN",
          "LUX",
          "LKA",
          "VUT",
          "MAR",
          "KAZ",
          "TLS",
          "LBN",
          "TWN"
         ],
         "name": "TBL",
         "showlegend": true,
         "showscale": false,
         "type": "choropleth",
         "z": [
          1,
          1,
          1,
          1,
          1,
          1,
          1,
          1,
          1,
          1,
          1,
          1,
          1,
          1,
          1,
          1,
          1,
          1,
          1,
          1,
          1,
          1,
          1,
          1,
          1,
          1,
          1,
          1,
          1,
          1,
          1,
          1,
          1,
          1,
          1,
          1,
          1,
          1,
          1,
          1,
          1,
          1,
          1,
          1,
          1,
          1,
          1,
          1,
          1,
          1,
          1,
          1,
          1,
          1,
          1,
          1,
          1,
          1,
          1,
          1,
          1,
          1,
          1,
          1,
          1
         ]
        },
        {
         "colorscale": [
          [
           0,
           "rgb(150, 150, 150)"
          ],
          [
           1,
           "rgb(150, 150, 150)"
          ]
         ],
         "geo": "geo",
         "hovertemplate": "disease=Colon<br>Country Code=%{location}<extra></extra>",
         "locations": [
          "SVK",
          "JPN",
          "NZL",
          "VIR",
          "AUS",
          "IRL",
          "BMU",
          "CRI",
          "PRI",
          "SWE",
          "PHL",
          "SYC",
          "ARG",
          "PRT",
          "CHL",
          "MEX",
          "MDV"
         ],
         "name": "Colon",
         "showlegend": true,
         "showscale": false,
         "type": "choropleth",
         "z": [
          1,
          1,
          1,
          1,
          1,
          1,
          1,
          1,
          1,
          1,
          1,
          1,
          1,
          1,
          1,
          1,
          1
         ]
        },
        {
         "colorscale": [
          [
           0,
           "rgb(150, 0, 190)"
          ],
          [
           1,
           "rgb(150, 0, 190)"
          ]
         ],
         "geo": "geo",
         "hovertemplate": "disease=Breast<br>Country Code=%{location}<extra></extra>",
         "locations": [
          "BRB",
          "JAM",
          "BHS",
          "SLB",
          "MLT",
          "MYS",
          "GHA",
          "DMA",
          "ATG",
          "FSM",
          "KNA",
          "GRD",
          "PNG",
          "TUV",
          "TKL",
          "MHL",
          "MUS",
          "TTO",
          "UGA",
          "LAO",
          "LCA",
          "NAM",
          "NRU",
          "COD",
          "CYP",
          "COG",
          "FJI",
          "WSM",
          "LBY",
          "NPL",
          "PAN",
          "CMR",
          "DZA",
          "TKM",
          "AGO",
          "SEN",
          "BRA",
          "GNQ",
          "BGD",
          "GAB",
          "KEN",
          "BTN",
          "NGA",
          "OMN"
         ],
         "name": "Breast",
         "showlegend": true,
         "showscale": false,
         "type": "choropleth",
         "z": [
          1,
          1,
          1,
          1,
          1,
          1,
          1,
          1,
          1,
          1,
          1,
          1,
          1,
          1,
          1,
          1,
          1,
          1,
          1,
          1,
          1,
          1,
          1,
          1,
          1,
          1,
          1,
          1,
          1,
          1,
          1,
          1,
          1,
          1,
          1,
          1,
          1,
          1,
          1,
          1,
          1,
          1,
          1,
          1
         ]
        },
        {
         "colorscale": [
          [
           0,
           "rgb(250, 190, 40)"
          ],
          [
           1,
           "rgb(250, 190, 40)"
          ]
         ],
         "geo": "geo",
         "hovertemplate": "disease=Stomach<br>Country Code=%{location}<extra></extra>",
         "locations": [
          "BOL",
          "KGZ",
          "TJK",
          "SLV",
          "COL",
          "ECU",
          "GTM",
          "PER"
         ],
         "name": "Stomach",
         "showlegend": true,
         "showscale": false,
         "type": "choropleth",
         "z": [
          1,
          1,
          1,
          1,
          1,
          1,
          1,
          1
         ]
        },
        {
         "colorscale": [
          [
           0,
           "rgb(144, 190, 109)"
          ],
          [
           1,
           "rgb(144, 190, 109)"
          ]
         ],
         "geo": "geo",
         "hovertemplate": "disease=Liver<br>Country Code=%{location}<extra></extra>",
         "locations": [
          "MNG",
          "GMB",
          "GIN",
          "THA",
          "TON",
          "SWZ",
          "EGY",
          "MLI"
         ],
         "name": "Liver",
         "showlegend": true,
         "showscale": false,
         "type": "choropleth",
         "z": [
          1,
          1,
          1,
          1,
          1,
          1,
          1,
          1
         ]
        },
        {
         "colorscale": [
          [
           0,
           "rgb(255, 204, 210)"
          ],
          [
           1,
           "rgb(255, 204, 210)"
          ]
         ],
         "geo": "geo",
         "hovertemplate": "disease=Brain<br>Country Code=%{location}<extra></extra>",
         "locations": [
          "NOR",
          "UZB",
          "FIN",
          "PSE",
          "IRN"
         ],
         "name": "Brain",
         "showlegend": true,
         "showscale": false,
         "type": "choropleth",
         "z": [
          1,
          1,
          1,
          1,
          1
         ]
        },
        {
         "colorscale": [
          [
           0,
           "rgb(255, 20, 20)"
          ],
          [
           1,
           "rgb(255, 20, 20)"
          ]
         ],
         "geo": "geo",
         "hovertemplate": "disease=Leukemia<br>Country Code=%{location}<extra></extra>",
         "locations": [
          "SYR",
          "AFG",
          "ETH",
          "SDN",
          "YEM",
          "SSD",
          "JOR"
         ],
         "name": "Leukemia",
         "showlegend": true,
         "showscale": false,
         "type": "choropleth",
         "z": [
          1,
          1,
          1,
          1,
          1,
          1,
          1
         ]
        },
        {
         "colorscale": [
          [
           0,
           "rgb(80, 80, 80)"
          ],
          [
           1,
           "rgb(80, 80, 80)"
          ]
         ],
         "geo": "geo",
         "hovertemplate": "disease=Other<br>Country Code=%{location}<extra></extra>",
         "locations": [
          "KOR",
          "AUT",
          "SGP",
          "SAU",
          "KWT",
          "BHR",
          "ARE",
          "QAT",
          "IRQ"
         ],
         "name": "Other",
         "showlegend": true,
         "showscale": false,
         "type": "choropleth",
         "z": [
          1,
          1,
          1,
          1,
          1,
          1,
          1,
          1,
          1
         ]
        },
        {
         "colorscale": [
          [
           0,
           "rgb(244,59,134)"
          ],
          [
           1,
           "rgb(244,59,134)"
          ]
         ],
         "geo": "geo",
         "hovertemplate": "disease=Non-Hodgkin<br>Country Code=%{location}<extra></extra>",
         "locations": [
          "MMR"
         ],
         "name": "Non-Hodgkin",
         "showlegend": true,
         "showscale": false,
         "type": "choropleth",
         "z": [
          1
         ]
        },
        {
         "colorscale": [
          [
           0,
           "rgb(0, 0, 255)"
          ],
          [
           1,
           "rgb(0, 0, 255)"
          ]
         ],
         "geo": "geo",
         "hovertemplate": "disease=Esophageal<br>Country Code=%{location}<extra></extra>",
         "locations": [
          "CPV"
         ],
         "name": "Esophageal",
         "showlegend": true,
         "showscale": false,
         "type": "choropleth",
         "z": [
          1
         ]
        },
        {
         "colorscale": [
          [
           0,
           "rgb(243, 114, 44)"
          ],
          [
           1,
           "rgb(243, 114, 44)"
          ]
         ],
         "geo": "geo",
         "hovertemplate": "disease=Cervical<br>Country Code=%{location}<extra></extra>",
         "locations": [
          "KIR",
          "PLW",
          "LSO",
          "VCT",
          "HTI",
          "SUR",
          "BLZ",
          "GUY",
          "PRY",
          "BFA",
          "VEN",
          "BWA",
          "ERI",
          "RWA",
          "STP",
          "CAF",
          "COM",
          "GNB",
          "ZWE",
          "TZA",
          "ZMB",
          "MOZ",
          "SOM",
          "TGO",
          "DJI",
          "MDG",
          "ZAF",
          "MWI",
          "BDI",
          "NIC",
          "BEN",
          "SLE",
          "LBR",
          "TCD",
          "CIV",
          "NER",
          "MRT"
         ],
         "name": "Cervical",
         "showlegend": true,
         "showscale": false,
         "type": "choropleth",
         "z": [
          1,
          1,
          1,
          1,
          1,
          1,
          1,
          1,
          1,
          1,
          1,
          1,
          1,
          1,
          1,
          1,
          1,
          1,
          1,
          1,
          1,
          1,
          1,
          1,
          1,
          1,
          1,
          1,
          1,
          1,
          1,
          1,
          1,
          1,
          1,
          1,
          1
         ]
        },
        {
         "colorscale": [
          [
           0,
           "rgb(255, 50, 255)"
          ],
          [
           1,
           "rgb(255, 50, 255)"
          ]
         ],
         "geo": "geo",
         "hovertemplate": "disease=Lip<br>Country Code=%{location}<extra></extra>",
         "locations": [
          "PAK",
          "IND"
         ],
         "name": "Lip",
         "showlegend": true,
         "showscale": false,
         "type": "choropleth",
         "z": [
          1,
          1
         ]
        }
       ],
       "layout": {
        "font": {
         "family": "Times New Roman",
         "size": 10
        },
        "geo": {
         "center": {},
         "countrycolor": "rgb(0, 0, 0)",
         "countrywidth": 0.1,
         "domain": {
          "x": [
           0,
           1
          ],
          "y": [
           0,
           1
          ]
         },
         "projection": {
          "type": "equirectangular"
         },
         "showcoastlines": false,
         "showcountries": true,
         "showframe": false
        },
        "legend": {
         "title": {
          "text": "Cancer types"
         },
         "tracegroupgap": 0,
         "x": 0,
         "y": 0.2
        },
        "margin": {
         "b": 0,
         "l": 0,
         "r": 0,
         "t": 0
        },
        "template": {
         "data": {
          "bar": [
           {
            "error_x": {
             "color": "#2a3f5f"
            },
            "error_y": {
             "color": "#2a3f5f"
            },
            "marker": {
             "line": {
              "color": "#E5ECF6",
              "width": 0.5
             },
             "pattern": {
              "fillmode": "overlay",
              "size": 10,
              "solidity": 0.2
             }
            },
            "type": "bar"
           }
          ],
          "barpolar": [
           {
            "marker": {
             "line": {
              "color": "#E5ECF6",
              "width": 0.5
             },
             "pattern": {
              "fillmode": "overlay",
              "size": 10,
              "solidity": 0.2
             }
            },
            "type": "barpolar"
           }
          ],
          "carpet": [
           {
            "aaxis": {
             "endlinecolor": "#2a3f5f",
             "gridcolor": "white",
             "linecolor": "white",
             "minorgridcolor": "white",
             "startlinecolor": "#2a3f5f"
            },
            "baxis": {
             "endlinecolor": "#2a3f5f",
             "gridcolor": "white",
             "linecolor": "white",
             "minorgridcolor": "white",
             "startlinecolor": "#2a3f5f"
            },
            "type": "carpet"
           }
          ],
          "choropleth": [
           {
            "colorbar": {
             "outlinewidth": 0,
             "ticks": ""
            },
            "type": "choropleth"
           }
          ],
          "contour": [
           {
            "colorbar": {
             "outlinewidth": 0,
             "ticks": ""
            },
            "colorscale": [
             [
              0,
              "#0d0887"
             ],
             [
              0.1111111111111111,
              "#46039f"
             ],
             [
              0.2222222222222222,
              "#7201a8"
             ],
             [
              0.3333333333333333,
              "#9c179e"
             ],
             [
              0.4444444444444444,
              "#bd3786"
             ],
             [
              0.5555555555555556,
              "#d8576b"
             ],
             [
              0.6666666666666666,
              "#ed7953"
             ],
             [
              0.7777777777777778,
              "#fb9f3a"
             ],
             [
              0.8888888888888888,
              "#fdca26"
             ],
             [
              1,
              "#f0f921"
             ]
            ],
            "type": "contour"
           }
          ],
          "contourcarpet": [
           {
            "colorbar": {
             "outlinewidth": 0,
             "ticks": ""
            },
            "type": "contourcarpet"
           }
          ],
          "heatmap": [
           {
            "colorbar": {
             "outlinewidth": 0,
             "ticks": ""
            },
            "colorscale": [
             [
              0,
              "#0d0887"
             ],
             [
              0.1111111111111111,
              "#46039f"
             ],
             [
              0.2222222222222222,
              "#7201a8"
             ],
             [
              0.3333333333333333,
              "#9c179e"
             ],
             [
              0.4444444444444444,
              "#bd3786"
             ],
             [
              0.5555555555555556,
              "#d8576b"
             ],
             [
              0.6666666666666666,
              "#ed7953"
             ],
             [
              0.7777777777777778,
              "#fb9f3a"
             ],
             [
              0.8888888888888888,
              "#fdca26"
             ],
             [
              1,
              "#f0f921"
             ]
            ],
            "type": "heatmap"
           }
          ],
          "heatmapgl": [
           {
            "colorbar": {
             "outlinewidth": 0,
             "ticks": ""
            },
            "colorscale": [
             [
              0,
              "#0d0887"
             ],
             [
              0.1111111111111111,
              "#46039f"
             ],
             [
              0.2222222222222222,
              "#7201a8"
             ],
             [
              0.3333333333333333,
              "#9c179e"
             ],
             [
              0.4444444444444444,
              "#bd3786"
             ],
             [
              0.5555555555555556,
              "#d8576b"
             ],
             [
              0.6666666666666666,
              "#ed7953"
             ],
             [
              0.7777777777777778,
              "#fb9f3a"
             ],
             [
              0.8888888888888888,
              "#fdca26"
             ],
             [
              1,
              "#f0f921"
             ]
            ],
            "type": "heatmapgl"
           }
          ],
          "histogram": [
           {
            "marker": {
             "pattern": {
              "fillmode": "overlay",
              "size": 10,
              "solidity": 0.2
             }
            },
            "type": "histogram"
           }
          ],
          "histogram2d": [
           {
            "colorbar": {
             "outlinewidth": 0,
             "ticks": ""
            },
            "colorscale": [
             [
              0,
              "#0d0887"
             ],
             [
              0.1111111111111111,
              "#46039f"
             ],
             [
              0.2222222222222222,
              "#7201a8"
             ],
             [
              0.3333333333333333,
              "#9c179e"
             ],
             [
              0.4444444444444444,
              "#bd3786"
             ],
             [
              0.5555555555555556,
              "#d8576b"
             ],
             [
              0.6666666666666666,
              "#ed7953"
             ],
             [
              0.7777777777777778,
              "#fb9f3a"
             ],
             [
              0.8888888888888888,
              "#fdca26"
             ],
             [
              1,
              "#f0f921"
             ]
            ],
            "type": "histogram2d"
           }
          ],
          "histogram2dcontour": [
           {
            "colorbar": {
             "outlinewidth": 0,
             "ticks": ""
            },
            "colorscale": [
             [
              0,
              "#0d0887"
             ],
             [
              0.1111111111111111,
              "#46039f"
             ],
             [
              0.2222222222222222,
              "#7201a8"
             ],
             [
              0.3333333333333333,
              "#9c179e"
             ],
             [
              0.4444444444444444,
              "#bd3786"
             ],
             [
              0.5555555555555556,
              "#d8576b"
             ],
             [
              0.6666666666666666,
              "#ed7953"
             ],
             [
              0.7777777777777778,
              "#fb9f3a"
             ],
             [
              0.8888888888888888,
              "#fdca26"
             ],
             [
              1,
              "#f0f921"
             ]
            ],
            "type": "histogram2dcontour"
           }
          ],
          "mesh3d": [
           {
            "colorbar": {
             "outlinewidth": 0,
             "ticks": ""
            },
            "type": "mesh3d"
           }
          ],
          "parcoords": [
           {
            "line": {
             "colorbar": {
              "outlinewidth": 0,
              "ticks": ""
             }
            },
            "type": "parcoords"
           }
          ],
          "pie": [
           {
            "automargin": true,
            "type": "pie"
           }
          ],
          "scatter": [
           {
            "marker": {
             "colorbar": {
              "outlinewidth": 0,
              "ticks": ""
             }
            },
            "type": "scatter"
           }
          ],
          "scatter3d": [
           {
            "line": {
             "colorbar": {
              "outlinewidth": 0,
              "ticks": ""
             }
            },
            "marker": {
             "colorbar": {
              "outlinewidth": 0,
              "ticks": ""
             }
            },
            "type": "scatter3d"
           }
          ],
          "scattercarpet": [
           {
            "marker": {
             "colorbar": {
              "outlinewidth": 0,
              "ticks": ""
             }
            },
            "type": "scattercarpet"
           }
          ],
          "scattergeo": [
           {
            "marker": {
             "colorbar": {
              "outlinewidth": 0,
              "ticks": ""
             }
            },
            "type": "scattergeo"
           }
          ],
          "scattergl": [
           {
            "marker": {
             "colorbar": {
              "outlinewidth": 0,
              "ticks": ""
             }
            },
            "type": "scattergl"
           }
          ],
          "scattermapbox": [
           {
            "marker": {
             "colorbar": {
              "outlinewidth": 0,
              "ticks": ""
             }
            },
            "type": "scattermapbox"
           }
          ],
          "scatterpolar": [
           {
            "marker": {
             "colorbar": {
              "outlinewidth": 0,
              "ticks": ""
             }
            },
            "type": "scatterpolar"
           }
          ],
          "scatterpolargl": [
           {
            "marker": {
             "colorbar": {
              "outlinewidth": 0,
              "ticks": ""
             }
            },
            "type": "scatterpolargl"
           }
          ],
          "scatterternary": [
           {
            "marker": {
             "colorbar": {
              "outlinewidth": 0,
              "ticks": ""
             }
            },
            "type": "scatterternary"
           }
          ],
          "surface": [
           {
            "colorbar": {
             "outlinewidth": 0,
             "ticks": ""
            },
            "colorscale": [
             [
              0,
              "#0d0887"
             ],
             [
              0.1111111111111111,
              "#46039f"
             ],
             [
              0.2222222222222222,
              "#7201a8"
             ],
             [
              0.3333333333333333,
              "#9c179e"
             ],
             [
              0.4444444444444444,
              "#bd3786"
             ],
             [
              0.5555555555555556,
              "#d8576b"
             ],
             [
              0.6666666666666666,
              "#ed7953"
             ],
             [
              0.7777777777777778,
              "#fb9f3a"
             ],
             [
              0.8888888888888888,
              "#fdca26"
             ],
             [
              1,
              "#f0f921"
             ]
            ],
            "type": "surface"
           }
          ],
          "table": [
           {
            "cells": {
             "fill": {
              "color": "#EBF0F8"
             },
             "line": {
              "color": "white"
             }
            },
            "header": {
             "fill": {
              "color": "#C8D4E3"
             },
             "line": {
              "color": "white"
             }
            },
            "type": "table"
           }
          ]
         },
         "layout": {
          "annotationdefaults": {
           "arrowcolor": "#2a3f5f",
           "arrowhead": 0,
           "arrowwidth": 1
          },
          "autotypenumbers": "strict",
          "coloraxis": {
           "colorbar": {
            "outlinewidth": 0,
            "ticks": ""
           }
          },
          "colorscale": {
           "diverging": [
            [
             0,
             "#8e0152"
            ],
            [
             0.1,
             "#c51b7d"
            ],
            [
             0.2,
             "#de77ae"
            ],
            [
             0.3,
             "#f1b6da"
            ],
            [
             0.4,
             "#fde0ef"
            ],
            [
             0.5,
             "#f7f7f7"
            ],
            [
             0.6,
             "#e6f5d0"
            ],
            [
             0.7,
             "#b8e186"
            ],
            [
             0.8,
             "#7fbc41"
            ],
            [
             0.9,
             "#4d9221"
            ],
            [
             1,
             "#276419"
            ]
           ],
           "sequential": [
            [
             0,
             "#0d0887"
            ],
            [
             0.1111111111111111,
             "#46039f"
            ],
            [
             0.2222222222222222,
             "#7201a8"
            ],
            [
             0.3333333333333333,
             "#9c179e"
            ],
            [
             0.4444444444444444,
             "#bd3786"
            ],
            [
             0.5555555555555556,
             "#d8576b"
            ],
            [
             0.6666666666666666,
             "#ed7953"
            ],
            [
             0.7777777777777778,
             "#fb9f3a"
            ],
            [
             0.8888888888888888,
             "#fdca26"
            ],
            [
             1,
             "#f0f921"
            ]
           ],
           "sequentialminus": [
            [
             0,
             "#0d0887"
            ],
            [
             0.1111111111111111,
             "#46039f"
            ],
            [
             0.2222222222222222,
             "#7201a8"
            ],
            [
             0.3333333333333333,
             "#9c179e"
            ],
            [
             0.4444444444444444,
             "#bd3786"
            ],
            [
             0.5555555555555556,
             "#d8576b"
            ],
            [
             0.6666666666666666,
             "#ed7953"
            ],
            [
             0.7777777777777778,
             "#fb9f3a"
            ],
            [
             0.8888888888888888,
             "#fdca26"
            ],
            [
             1,
             "#f0f921"
            ]
           ]
          },
          "colorway": [
           "#636efa",
           "#EF553B",
           "#00cc96",
           "#ab63fa",
           "#FFA15A",
           "#19d3f3",
           "#FF6692",
           "#B6E880",
           "#FF97FF",
           "#FECB52"
          ],
          "font": {
           "color": "#2a3f5f"
          },
          "geo": {
           "bgcolor": "white",
           "lakecolor": "white",
           "landcolor": "#E5ECF6",
           "showlakes": true,
           "showland": true,
           "subunitcolor": "white"
          },
          "hoverlabel": {
           "align": "left"
          },
          "hovermode": "closest",
          "mapbox": {
           "style": "light"
          },
          "paper_bgcolor": "white",
          "plot_bgcolor": "#E5ECF6",
          "polar": {
           "angularaxis": {
            "gridcolor": "white",
            "linecolor": "white",
            "ticks": ""
           },
           "bgcolor": "#E5ECF6",
           "radialaxis": {
            "gridcolor": "white",
            "linecolor": "white",
            "ticks": ""
           }
          },
          "scene": {
           "xaxis": {
            "backgroundcolor": "#E5ECF6",
            "gridcolor": "white",
            "gridwidth": 2,
            "linecolor": "white",
            "showbackground": true,
            "ticks": "",
            "zerolinecolor": "white"
           },
           "yaxis": {
            "backgroundcolor": "#E5ECF6",
            "gridcolor": "white",
            "gridwidth": 2,
            "linecolor": "white",
            "showbackground": true,
            "ticks": "",
            "zerolinecolor": "white"
           },
           "zaxis": {
            "backgroundcolor": "#E5ECF6",
            "gridcolor": "white",
            "gridwidth": 2,
            "linecolor": "white",
            "showbackground": true,
            "ticks": "",
            "zerolinecolor": "white"
           }
          },
          "shapedefaults": {
           "line": {
            "color": "#2a3f5f"
           }
          },
          "ternary": {
           "aaxis": {
            "gridcolor": "white",
            "linecolor": "white",
            "ticks": ""
           },
           "baxis": {
            "gridcolor": "white",
            "linecolor": "white",
            "ticks": ""
           },
           "bgcolor": "#E5ECF6",
           "caxis": {
            "gridcolor": "white",
            "linecolor": "white",
            "ticks": ""
           }
          },
          "title": {
           "x": 0.05
          },
          "xaxis": {
           "automargin": true,
           "gridcolor": "white",
           "linecolor": "white",
           "ticks": "",
           "title": {
            "standoff": 15
           },
           "zerolinecolor": "white",
           "zerolinewidth": 2
          },
          "yaxis": {
           "automargin": true,
           "gridcolor": "white",
           "linecolor": "white",
           "ticks": "",
           "title": {
            "standoff": 15
           },
           "zerolinecolor": "white",
           "zerolinewidth": 2
          }
         }
        }
       }
      }
     },
     "metadata": {},
     "output_type": "display_data"
    }
   ],
   "source": [
    "import plotly.express as px\n",
    "df = pd.read_csv('Tables/Table1g_discount0.0.csv')\n",
    "df = df.set_index('Country Code')\n",
    "df.loc['TWN',:] = df.loc['CHN',:]\n",
    "df = df.replace(\"Tracheal, bronchus, and lung cancer\", 'TBL')\n",
    "df = df.replace(\"Colon and rectum cancer\", 'Colon')\n",
    "df = df.replace(\"Stomach cancer\", 'Stomach')\n",
    "df = df.replace(\"Breast cancer\", 'Breast')\n",
    "df = df.replace(\"Other neoplasms\", 'Other')\n",
    "df = df.replace(\"Liver cancer\", 'Liver')\n",
    "df = df.replace(\"Esophageal cancer\", 'Esophageal')\n",
    "df = df.replace(\"Leukemia\", 'Leukemia')\n",
    "df = df.replace(\"Pancreatic cancer\", 'Pancreatic')\n",
    "df = df.replace(\"Cervical cancer\", 'Cervical')\n",
    "df = df.replace(\"Prostate cancer\", 'Prostate')\n",
    "df = df.replace(\"Brain and central nervous system cancer\", 'Brain')\n",
    "df = df.replace(\"Lip and oral cavity cancer\", 'Lip')\n",
    "df = df.replace(\"Non-Hodgkin lymphoma\", 'Non-Hodgkin')\n",
    "df = df.reset_index()\n",
    "print(df['disease'].unique(), len(df['disease'].unique()))\n",
    "fig = px.choropleth(df,\n",
    "        locations = df['Country Code'],\n",
    "        # \"Bergeron\"\n",
    "        color = df['disease'],\n",
    "        color_discrete_map = {'TBL': \"rgb(39, 125, 161)\",\n",
    "                            'Colon': \"rgb(150, 150, 150)\",\n",
    "                            'Breast':  \"rgb(150, 0, 190)\", #\"rgb(77, 144, 142)\",\n",
    "                            'Stomach': \"rgb(250, 190, 40)\",\n",
    "                            'Liver': \"rgb(144, 190, 109)\",\n",
    "                            'Brain': \"rgb(255, 204, 210)\",\n",
    "                            'Leukemia': \"rgb(255, 20, 20)\", #\"rgb(249, 132, 74)\",\n",
    "                            'Other': \"rgb(80, 80, 80)\",\n",
    "                            'Non-Hodgkin': \"rgb(244,59,134)\",\n",
    "                            'Esophageal': \"rgb(0, 0, 255)\", #\"rgb(67, 170, 139)\", #\"rgb(248, 150, 30)\",\n",
    "                            'Cervical': \"rgb(243, 114, 44)\",\n",
    "                            'Lip': \"rgb(255, 50, 255)\"\n",
    "                            },\n",
    "        # colorbar = dict(\n",
    "        #     len = 0.5,\n",
    "        #     thickness = 5,\n",
    "        #     tickwidth = 0.2,\n",
    "        #     tick0= 0.2,\n",
    "        #     title = 'Disease')\n",
    ")\n",
    "fig.update_layout(\n",
    "    font=dict(\n",
    "        # family=\"Courier New, monospace\",\n",
    "        family=\"Times New Roman\",\n",
    "        size=10,\n",
    "        # color=\"#7f7f7f\"\n",
    "    ),\n",
    "    margin = {'l':0,'r':0,'t':0,'b':0},\n",
    "#     title = 'Economic Burden of Road Injuries During 2020-2050',\n",
    "    geo = dict(\n",
    "        showframe = False,\n",
    "        showcoastlines = False,\n",
    "                showcountries = True,\n",
    "        countrycolor = \"rgb(0, 0, 0)\",\n",
    "        countrywidth = 0.1,\n",
    "        projection_type='equirectangular',\n",
    "    ),\n",
    "    legend = dict(\n",
    "        x = 0, \n",
    "        y = 0.2,\n",
    "        title = 'Cancer types'\n",
    "    )\n",
    "        \n",
    ")\n",
    "# fig.update_layout(\n",
    "#     geo = dict(\n",
    "#         showframe = False,\n",
    "#         showcoastlines = False,\n",
    "#                 showcountries = True,\n",
    "#         countrycolor = \"rgb(0, 0, 0)\",\n",
    "#         countrywidth = 0.1,\n",
    "#         projection_type='equirectangular'\n",
    "#     )\n",
    "# )\n",
    "fig.update_layout(margin={\"r\":0,\"t\":0,\"l\":0,\"b\":0})\n",
    "# fig.update_geos(fitbounds=\"locations\", visible=False)\n",
    "\n",
    "fig.show()\n",
    "# plot(fig)\n",
    "fig.write_image(\"tables/figure_3.pdf\")"
   ]
  },
  {
   "cell_type": "code",
   "execution_count": null,
   "metadata": {},
   "outputs": [],
   "source": []
  },
  {
   "cell_type": "code",
   "execution_count": null,
   "metadata": {},
   "outputs": [],
   "source": []
  },
  {
   "cell_type": "markdown",
   "metadata": {},
   "source": [
    "# Addtion part. we should download total cancer data from IHME website. The data are saved in bigdata/Total cancers"
   ]
  },
  {
   "cell_type": "markdown",
   "metadata": {},
   "source": []
  },
  {
   "cell_type": "code",
   "execution_count": 76,
   "metadata": {},
   "outputs": [
    {
     "data": {
      "application/vnd.plotly.v1+json": {
       "config": {
        "plotlyServerURL": "https://plot.ly"
       },
       "data": [
        {
         "autocolorscale": false,
         "colorbar": {
          "len": 0.4,
          "thickness": 15,
          "tick0": 0.2,
          "tickwidth": 0.2,
          "title": {
           "text": "Incidence"
          },
          "x": 0,
          "y": 0.4
         },
         "colorscale": [
          [
           0,
           "rgb(5, 10, 172)"
          ],
          [
           0.35,
           "rgb(40, 60, 190)"
          ],
          [
           0.5,
           "rgb(70, 100, 245)"
          ],
          [
           0.6,
           "rgb(90, 120, 245)"
          ],
          [
           0.7,
           "rgb(106, 137, 247)"
          ],
          [
           1,
           "rgb(210, 240, 255)"
          ]
         ],
         "locations": [
          "AFG",
          "AGO",
          "ALB",
          "AND",
          "ARE",
          "ARG",
          "ARM",
          "ASM",
          "ATG",
          "AUS",
          "AUT",
          "AZE",
          "BDI",
          "BEL",
          "BEN",
          "BFA",
          "BGD",
          "BGR",
          "BHR",
          "BHS",
          "BIH",
          "BLR",
          "BLZ",
          "BMU",
          "BOL",
          "BRA",
          "BRB",
          "BRN",
          "BTN",
          "BWA",
          "CAF",
          "CAN",
          "CHE",
          "CHL",
          "CHN",
          "CIV",
          "CMR",
          "COD",
          "COG",
          "COK",
          "COL",
          "COM",
          "CPV",
          "CRI",
          "CUB",
          "CYP",
          "CZE",
          "DEU",
          "DJI",
          "DMA",
          "DNK",
          "DOM",
          "DZA",
          "ECU",
          "EGY",
          "ERI",
          "ESP",
          "EST",
          "ETH",
          "FIN",
          "FJI",
          "FRA",
          "FSM",
          "GAB",
          "GBR",
          "GEO",
          "GHA",
          "GIN",
          "GMB",
          "GNB",
          "GNQ",
          "GRC",
          "GRD",
          "GRL",
          "GTM",
          "GUM",
          "GUY",
          "HND",
          "HRV",
          "HTI",
          "HUN",
          "IDN",
          "IND",
          "IRL",
          "IRN",
          "IRQ",
          "ISL",
          "ISR",
          "ITA",
          "JAM",
          "JOR",
          "JPN",
          "KAZ",
          "KEN",
          "KGZ",
          "KHM",
          "KIR",
          "KNA",
          "KOR",
          "KWT",
          "LAO",
          "LBN",
          "LBR",
          "LBY",
          "LCA",
          "LKA",
          "LSO",
          "LTU",
          "LUX",
          "LVA",
          "MAR",
          "MCO",
          "MDA",
          "MDG",
          "MDV",
          "MEX",
          "MHL",
          "MKD",
          "MLI",
          "MLT",
          "MMR",
          "MNE",
          "MNG",
          "MNP",
          "MOZ",
          "MRT",
          "MUS",
          "MWI",
          "MYS",
          "NAM",
          "NER",
          "NGA",
          "NIC",
          "NIU",
          "NLD",
          "NOR",
          "NPL",
          "NRU",
          "NZL",
          "OMN",
          "PAK",
          "PAN",
          "PER",
          "PHL",
          "PLW",
          "PNG",
          "POL",
          "PRI",
          "PRK",
          "PRT",
          "PRY",
          "PSE",
          "QAT",
          "ROU",
          "RUS",
          "RWA",
          "SAU",
          "SDN",
          "SEN",
          "SGP",
          "SLB",
          "SLE",
          "SLV",
          "SMR",
          "SOM",
          "SRB",
          "SSD",
          "STP",
          "SUR",
          "SVK",
          "SVN",
          "SWE",
          "SWZ",
          "SYC",
          "SYR",
          "TCD",
          "TGO",
          "THA",
          "TJK",
          "TKL",
          "TKM",
          "TLS",
          "TON",
          "TTO",
          "TUN",
          "TUR",
          "TUV",
          "TWN",
          "TZA",
          "UGA",
          "UKR",
          "URY",
          "USA",
          "UZB",
          "VCT",
          "VEN",
          "VIR",
          "VNM",
          "VUT",
          "WSM",
          "YEM",
          "ZAF",
          "ZMB",
          "ZWE"
         ],
         "marker": {
          "line": {
           "color": "rgb(180,180,180)",
           "width": 0.2
          }
         },
         "reversescale": true,
         "type": "choropleth",
         "z": [
          0.7033055002771662,
          0.5585542432503664,
          3.0759763319857263,
          6.743117141183064,
          1.1377634495963664,
          3.126868593680957,
          3.1579102168497575,
          1.7268783804464787,
          2.944970682543038,
          10.13354923925772,
          5.912554147479317,
          1.865355448433041,
          0.569811252531313,
          6.563729914626049,
          0.522281419655362,
          0.5750193182753864,
          0.8446766216270306,
          6.37452512242864,
          1.236220650962955,
          2.745550315361305,
          4.651373004028053,
          4.291502066453915,
          1.1840540961869876,
          6.156312648507561,
          1.6599463146626081,
          2.736787512997255,
          5.112808025595664,
          2.1930860065946978,
          0.8038862938804556,
          1.3767795708953638,
          0.6186499533012766,
          22.526507148911296,
          6.392370207054565,
          3.3068817772994366,
          3.3452807850798725,
          0.5493144367767946,
          0.6400868678693941,
          0.538090050304451,
          0.8260977570125343,
          2.83097736456964,
          2.191330857867942,
          0.9417111742820375,
          1.57437076177982,
          2.8562359708330325,
          4.613225643685173,
          4.711923435209332,
          6.8738987219785415,
          7.389862334929717,
          0.8272123178887321,
          3.7515445235176106,
          7.245418855320626,
          1.5321260433170472,
          1.0520477697041732,
          1.7234022323865732,
          0.9411794971174312,
          0.7079595216751187,
          6.761682836704697,
          6.22877425083649,
          0.4977902501190657,
          6.921112492801646,
          1.2938559695463185,
          6.8496296997306425,
          1.4924178605423402,
          1.049425140060375,
          6.705645522022695,
          3.656680506817072,
          0.7876267023970661,
          0.7921955845881005,
          0.5687714137925297,
          0.6559657055017359,
          0.5770684630638844,
          7.133251193101031,
          3.0943508814610703,
          10.99826968232762,
          1.1879571516922005,
          1.7159222201247253,
          1.5720937830179134,
          1.2583825315053718,
          6.731480140995457,
          1.14330451322586,
          6.31143005943594,
          1.1953669433379728,
          0.8719510413731644,
          5.823717498327352,
          1.4761964713660405,
          1.0219883936577796,
          5.06214636869163,
          3.6018613748340003,
          8.107636189739777,
          2.635484467059044,
          1.004674486559898,
          6.943375661567014,
          1.982421635310202,
          0.5638190498073548,
          1.0713812889549073,
          1.1350732486655821,
          1.4832504687676384,
          3.521271139151367,
          4.1413770880441705,
          0.9858446061871726,
          0.8923637813953958,
          3.224461870695643,
          0.544151129398724,
          1.35074450278585,
          2.8981296618190044,
          1.420676494659782,
          1.347690687765367,
          5.230781959763611,
          5.123978178931914,
          5.316189573194364,
          1.2067976299126852,
          12.825741404413902,
          3.0556588349329217,
          0.5445315466115546,
          0.7623796772150768,
          1.7773325643668312,
          1.2657392534365557,
          4.433175795813959,
          0.533987505443388,
          5.711563842091774,
          1.2183522276459202,
          4.863721325664357,
          2.132569320237096,
          3.179662470006199,
          0.6091017830907716,
          0.6413150522847766,
          1.9539322809889865,
          0.6828954272389833,
          1.6229076173796801,
          1.0330326834010757,
          0.38567981610353747,
          0.49051669014518384,
          1.3671240664126176,
          2.592965313986285,
          7.888239722661953,
          6.278808891847363,
          0.8741507938868104,
          1.2153393261874903,
          10.846688559427484,
          0.7206195575397496,
          1.0926312694257603,
          1.9518570506950428,
          1.796432834392786,
          1.0591134590992959,
          3.208574594715958,
          0.7821134042112032,
          4.928935920323659,
          4.032608443160055,
          1.9991247465627489,
          6.451758778963287,
          1.3934867623058684,
          0.9965980952255008,
          0.7849696773665831,
          4.810786187793808,
          4.008766206977123,
          0.7387419427517539,
          0.9240561183317293,
          0.6195064256169598,
          0.6795902898720692,
          3.0836047049033066,
          1.4853443174589822,
          0.5805515550053711,
          1.7596470885031679,
          8.066636989520862,
          0.4884434827598752,
          5.716768789252011,
          0.5453210898765635,
          0.9382718534738685,
          1.82085817359153,
          5.586449836212678,
          6.7944775508912105,
          6.713126071958108,
          1.1323158355626992,
          2.7886468959563393,
          1.0179719701435643,
          0.4654359739120429,
          0.6241157789773482,
          2.3736895100818725,
          0.8709185377742579,
          1.601118304405222,
          1.2588442300380063,
          0.7770641307435163,
          1.6219331788534441,
          2.487684439309377,
          1.6365839968532994,
          2.240738385352444,
          1.5211777208467503,
          3.3452807850798725,
          0.7203582835486684,
          0.6968872943878205,
          4.014477715952213,
          4.674598009825068,
          18.919909062054327,
          1.1759176300692982,
          2.8823557007438585,
          2.570103854233781,
          5.518160658123037,
          1.8179476411917441,
          0.9465364441391556,
          1.060342508709307,
          0.5569521593710005,
          1.483295410512034,
          0.7250247151847204,
          1.0886576882167527
         ]
        }
       ],
       "layout": {
        "font": {
         "family": "Times New Roman",
         "size": 8
        },
        "geo": {
         "countrycolor": "rgb(0, 0, 0)",
         "countrywidth": 0.1,
         "projection": {
          "type": "equirectangular"
         },
         "showcoastlines": false,
         "showcountries": true,
         "showframe": false
        },
        "margin": {
         "b": 0,
         "l": 0,
         "r": 0,
         "t": 0
        },
        "template": {
         "data": {
          "bar": [
           {
            "error_x": {
             "color": "#2a3f5f"
            },
            "error_y": {
             "color": "#2a3f5f"
            },
            "marker": {
             "line": {
              "color": "#E5ECF6",
              "width": 0.5
             },
             "pattern": {
              "fillmode": "overlay",
              "size": 10,
              "solidity": 0.2
             }
            },
            "type": "bar"
           }
          ],
          "barpolar": [
           {
            "marker": {
             "line": {
              "color": "#E5ECF6",
              "width": 0.5
             },
             "pattern": {
              "fillmode": "overlay",
              "size": 10,
              "solidity": 0.2
             }
            },
            "type": "barpolar"
           }
          ],
          "carpet": [
           {
            "aaxis": {
             "endlinecolor": "#2a3f5f",
             "gridcolor": "white",
             "linecolor": "white",
             "minorgridcolor": "white",
             "startlinecolor": "#2a3f5f"
            },
            "baxis": {
             "endlinecolor": "#2a3f5f",
             "gridcolor": "white",
             "linecolor": "white",
             "minorgridcolor": "white",
             "startlinecolor": "#2a3f5f"
            },
            "type": "carpet"
           }
          ],
          "choropleth": [
           {
            "colorbar": {
             "outlinewidth": 0,
             "ticks": ""
            },
            "type": "choropleth"
           }
          ],
          "contour": [
           {
            "colorbar": {
             "outlinewidth": 0,
             "ticks": ""
            },
            "colorscale": [
             [
              0,
              "#0d0887"
             ],
             [
              0.1111111111111111,
              "#46039f"
             ],
             [
              0.2222222222222222,
              "#7201a8"
             ],
             [
              0.3333333333333333,
              "#9c179e"
             ],
             [
              0.4444444444444444,
              "#bd3786"
             ],
             [
              0.5555555555555556,
              "#d8576b"
             ],
             [
              0.6666666666666666,
              "#ed7953"
             ],
             [
              0.7777777777777778,
              "#fb9f3a"
             ],
             [
              0.8888888888888888,
              "#fdca26"
             ],
             [
              1,
              "#f0f921"
             ]
            ],
            "type": "contour"
           }
          ],
          "contourcarpet": [
           {
            "colorbar": {
             "outlinewidth": 0,
             "ticks": ""
            },
            "type": "contourcarpet"
           }
          ],
          "heatmap": [
           {
            "colorbar": {
             "outlinewidth": 0,
             "ticks": ""
            },
            "colorscale": [
             [
              0,
              "#0d0887"
             ],
             [
              0.1111111111111111,
              "#46039f"
             ],
             [
              0.2222222222222222,
              "#7201a8"
             ],
             [
              0.3333333333333333,
              "#9c179e"
             ],
             [
              0.4444444444444444,
              "#bd3786"
             ],
             [
              0.5555555555555556,
              "#d8576b"
             ],
             [
              0.6666666666666666,
              "#ed7953"
             ],
             [
              0.7777777777777778,
              "#fb9f3a"
             ],
             [
              0.8888888888888888,
              "#fdca26"
             ],
             [
              1,
              "#f0f921"
             ]
            ],
            "type": "heatmap"
           }
          ],
          "heatmapgl": [
           {
            "colorbar": {
             "outlinewidth": 0,
             "ticks": ""
            },
            "colorscale": [
             [
              0,
              "#0d0887"
             ],
             [
              0.1111111111111111,
              "#46039f"
             ],
             [
              0.2222222222222222,
              "#7201a8"
             ],
             [
              0.3333333333333333,
              "#9c179e"
             ],
             [
              0.4444444444444444,
              "#bd3786"
             ],
             [
              0.5555555555555556,
              "#d8576b"
             ],
             [
              0.6666666666666666,
              "#ed7953"
             ],
             [
              0.7777777777777778,
              "#fb9f3a"
             ],
             [
              0.8888888888888888,
              "#fdca26"
             ],
             [
              1,
              "#f0f921"
             ]
            ],
            "type": "heatmapgl"
           }
          ],
          "histogram": [
           {
            "marker": {
             "pattern": {
              "fillmode": "overlay",
              "size": 10,
              "solidity": 0.2
             }
            },
            "type": "histogram"
           }
          ],
          "histogram2d": [
           {
            "colorbar": {
             "outlinewidth": 0,
             "ticks": ""
            },
            "colorscale": [
             [
              0,
              "#0d0887"
             ],
             [
              0.1111111111111111,
              "#46039f"
             ],
             [
              0.2222222222222222,
              "#7201a8"
             ],
             [
              0.3333333333333333,
              "#9c179e"
             ],
             [
              0.4444444444444444,
              "#bd3786"
             ],
             [
              0.5555555555555556,
              "#d8576b"
             ],
             [
              0.6666666666666666,
              "#ed7953"
             ],
             [
              0.7777777777777778,
              "#fb9f3a"
             ],
             [
              0.8888888888888888,
              "#fdca26"
             ],
             [
              1,
              "#f0f921"
             ]
            ],
            "type": "histogram2d"
           }
          ],
          "histogram2dcontour": [
           {
            "colorbar": {
             "outlinewidth": 0,
             "ticks": ""
            },
            "colorscale": [
             [
              0,
              "#0d0887"
             ],
             [
              0.1111111111111111,
              "#46039f"
             ],
             [
              0.2222222222222222,
              "#7201a8"
             ],
             [
              0.3333333333333333,
              "#9c179e"
             ],
             [
              0.4444444444444444,
              "#bd3786"
             ],
             [
              0.5555555555555556,
              "#d8576b"
             ],
             [
              0.6666666666666666,
              "#ed7953"
             ],
             [
              0.7777777777777778,
              "#fb9f3a"
             ],
             [
              0.8888888888888888,
              "#fdca26"
             ],
             [
              1,
              "#f0f921"
             ]
            ],
            "type": "histogram2dcontour"
           }
          ],
          "mesh3d": [
           {
            "colorbar": {
             "outlinewidth": 0,
             "ticks": ""
            },
            "type": "mesh3d"
           }
          ],
          "parcoords": [
           {
            "line": {
             "colorbar": {
              "outlinewidth": 0,
              "ticks": ""
             }
            },
            "type": "parcoords"
           }
          ],
          "pie": [
           {
            "automargin": true,
            "type": "pie"
           }
          ],
          "scatter": [
           {
            "marker": {
             "colorbar": {
              "outlinewidth": 0,
              "ticks": ""
             }
            },
            "type": "scatter"
           }
          ],
          "scatter3d": [
           {
            "line": {
             "colorbar": {
              "outlinewidth": 0,
              "ticks": ""
             }
            },
            "marker": {
             "colorbar": {
              "outlinewidth": 0,
              "ticks": ""
             }
            },
            "type": "scatter3d"
           }
          ],
          "scattercarpet": [
           {
            "marker": {
             "colorbar": {
              "outlinewidth": 0,
              "ticks": ""
             }
            },
            "type": "scattercarpet"
           }
          ],
          "scattergeo": [
           {
            "marker": {
             "colorbar": {
              "outlinewidth": 0,
              "ticks": ""
             }
            },
            "type": "scattergeo"
           }
          ],
          "scattergl": [
           {
            "marker": {
             "colorbar": {
              "outlinewidth": 0,
              "ticks": ""
             }
            },
            "type": "scattergl"
           }
          ],
          "scattermapbox": [
           {
            "marker": {
             "colorbar": {
              "outlinewidth": 0,
              "ticks": ""
             }
            },
            "type": "scattermapbox"
           }
          ],
          "scatterpolar": [
           {
            "marker": {
             "colorbar": {
              "outlinewidth": 0,
              "ticks": ""
             }
            },
            "type": "scatterpolar"
           }
          ],
          "scatterpolargl": [
           {
            "marker": {
             "colorbar": {
              "outlinewidth": 0,
              "ticks": ""
             }
            },
            "type": "scatterpolargl"
           }
          ],
          "scatterternary": [
           {
            "marker": {
             "colorbar": {
              "outlinewidth": 0,
              "ticks": ""
             }
            },
            "type": "scatterternary"
           }
          ],
          "surface": [
           {
            "colorbar": {
             "outlinewidth": 0,
             "ticks": ""
            },
            "colorscale": [
             [
              0,
              "#0d0887"
             ],
             [
              0.1111111111111111,
              "#46039f"
             ],
             [
              0.2222222222222222,
              "#7201a8"
             ],
             [
              0.3333333333333333,
              "#9c179e"
             ],
             [
              0.4444444444444444,
              "#bd3786"
             ],
             [
              0.5555555555555556,
              "#d8576b"
             ],
             [
              0.6666666666666666,
              "#ed7953"
             ],
             [
              0.7777777777777778,
              "#fb9f3a"
             ],
             [
              0.8888888888888888,
              "#fdca26"
             ],
             [
              1,
              "#f0f921"
             ]
            ],
            "type": "surface"
           }
          ],
          "table": [
           {
            "cells": {
             "fill": {
              "color": "#EBF0F8"
             },
             "line": {
              "color": "white"
             }
            },
            "header": {
             "fill": {
              "color": "#C8D4E3"
             },
             "line": {
              "color": "white"
             }
            },
            "type": "table"
           }
          ]
         },
         "layout": {
          "annotationdefaults": {
           "arrowcolor": "#2a3f5f",
           "arrowhead": 0,
           "arrowwidth": 1
          },
          "autotypenumbers": "strict",
          "coloraxis": {
           "colorbar": {
            "outlinewidth": 0,
            "ticks": ""
           }
          },
          "colorscale": {
           "diverging": [
            [
             0,
             "#8e0152"
            ],
            [
             0.1,
             "#c51b7d"
            ],
            [
             0.2,
             "#de77ae"
            ],
            [
             0.3,
             "#f1b6da"
            ],
            [
             0.4,
             "#fde0ef"
            ],
            [
             0.5,
             "#f7f7f7"
            ],
            [
             0.6,
             "#e6f5d0"
            ],
            [
             0.7,
             "#b8e186"
            ],
            [
             0.8,
             "#7fbc41"
            ],
            [
             0.9,
             "#4d9221"
            ],
            [
             1,
             "#276419"
            ]
           ],
           "sequential": [
            [
             0,
             "#0d0887"
            ],
            [
             0.1111111111111111,
             "#46039f"
            ],
            [
             0.2222222222222222,
             "#7201a8"
            ],
            [
             0.3333333333333333,
             "#9c179e"
            ],
            [
             0.4444444444444444,
             "#bd3786"
            ],
            [
             0.5555555555555556,
             "#d8576b"
            ],
            [
             0.6666666666666666,
             "#ed7953"
            ],
            [
             0.7777777777777778,
             "#fb9f3a"
            ],
            [
             0.8888888888888888,
             "#fdca26"
            ],
            [
             1,
             "#f0f921"
            ]
           ],
           "sequentialminus": [
            [
             0,
             "#0d0887"
            ],
            [
             0.1111111111111111,
             "#46039f"
            ],
            [
             0.2222222222222222,
             "#7201a8"
            ],
            [
             0.3333333333333333,
             "#9c179e"
            ],
            [
             0.4444444444444444,
             "#bd3786"
            ],
            [
             0.5555555555555556,
             "#d8576b"
            ],
            [
             0.6666666666666666,
             "#ed7953"
            ],
            [
             0.7777777777777778,
             "#fb9f3a"
            ],
            [
             0.8888888888888888,
             "#fdca26"
            ],
            [
             1,
             "#f0f921"
            ]
           ]
          },
          "colorway": [
           "#636efa",
           "#EF553B",
           "#00cc96",
           "#ab63fa",
           "#FFA15A",
           "#19d3f3",
           "#FF6692",
           "#B6E880",
           "#FF97FF",
           "#FECB52"
          ],
          "font": {
           "color": "#2a3f5f"
          },
          "geo": {
           "bgcolor": "white",
           "lakecolor": "white",
           "landcolor": "#E5ECF6",
           "showlakes": true,
           "showland": true,
           "subunitcolor": "white"
          },
          "hoverlabel": {
           "align": "left"
          },
          "hovermode": "closest",
          "mapbox": {
           "style": "light"
          },
          "paper_bgcolor": "white",
          "plot_bgcolor": "#E5ECF6",
          "polar": {
           "angularaxis": {
            "gridcolor": "white",
            "linecolor": "white",
            "ticks": ""
           },
           "bgcolor": "#E5ECF6",
           "radialaxis": {
            "gridcolor": "white",
            "linecolor": "white",
            "ticks": ""
           }
          },
          "scene": {
           "xaxis": {
            "backgroundcolor": "#E5ECF6",
            "gridcolor": "white",
            "gridwidth": 2,
            "linecolor": "white",
            "showbackground": true,
            "ticks": "",
            "zerolinecolor": "white"
           },
           "yaxis": {
            "backgroundcolor": "#E5ECF6",
            "gridcolor": "white",
            "gridwidth": 2,
            "linecolor": "white",
            "showbackground": true,
            "ticks": "",
            "zerolinecolor": "white"
           },
           "zaxis": {
            "backgroundcolor": "#E5ECF6",
            "gridcolor": "white",
            "gridwidth": 2,
            "linecolor": "white",
            "showbackground": true,
            "ticks": "",
            "zerolinecolor": "white"
           }
          },
          "shapedefaults": {
           "line": {
            "color": "#2a3f5f"
           }
          },
          "ternary": {
           "aaxis": {
            "gridcolor": "white",
            "linecolor": "white",
            "ticks": ""
           },
           "baxis": {
            "gridcolor": "white",
            "linecolor": "white",
            "ticks": ""
           },
           "bgcolor": "#E5ECF6",
           "caxis": {
            "gridcolor": "white",
            "linecolor": "white",
            "ticks": ""
           }
          },
          "title": {
           "x": 0.05
          },
          "xaxis": {
           "automargin": true,
           "gridcolor": "white",
           "linecolor": "white",
           "ticks": "",
           "title": {
            "standoff": 15
           },
           "zerolinecolor": "white",
           "zerolinewidth": 2
          },
          "yaxis": {
           "automargin": true,
           "gridcolor": "white",
           "linecolor": "white",
           "ticks": "",
           "title": {
            "standoff": 15
           },
           "zerolinecolor": "white",
           "zerolinewidth": 2
          }
         }
        }
       }
      }
     },
     "metadata": {},
     "output_type": "display_data"
    }
   ],
   "source": [
    "df = pd.read_csv('bigdata/Total cancers/Incidence.csv')\n",
    "df = df.set_index('Country Code')\n",
    "df.loc['TWN',:] = df.loc['CHN',:]\n",
    "df = df.reset_index()\n",
    "\n",
    "fig = go.Figure(data=go.Choropleth(\n",
    "        locations = df['Country Code'],\n",
    "        z = df['Incidence']/100.0,\n",
    "        colorscale = [[0,\"rgb(5, 10, 172)\"],[0.35,\"rgb(40, 60, 190)\"],[0.5,\"rgb(70, 100, 245)\"],\\\n",
    "            [0.6,\"rgb(90, 120, 245)\"],[0.7,\"rgb(106, 137, 247)\"],[1,\"rgb(210, 240, 255)\"]],\n",
    "        # colorscale = 'Reds',\n",
    "        autocolorscale = False,\n",
    "        reversescale = True,\n",
    "        marker = dict(\n",
    "            line = dict (\n",
    "                color = 'rgb(180,180,180)',\n",
    "                width = 0.2\n",
    "            ) ),\n",
    "        colorbar = dict(\n",
    "            len = 0.4,\n",
    "            thickness = 15,\n",
    "            tickwidth = 0.2,\n",
    "            tick0= 0.2,\n",
    "            # title = 'Total cancers <br>Incidence Per 1,000'),\n",
    "            title = 'Incidence'),\n",
    "            \n",
    "))\n",
    "fig.update_layout(\n",
    "    font=dict(\n",
    "        # family=\"Courier New, monospace\",\n",
    "        family=\"Times New Roman\",\n",
    "        size=8,\n",
    "        # color=\"#7f7f7f\"\n",
    "    ),\n",
    "    margin = {'l':0,'r':0,'t':0,'b':0},\n",
    "#     title = 'Economic Burden of Road Injuries During 2020-2050',\n",
    "    geo = dict(\n",
    "        showframe = False,\n",
    "        showcoastlines = False,\n",
    "                showcountries = True,\n",
    "        countrycolor = \"rgb(0, 0, 0)\",\n",
    "        countrywidth = 0.1,\n",
    "        projection_type='equirectangular',\n",
    "    )\n",
    ")\n",
    "\n",
    "fig.data[0].colorbar.x=0.0\n",
    "fig.data[0].colorbar.y=0.4\n",
    "\n",
    "fig.show()\n",
    "# plot(fig)\n",
    "fig.write_image(\"tables/figure_S1.pdf\")"
   ]
  },
  {
   "cell_type": "code",
   "execution_count": 77,
   "metadata": {},
   "outputs": [
    {
     "data": {
      "application/vnd.plotly.v1+json": {
       "config": {
        "plotlyServerURL": "https://plot.ly"
       },
       "data": [
        {
         "autocolorscale": false,
         "colorbar": {
          "len": 0.4,
          "thickness": 15,
          "tick0": 0.2,
          "tickwidth": 0.2,
          "title": {
           "text": "Deaths"
          },
          "x": 0,
          "y": 0.4
         },
         "colorscale": [
          [
           0,
           "rgb(5, 10, 172)"
          ],
          [
           0.35,
           "rgb(40, 60, 190)"
          ],
          [
           0.5,
           "rgb(70, 100, 245)"
          ],
          [
           0.6,
           "rgb(90, 120, 245)"
          ],
          [
           0.7,
           "rgb(106, 137, 247)"
          ],
          [
           1,
           "rgb(210, 240, 255)"
          ]
         ],
         "locations": [
          "AFG",
          "AGO",
          "ALB",
          "AND",
          "ARE",
          "ARG",
          "ARM",
          "ASM",
          "ATG",
          "AUS",
          "AUT",
          "AZE",
          "BDI",
          "BEL",
          "BEN",
          "BFA",
          "BGD",
          "BGR",
          "BHR",
          "BHS",
          "BIH",
          "BLR",
          "BLZ",
          "BMU",
          "BOL",
          "BRA",
          "BRB",
          "BRN",
          "BTN",
          "BWA",
          "CAF",
          "CAN",
          "CHE",
          "CHL",
          "CHN",
          "CIV",
          "CMR",
          "COD",
          "COG",
          "COK",
          "COL",
          "COM",
          "CPV",
          "CRI",
          "CUB",
          "CYP",
          "CZE",
          "DEU",
          "DJI",
          "DMA",
          "DNK",
          "DOM",
          "DZA",
          "ECU",
          "EGY",
          "ERI",
          "ESP",
          "EST",
          "ETH",
          "FIN",
          "FJI",
          "FRA",
          "FSM",
          "GAB",
          "GBR",
          "GEO",
          "GHA",
          "GIN",
          "GMB",
          "GNB",
          "GNQ",
          "GRC",
          "GRD",
          "GRL",
          "GTM",
          "GUM",
          "GUY",
          "HND",
          "HRV",
          "HTI",
          "HUN",
          "IDN",
          "IND",
          "IRL",
          "IRN",
          "IRQ",
          "ISL",
          "ISR",
          "ITA",
          "JAM",
          "JOR",
          "JPN",
          "KAZ",
          "KEN",
          "KGZ",
          "KHM",
          "KIR",
          "KNA",
          "KOR",
          "KWT",
          "LAO",
          "LBN",
          "LBR",
          "LBY",
          "LCA",
          "LKA",
          "LSO",
          "LTU",
          "LUX",
          "LVA",
          "MAR",
          "MCO",
          "MDA",
          "MDG",
          "MDV",
          "MEX",
          "MHL",
          "MKD",
          "MLI",
          "MLT",
          "MMR",
          "MNE",
          "MNG",
          "MNP",
          "MOZ",
          "MRT",
          "MUS",
          "MWI",
          "MYS",
          "NAM",
          "NER",
          "NGA",
          "NIC",
          "NIU",
          "NLD",
          "NOR",
          "NPL",
          "NRU",
          "NZL",
          "OMN",
          "PAK",
          "PAN",
          "PER",
          "PHL",
          "PLW",
          "PNG",
          "POL",
          "PRI",
          "PRK",
          "PRT",
          "PRY",
          "PSE",
          "QAT",
          "ROU",
          "RUS",
          "RWA",
          "SAU",
          "SDN",
          "SEN",
          "SGP",
          "SLB",
          "SLE",
          "SLV",
          "SMR",
          "SOM",
          "SRB",
          "SSD",
          "STP",
          "SUR",
          "SVK",
          "SVN",
          "SWE",
          "SWZ",
          "SYC",
          "SYR",
          "TCD",
          "TGO",
          "THA",
          "TJK",
          "TKL",
          "TKM",
          "TLS",
          "TON",
          "TTO",
          "TUN",
          "TUR",
          "TUV",
          "TWN",
          "TZA",
          "UGA",
          "UKR",
          "URY",
          "USA",
          "UZB",
          "VCT",
          "VEN",
          "VIR",
          "VNM",
          "VUT",
          "WSM",
          "YEM",
          "ZAF",
          "ZMB",
          "ZWE"
         ],
         "marker": {
          "line": {
           "color": "rgb(180,180,180)",
           "width": 0.2
          }
         },
         "reversescale": true,
         "type": "choropleth",
         "z": [
          0.5544650197885126,
          0.4232457883303219,
          1.7234932116668447,
          2.7370839584793445,
          0.5905939458298127,
          1.8767254847765134,
          1.9298480339921158,
          1.2267001724925977,
          1.5518681060634538,
          2.1501927243770163,
          2.458494540065888,
          1.1572783706373715,
          0.4411418693059081,
          2.9339015587453554,
          0.4129828242703224,
          0.4449967267595836,
          0.6646256144463095,
          3.168748317942106,
          0.5628327132685661,
          1.5306743192006311,
          2.866724676632,
          2.064464572707124,
          0.7277912520559413,
          2.7755455154799025,
          1.1656215417558444,
          1.2212532507342613,
          2.761592454162906,
          1.1985717884784974,
          0.6261523136523992,
          0.8840394121735534,
          0.500465830980965,
          2.517395755834536,
          2.2758836848183,
          1.7235662170829726,
          1.9066292923573642,
          0.4414036285063608,
          0.4883282524131712,
          0.4196306620607732,
          0.6369518669883888,
          1.7687729346861842,
          1.0264644399216116,
          0.7602714754451021,
          1.2688219248980857,
          1.2725066370424614,
          2.441003437265274,
          1.72637300348988,
          2.862998524693028,
          3.1858736813166706,
          0.6216979398599669,
          2.6349478743815644,
          3.1566123482260324,
          0.9896783662687284,
          0.5675043282068579,
          0.9979624336921572,
          0.5835332637493909,
          0.5464693186157971,
          2.6880040169048716,
          2.9004626319885722,
          0.3669634671596249,
          2.590684747705276,
          0.8848857471161274,
          2.935806763332668,
          1.092393948902814,
          0.8178643696622477,
          2.881883276506697,
          2.2689683603659785,
          0.5851791104964701,
          0.6650692922510563,
          0.474723840923876,
          0.5121748749936731,
          0.4223603948463551,
          3.36220698718231,
          1.8052590179852228,
          2.7887012902740143,
          0.7068396410826436,
          1.20941417030236,
          1.009673610408652,
          0.7845773780802738,
          3.2637475739554436,
          0.8457773985120102,
          3.5178633402197006,
          0.8821588709151904,
          0.6684044731465203,
          2.0890099898993593,
          0.7910019136910741,
          0.5788613246779435,
          1.8817441318597776,
          1.551711255206533,
          3.13613240087105,
          1.5357858237996191,
          0.4839459228199501,
          3.425549478497883,
          1.143368637025206,
          0.462389872777498,
          0.6339831629083263,
          0.8743828491895198,
          1.0729129078961295,
          1.6596179912523905,
          1.93708084571084,
          0.3723503064868895,
          0.6933497384943823,
          1.4448628385706836,
          0.42742133661026444,
          0.8052155298411253,
          1.730932385171019,
          0.8538940498218672,
          1.0569817115792364,
          2.795877055529664,
          2.076536091382277,
          2.9013982060379955,
          0.7761122302883693,
          5.975242295624765,
          1.6905480026953097,
          0.411793239628246,
          0.4249165363009821,
          0.8451310526551812,
          0.9406392771752594,
          2.5196411098044043,
          0.42481284100023564,
          2.248965708780784,
          0.9609792178322164,
          2.6465577324679206,
          1.7587470995599497,
          1.8761426433250705,
          0.45723759573655814,
          0.5121812221975768,
          1.182897143995886,
          0.5472172347280626,
          0.9920042351735764,
          0.6623653772585405,
          0.2987026180797458,
          0.3781219326680588,
          0.6769210015958369,
          1.7507819358232224,
          3.258521831064678,
          2.3508752343177903,
          0.7085394914010885,
          0.7214602534429858,
          2.3220515015582426,
          0.297386240157538,
          0.8009592375788382,
          0.95038180118743,
          0.9806257549258798,
          0.723419909140446,
          1.9765205125979617,
          0.5703847965287263,
          3.154445502934382,
          1.9530171611963076,
          1.5549918756742636,
          2.9241080826827837,
          0.8830712200877637,
          0.5856276098138012,
          0.2891705725994537,
          2.7281744959628758,
          2.0180640112045602,
          0.5616560839203327,
          0.36587135029980156,
          0.41824193391267284,
          0.5407460954188337,
          1.2258736420675749,
          0.9887407740206108,
          0.4575254114152472,
          0.9414623109826071,
          3.5137621942247024,
          0.3923730684753535,
          3.2393568825807804,
          0.44476763427151556,
          0.7044153739998984,
          1.238035968793064,
          2.552805607345665,
          3.041277329524827,
          2.5618499957471896,
          0.8542515996945541,
          1.7706462125778608,
          0.6043715910218292,
          0.38009476948241355,
          0.4824482002691068,
          1.6452715132090825,
          0.5647248309217497,
          1.1306590529997698,
          0.7138687910280206,
          0.615931210575094,
          1.2377544122967752,
          1.4435143914869368,
          0.8715848630374239,
          1.2791985143691416,
          1.1530579133238765,
          1.9066292923573642,
          0.5523328573334377,
          0.5255354588915332,
          2.2490348326271543,
          2.9152315446137176,
          2.3268162389549714,
          0.6623189191183123,
          1.8244652842759286,
          1.229107820193085,
          3.1544308766744376,
          1.1649643087955601,
          0.7629310748524007,
          0.7291748210759134,
          0.40187573287818595,
          0.9817437256354247,
          0.5355679092237274,
          0.8203773875735253
         ]
        }
       ],
       "layout": {
        "font": {
         "family": "Times New Roman",
         "size": 8
        },
        "geo": {
         "countrycolor": "rgb(0, 0, 0)",
         "countrywidth": 0.1,
         "projection": {
          "type": "equirectangular"
         },
         "showcoastlines": false,
         "showcountries": true,
         "showframe": false
        },
        "margin": {
         "b": 0,
         "l": 0,
         "r": 0,
         "t": 0
        },
        "template": {
         "data": {
          "bar": [
           {
            "error_x": {
             "color": "#2a3f5f"
            },
            "error_y": {
             "color": "#2a3f5f"
            },
            "marker": {
             "line": {
              "color": "#E5ECF6",
              "width": 0.5
             },
             "pattern": {
              "fillmode": "overlay",
              "size": 10,
              "solidity": 0.2
             }
            },
            "type": "bar"
           }
          ],
          "barpolar": [
           {
            "marker": {
             "line": {
              "color": "#E5ECF6",
              "width": 0.5
             },
             "pattern": {
              "fillmode": "overlay",
              "size": 10,
              "solidity": 0.2
             }
            },
            "type": "barpolar"
           }
          ],
          "carpet": [
           {
            "aaxis": {
             "endlinecolor": "#2a3f5f",
             "gridcolor": "white",
             "linecolor": "white",
             "minorgridcolor": "white",
             "startlinecolor": "#2a3f5f"
            },
            "baxis": {
             "endlinecolor": "#2a3f5f",
             "gridcolor": "white",
             "linecolor": "white",
             "minorgridcolor": "white",
             "startlinecolor": "#2a3f5f"
            },
            "type": "carpet"
           }
          ],
          "choropleth": [
           {
            "colorbar": {
             "outlinewidth": 0,
             "ticks": ""
            },
            "type": "choropleth"
           }
          ],
          "contour": [
           {
            "colorbar": {
             "outlinewidth": 0,
             "ticks": ""
            },
            "colorscale": [
             [
              0,
              "#0d0887"
             ],
             [
              0.1111111111111111,
              "#46039f"
             ],
             [
              0.2222222222222222,
              "#7201a8"
             ],
             [
              0.3333333333333333,
              "#9c179e"
             ],
             [
              0.4444444444444444,
              "#bd3786"
             ],
             [
              0.5555555555555556,
              "#d8576b"
             ],
             [
              0.6666666666666666,
              "#ed7953"
             ],
             [
              0.7777777777777778,
              "#fb9f3a"
             ],
             [
              0.8888888888888888,
              "#fdca26"
             ],
             [
              1,
              "#f0f921"
             ]
            ],
            "type": "contour"
           }
          ],
          "contourcarpet": [
           {
            "colorbar": {
             "outlinewidth": 0,
             "ticks": ""
            },
            "type": "contourcarpet"
           }
          ],
          "heatmap": [
           {
            "colorbar": {
             "outlinewidth": 0,
             "ticks": ""
            },
            "colorscale": [
             [
              0,
              "#0d0887"
             ],
             [
              0.1111111111111111,
              "#46039f"
             ],
             [
              0.2222222222222222,
              "#7201a8"
             ],
             [
              0.3333333333333333,
              "#9c179e"
             ],
             [
              0.4444444444444444,
              "#bd3786"
             ],
             [
              0.5555555555555556,
              "#d8576b"
             ],
             [
              0.6666666666666666,
              "#ed7953"
             ],
             [
              0.7777777777777778,
              "#fb9f3a"
             ],
             [
              0.8888888888888888,
              "#fdca26"
             ],
             [
              1,
              "#f0f921"
             ]
            ],
            "type": "heatmap"
           }
          ],
          "heatmapgl": [
           {
            "colorbar": {
             "outlinewidth": 0,
             "ticks": ""
            },
            "colorscale": [
             [
              0,
              "#0d0887"
             ],
             [
              0.1111111111111111,
              "#46039f"
             ],
             [
              0.2222222222222222,
              "#7201a8"
             ],
             [
              0.3333333333333333,
              "#9c179e"
             ],
             [
              0.4444444444444444,
              "#bd3786"
             ],
             [
              0.5555555555555556,
              "#d8576b"
             ],
             [
              0.6666666666666666,
              "#ed7953"
             ],
             [
              0.7777777777777778,
              "#fb9f3a"
             ],
             [
              0.8888888888888888,
              "#fdca26"
             ],
             [
              1,
              "#f0f921"
             ]
            ],
            "type": "heatmapgl"
           }
          ],
          "histogram": [
           {
            "marker": {
             "pattern": {
              "fillmode": "overlay",
              "size": 10,
              "solidity": 0.2
             }
            },
            "type": "histogram"
           }
          ],
          "histogram2d": [
           {
            "colorbar": {
             "outlinewidth": 0,
             "ticks": ""
            },
            "colorscale": [
             [
              0,
              "#0d0887"
             ],
             [
              0.1111111111111111,
              "#46039f"
             ],
             [
              0.2222222222222222,
              "#7201a8"
             ],
             [
              0.3333333333333333,
              "#9c179e"
             ],
             [
              0.4444444444444444,
              "#bd3786"
             ],
             [
              0.5555555555555556,
              "#d8576b"
             ],
             [
              0.6666666666666666,
              "#ed7953"
             ],
             [
              0.7777777777777778,
              "#fb9f3a"
             ],
             [
              0.8888888888888888,
              "#fdca26"
             ],
             [
              1,
              "#f0f921"
             ]
            ],
            "type": "histogram2d"
           }
          ],
          "histogram2dcontour": [
           {
            "colorbar": {
             "outlinewidth": 0,
             "ticks": ""
            },
            "colorscale": [
             [
              0,
              "#0d0887"
             ],
             [
              0.1111111111111111,
              "#46039f"
             ],
             [
              0.2222222222222222,
              "#7201a8"
             ],
             [
              0.3333333333333333,
              "#9c179e"
             ],
             [
              0.4444444444444444,
              "#bd3786"
             ],
             [
              0.5555555555555556,
              "#d8576b"
             ],
             [
              0.6666666666666666,
              "#ed7953"
             ],
             [
              0.7777777777777778,
              "#fb9f3a"
             ],
             [
              0.8888888888888888,
              "#fdca26"
             ],
             [
              1,
              "#f0f921"
             ]
            ],
            "type": "histogram2dcontour"
           }
          ],
          "mesh3d": [
           {
            "colorbar": {
             "outlinewidth": 0,
             "ticks": ""
            },
            "type": "mesh3d"
           }
          ],
          "parcoords": [
           {
            "line": {
             "colorbar": {
              "outlinewidth": 0,
              "ticks": ""
             }
            },
            "type": "parcoords"
           }
          ],
          "pie": [
           {
            "automargin": true,
            "type": "pie"
           }
          ],
          "scatter": [
           {
            "marker": {
             "colorbar": {
              "outlinewidth": 0,
              "ticks": ""
             }
            },
            "type": "scatter"
           }
          ],
          "scatter3d": [
           {
            "line": {
             "colorbar": {
              "outlinewidth": 0,
              "ticks": ""
             }
            },
            "marker": {
             "colorbar": {
              "outlinewidth": 0,
              "ticks": ""
             }
            },
            "type": "scatter3d"
           }
          ],
          "scattercarpet": [
           {
            "marker": {
             "colorbar": {
              "outlinewidth": 0,
              "ticks": ""
             }
            },
            "type": "scattercarpet"
           }
          ],
          "scattergeo": [
           {
            "marker": {
             "colorbar": {
              "outlinewidth": 0,
              "ticks": ""
             }
            },
            "type": "scattergeo"
           }
          ],
          "scattergl": [
           {
            "marker": {
             "colorbar": {
              "outlinewidth": 0,
              "ticks": ""
             }
            },
            "type": "scattergl"
           }
          ],
          "scattermapbox": [
           {
            "marker": {
             "colorbar": {
              "outlinewidth": 0,
              "ticks": ""
             }
            },
            "type": "scattermapbox"
           }
          ],
          "scatterpolar": [
           {
            "marker": {
             "colorbar": {
              "outlinewidth": 0,
              "ticks": ""
             }
            },
            "type": "scatterpolar"
           }
          ],
          "scatterpolargl": [
           {
            "marker": {
             "colorbar": {
              "outlinewidth": 0,
              "ticks": ""
             }
            },
            "type": "scatterpolargl"
           }
          ],
          "scatterternary": [
           {
            "marker": {
             "colorbar": {
              "outlinewidth": 0,
              "ticks": ""
             }
            },
            "type": "scatterternary"
           }
          ],
          "surface": [
           {
            "colorbar": {
             "outlinewidth": 0,
             "ticks": ""
            },
            "colorscale": [
             [
              0,
              "#0d0887"
             ],
             [
              0.1111111111111111,
              "#46039f"
             ],
             [
              0.2222222222222222,
              "#7201a8"
             ],
             [
              0.3333333333333333,
              "#9c179e"
             ],
             [
              0.4444444444444444,
              "#bd3786"
             ],
             [
              0.5555555555555556,
              "#d8576b"
             ],
             [
              0.6666666666666666,
              "#ed7953"
             ],
             [
              0.7777777777777778,
              "#fb9f3a"
             ],
             [
              0.8888888888888888,
              "#fdca26"
             ],
             [
              1,
              "#f0f921"
             ]
            ],
            "type": "surface"
           }
          ],
          "table": [
           {
            "cells": {
             "fill": {
              "color": "#EBF0F8"
             },
             "line": {
              "color": "white"
             }
            },
            "header": {
             "fill": {
              "color": "#C8D4E3"
             },
             "line": {
              "color": "white"
             }
            },
            "type": "table"
           }
          ]
         },
         "layout": {
          "annotationdefaults": {
           "arrowcolor": "#2a3f5f",
           "arrowhead": 0,
           "arrowwidth": 1
          },
          "autotypenumbers": "strict",
          "coloraxis": {
           "colorbar": {
            "outlinewidth": 0,
            "ticks": ""
           }
          },
          "colorscale": {
           "diverging": [
            [
             0,
             "#8e0152"
            ],
            [
             0.1,
             "#c51b7d"
            ],
            [
             0.2,
             "#de77ae"
            ],
            [
             0.3,
             "#f1b6da"
            ],
            [
             0.4,
             "#fde0ef"
            ],
            [
             0.5,
             "#f7f7f7"
            ],
            [
             0.6,
             "#e6f5d0"
            ],
            [
             0.7,
             "#b8e186"
            ],
            [
             0.8,
             "#7fbc41"
            ],
            [
             0.9,
             "#4d9221"
            ],
            [
             1,
             "#276419"
            ]
           ],
           "sequential": [
            [
             0,
             "#0d0887"
            ],
            [
             0.1111111111111111,
             "#46039f"
            ],
            [
             0.2222222222222222,
             "#7201a8"
            ],
            [
             0.3333333333333333,
             "#9c179e"
            ],
            [
             0.4444444444444444,
             "#bd3786"
            ],
            [
             0.5555555555555556,
             "#d8576b"
            ],
            [
             0.6666666666666666,
             "#ed7953"
            ],
            [
             0.7777777777777778,
             "#fb9f3a"
            ],
            [
             0.8888888888888888,
             "#fdca26"
            ],
            [
             1,
             "#f0f921"
            ]
           ],
           "sequentialminus": [
            [
             0,
             "#0d0887"
            ],
            [
             0.1111111111111111,
             "#46039f"
            ],
            [
             0.2222222222222222,
             "#7201a8"
            ],
            [
             0.3333333333333333,
             "#9c179e"
            ],
            [
             0.4444444444444444,
             "#bd3786"
            ],
            [
             0.5555555555555556,
             "#d8576b"
            ],
            [
             0.6666666666666666,
             "#ed7953"
            ],
            [
             0.7777777777777778,
             "#fb9f3a"
            ],
            [
             0.8888888888888888,
             "#fdca26"
            ],
            [
             1,
             "#f0f921"
            ]
           ]
          },
          "colorway": [
           "#636efa",
           "#EF553B",
           "#00cc96",
           "#ab63fa",
           "#FFA15A",
           "#19d3f3",
           "#FF6692",
           "#B6E880",
           "#FF97FF",
           "#FECB52"
          ],
          "font": {
           "color": "#2a3f5f"
          },
          "geo": {
           "bgcolor": "white",
           "lakecolor": "white",
           "landcolor": "#E5ECF6",
           "showlakes": true,
           "showland": true,
           "subunitcolor": "white"
          },
          "hoverlabel": {
           "align": "left"
          },
          "hovermode": "closest",
          "mapbox": {
           "style": "light"
          },
          "paper_bgcolor": "white",
          "plot_bgcolor": "#E5ECF6",
          "polar": {
           "angularaxis": {
            "gridcolor": "white",
            "linecolor": "white",
            "ticks": ""
           },
           "bgcolor": "#E5ECF6",
           "radialaxis": {
            "gridcolor": "white",
            "linecolor": "white",
            "ticks": ""
           }
          },
          "scene": {
           "xaxis": {
            "backgroundcolor": "#E5ECF6",
            "gridcolor": "white",
            "gridwidth": 2,
            "linecolor": "white",
            "showbackground": true,
            "ticks": "",
            "zerolinecolor": "white"
           },
           "yaxis": {
            "backgroundcolor": "#E5ECF6",
            "gridcolor": "white",
            "gridwidth": 2,
            "linecolor": "white",
            "showbackground": true,
            "ticks": "",
            "zerolinecolor": "white"
           },
           "zaxis": {
            "backgroundcolor": "#E5ECF6",
            "gridcolor": "white",
            "gridwidth": 2,
            "linecolor": "white",
            "showbackground": true,
            "ticks": "",
            "zerolinecolor": "white"
           }
          },
          "shapedefaults": {
           "line": {
            "color": "#2a3f5f"
           }
          },
          "ternary": {
           "aaxis": {
            "gridcolor": "white",
            "linecolor": "white",
            "ticks": ""
           },
           "baxis": {
            "gridcolor": "white",
            "linecolor": "white",
            "ticks": ""
           },
           "bgcolor": "#E5ECF6",
           "caxis": {
            "gridcolor": "white",
            "linecolor": "white",
            "ticks": ""
           }
          },
          "title": {
           "x": 0.05
          },
          "xaxis": {
           "automargin": true,
           "gridcolor": "white",
           "linecolor": "white",
           "ticks": "",
           "title": {
            "standoff": 15
           },
           "zerolinecolor": "white",
           "zerolinewidth": 2
          },
          "yaxis": {
           "automargin": true,
           "gridcolor": "white",
           "linecolor": "white",
           "ticks": "",
           "title": {
            "standoff": 15
           },
           "zerolinecolor": "white",
           "zerolinewidth": 2
          }
         }
        }
       }
      }
     },
     "metadata": {},
     "output_type": "display_data"
    }
   ],
   "source": [
    "df = pd.read_csv('bigdata/Total cancers/Deaths.csv')\n",
    "df = df.set_index('Country Code')\n",
    "df.loc['TWN',:] = df.loc['CHN',:]\n",
    "df = df.reset_index()\n",
    "\n",
    "fig = go.Figure(data=go.Choropleth(\n",
    "        locations = df['Country Code'],\n",
    "        z = df['Deaths']/100.0,\n",
    "        colorscale = [[0,\"rgb(5, 10, 172)\"],[0.35,\"rgb(40, 60, 190)\"],[0.5,\"rgb(70, 100, 245)\"],\\\n",
    "            [0.6,\"rgb(90, 120, 245)\"],[0.7,\"rgb(106, 137, 247)\"],[1,\"rgb(210, 240, 255)\"]],\n",
    "        # colorscale = 'Reds',\n",
    "        autocolorscale = False,\n",
    "        reversescale = True,\n",
    "        marker = dict(\n",
    "            line = dict (\n",
    "                color = 'rgb(180,180,180)',\n",
    "                width = 0.2\n",
    "            ) ),\n",
    "        colorbar = dict(\n",
    "            len = 0.4,\n",
    "            thickness = 15,\n",
    "            tickwidth = 0.2,\n",
    "            tick0= 0.2,\n",
    "            title = 'Deaths'),\n",
    "))\n",
    "fig.update_layout(\n",
    "    font=dict(\n",
    "        # family=\"Courier New, monospace\",\n",
    "        family=\"Times New Roman\",\n",
    "        size=8,\n",
    "        # color=\"#7f7f7f\"\n",
    "    ),\n",
    "    margin = {'l':0,'r':0,'t':0,'b':0},\n",
    "#     title = 'Economic Burden of Road Injuries During 2020-2050',\n",
    "    geo = dict(\n",
    "        showframe = False,\n",
    "        showcoastlines = False,\n",
    "                showcountries = True,\n",
    "        countrycolor = \"rgb(0, 0, 0)\",\n",
    "        countrywidth = 0.1,\n",
    "        projection_type='equirectangular',\n",
    "    )\n",
    ")\n",
    "\n",
    "fig.data[0].colorbar.x=0.0\n",
    "fig.data[0].colorbar.y=0.4\n",
    "\n",
    "# plot(fig)\n",
    "fig.show()\n",
    "fig.write_image(\"tables/figure_S2.pdf\")"
   ]
  },
  {
   "cell_type": "code",
   "execution_count": 78,
   "metadata": {},
   "outputs": [
    {
     "data": {
      "application/vnd.plotly.v1+json": {
       "config": {
        "plotlyServerURL": "https://plot.ly"
       },
       "data": [
        {
         "autocolorscale": false,
         "colorbar": {
          "len": 0.4,
          "thickness": 15,
          "tick0": 0.2,
          "tickwidth": 0.2,
          "title": {
           "text": "Prevalence"
          },
          "x": 0,
          "y": 0.4
         },
         "colorscale": [
          [
           0,
           "rgb(5, 10, 172)"
          ],
          [
           0.35,
           "rgb(40, 60, 190)"
          ],
          [
           0.5,
           "rgb(70, 100, 245)"
          ],
          [
           0.6,
           "rgb(90, 120, 245)"
          ],
          [
           0.7,
           "rgb(106, 137, 247)"
          ],
          [
           1,
           "rgb(210, 240, 255)"
          ]
         ],
         "locations": [
          "AFG",
          "AGO",
          "ALB",
          "AND",
          "ARE",
          "ARG",
          "ARM",
          "ASM",
          "ATG",
          "AUS",
          "AUT",
          "AZE",
          "BDI",
          "BEL",
          "BEN",
          "BFA",
          "BGD",
          "BGR",
          "BHR",
          "BHS",
          "BIH",
          "BLR",
          "BLZ",
          "BMU",
          "BOL",
          "BRA",
          "BRB",
          "BRN",
          "BTN",
          "BWA",
          "CAF",
          "CAN",
          "CHE",
          "CHL",
          "CHN",
          "CIV",
          "CMR",
          "COD",
          "COG",
          "COK",
          "COL",
          "COM",
          "CPV",
          "CRI",
          "CUB",
          "CYP",
          "CZE",
          "DEU",
          "DJI",
          "DMA",
          "DNK",
          "DOM",
          "DZA",
          "ECU",
          "EGY",
          "ERI",
          "ESP",
          "EST",
          "ETH",
          "FIN",
          "FJI",
          "FRA",
          "FSM",
          "GAB",
          "GBR",
          "GEO",
          "GHA",
          "GIN",
          "GMB",
          "GNB",
          "GNQ",
          "GRC",
          "GRD",
          "GRL",
          "GTM",
          "GUM",
          "GUY",
          "HND",
          "HRV",
          "HTI",
          "HUN",
          "IDN",
          "IND",
          "IRL",
          "IRN",
          "IRQ",
          "ISL",
          "ISR",
          "ITA",
          "JAM",
          "JOR",
          "JPN",
          "KAZ",
          "KEN",
          "KGZ",
          "KHM",
          "KIR",
          "KNA",
          "KOR",
          "KWT",
          "LAO",
          "LBN",
          "LBR",
          "LBY",
          "LCA",
          "LKA",
          "LSO",
          "LTU",
          "LUX",
          "LVA",
          "MAR",
          "MCO",
          "MDA",
          "MDG",
          "MDV",
          "MEX",
          "MHL",
          "MKD",
          "MLI",
          "MLT",
          "MMR",
          "MNE",
          "MNG",
          "MNP",
          "MOZ",
          "MRT",
          "MUS",
          "MWI",
          "MYS",
          "NAM",
          "NER",
          "NGA",
          "NIC",
          "NIU",
          "NLD",
          "NOR",
          "NPL",
          "NRU",
          "NZL",
          "OMN",
          "PAK",
          "PAN",
          "PER",
          "PHL",
          "PLW",
          "PNG",
          "POL",
          "PRI",
          "PRK",
          "PRT",
          "PRY",
          "PSE",
          "QAT",
          "ROU",
          "RUS",
          "RWA",
          "SAU",
          "SDN",
          "SEN",
          "SGP",
          "SLB",
          "SLE",
          "SLV",
          "SMR",
          "SOM",
          "SRB",
          "SSD",
          "STP",
          "SUR",
          "SVK",
          "SVN",
          "SWE",
          "SWZ",
          "SYC",
          "SYR",
          "TCD",
          "TGO",
          "THA",
          "TJK",
          "TKL",
          "TKM",
          "TLS",
          "TON",
          "TTO",
          "TUN",
          "TUR",
          "TUV",
          "TWN",
          "TZA",
          "UGA",
          "UKR",
          "URY",
          "USA",
          "UZB",
          "VCT",
          "VEN",
          "VIR",
          "VNM",
          "VUT",
          "WSM",
          "YEM",
          "ZAF",
          "ZMB",
          "ZWE"
         ],
         "marker": {
          "line": {
           "color": "rgb(180,180,180)",
           "width": 0.2
          }
         },
         "reversescale": true,
         "type": "choropleth",
         "z": [
          2.079168135866779,
          1.8826768009535084,
          11.7963910234929,
          35.6271270884867,
          5.593315625877632,
          12.662109676984027,
          12.57589202690137,
          7.439455448064932,
          15.960591598166989,
          38.899074296791106,
          31.15105818551065,
          6.641363088860147,
          1.9458098607511871,
          33.88451575803616,
          1.6868382741979295,
          1.9628214826741777,
          2.9044727735071296,
          24.220069879753385,
          7.023304392484025,
          14.333513941197385,
          17.159955791745375,
          19.94915604696292,
          5.309493576309449,
          34.72892972283013,
          5.509759887557697,
          8.339560558767221,
          27.44731406919901,
          10.693272275514389,
          2.7875967261066643,
          5.395167410404831,
          1.8123668617125512,
          62.23400500696766,
          33.85200765732234,
          13.751410412315328,
          13.202921060052443,
          1.7359383592115074,
          2.2104164874406425,
          1.7410155484172396,
          2.7738169916272146,
          14.13563882855356,
          9.3651137106765,
          3.1208536514413003,
          5.344583134320813,
          12.99515655462944,
          22.38686619594803,
          27.1612329644929,
          28.810659260847714,
          38.05950965081245,
          3.027835897500751,
          16.06634990578667,
          36.15137219658666,
          6.6916302905304,
          5.2596576186296655,
          6.744732862880419,
          3.9834557813021187,
          2.406821664857341,
          34.19368845092433,
          31.10253604534249,
          1.802029628596116,
          37.775821894165276,
          5.757243568517191,
          34.55140838603009,
          5.944740547473605,
          3.5522291638767793,
          33.041595326331986,
          14.425795696645531,
          3.010836176159468,
          2.2601645926371945,
          1.4970846987797333,
          2.0770505387072524,
          2.1055200223922657,
          34.01571948510425,
          15.42964800761969,
          24.609493901381185,
          3.8904969122271353,
          7.164386383389591,
          7.014015462676516,
          3.9931215221080203,
          31.616824470568744,
          4.215322601370936,
          26.271428979004337,
          4.823703667616772,
          2.929601048027459,
          30.703744599280505,
          7.013560898834276,
          5.134625070010361,
          27.48662334308087,
          18.04345292106062,
          42.886855841821735,
          13.21671687570611,
          5.521781855770224,
          33.923018307008554,
          7.592237141899448,
          1.940111336431081,
          3.6710755472960646,
          4.036785027100411,
          5.432900076975377,
          18.80917850781853,
          20.15501731461036,
          6.184695514184194,
          3.223504946829503,
          18.432094880954217,
          1.798842454812834,
          6.226524689086918,
          14.055960989665795,
          6.484349201415651,
          3.6868688074747613,
          22.76176203197619,
          27.422524541777598,
          23.614653531321107,
          5.556875975088044,
          62.378393938746306,
          12.75064042181831,
          1.9285141248345667,
          3.8063395514537417,
          7.13858130538845,
          4.8555190140420805,
          18.64032003799147,
          1.5686687285962828,
          28.833911267418344,
          4.3523224229446615,
          21.29924945376726,
          4.422316180244421,
          15.53733793522962,
          2.170326504485524,
          2.133253694920725,
          9.637859510331854,
          2.442788077293019,
          7.51065161610889,
          3.8031615570470594,
          1.270388830332777,
          1.9331374223416367,
          5.800505852118032,
          11.128999648111735,
          43.58873144014192,
          34.67567108100619,
          2.8573133045691286,
          5.86404383597687,
          43.78318711309859,
          4.123969976387559,
          4.297114819533886,
          9.170862939131371,
          7.835085014837449,
          4.585380484378755,
          14.012153321645293,
          3.2764189135582327,
          19.111286186682925,
          22.06827315383612,
          6.757337989291304,
          33.3988831165023,
          6.365178671928268,
          4.799717531772521,
          4.840694273487906,
          19.62330161547452,
          18.85068375862452,
          2.6822181805444005,
          5.560774423240631,
          2.360857187935529,
          2.152943578845077,
          17.7746326254019,
          6.825698031555266,
          1.8840587952222239,
          6.533689480581727,
          41.17483270080203,
          1.5826806207576942,
          24.3034987967434,
          1.7157619403413669,
          3.284615182101411,
          7.400595278377555,
          25.849863437488015,
          29.90111246370357,
          34.33027444570681,
          3.2869724399593974,
          12.716282450726258,
          4.727973479011471,
          1.3773559517337708,
          2.0841030746596525,
          9.384522892254857,
          2.7057188528957323,
          6.862434069916429,
          4.440101188542217,
          2.676634002759131,
          5.907586524927705,
          12.448535671776405,
          8.191905652882987,
          9.65576392426419,
          5.853740649831772,
          13.202921060052443,
          2.5828610643041303,
          2.582858785629154,
          16.207332661180153,
          18.6243554540272,
          41.92192439356731,
          4.564543528791546,
          13.366313099463438,
          11.552285666202222,
          26.83199422013486,
          7.97955835399981,
          3.172914765777491,
          4.648138006071511,
          1.982613177561805,
          4.639863957179147,
          2.6898334891155993,
          3.358399629776816
         ]
        }
       ],
       "layout": {
        "font": {
         "family": "Times New Roman",
         "size": 8
        },
        "geo": {
         "countrycolor": "rgb(0, 0, 0)",
         "countrywidth": 0.1,
         "projection": {
          "type": "equirectangular"
         },
         "showcoastlines": false,
         "showcountries": true,
         "showframe": false
        },
        "margin": {
         "b": 0,
         "l": 0,
         "r": 0,
         "t": 0
        },
        "template": {
         "data": {
          "bar": [
           {
            "error_x": {
             "color": "#2a3f5f"
            },
            "error_y": {
             "color": "#2a3f5f"
            },
            "marker": {
             "line": {
              "color": "#E5ECF6",
              "width": 0.5
             },
             "pattern": {
              "fillmode": "overlay",
              "size": 10,
              "solidity": 0.2
             }
            },
            "type": "bar"
           }
          ],
          "barpolar": [
           {
            "marker": {
             "line": {
              "color": "#E5ECF6",
              "width": 0.5
             },
             "pattern": {
              "fillmode": "overlay",
              "size": 10,
              "solidity": 0.2
             }
            },
            "type": "barpolar"
           }
          ],
          "carpet": [
           {
            "aaxis": {
             "endlinecolor": "#2a3f5f",
             "gridcolor": "white",
             "linecolor": "white",
             "minorgridcolor": "white",
             "startlinecolor": "#2a3f5f"
            },
            "baxis": {
             "endlinecolor": "#2a3f5f",
             "gridcolor": "white",
             "linecolor": "white",
             "minorgridcolor": "white",
             "startlinecolor": "#2a3f5f"
            },
            "type": "carpet"
           }
          ],
          "choropleth": [
           {
            "colorbar": {
             "outlinewidth": 0,
             "ticks": ""
            },
            "type": "choropleth"
           }
          ],
          "contour": [
           {
            "colorbar": {
             "outlinewidth": 0,
             "ticks": ""
            },
            "colorscale": [
             [
              0,
              "#0d0887"
             ],
             [
              0.1111111111111111,
              "#46039f"
             ],
             [
              0.2222222222222222,
              "#7201a8"
             ],
             [
              0.3333333333333333,
              "#9c179e"
             ],
             [
              0.4444444444444444,
              "#bd3786"
             ],
             [
              0.5555555555555556,
              "#d8576b"
             ],
             [
              0.6666666666666666,
              "#ed7953"
             ],
             [
              0.7777777777777778,
              "#fb9f3a"
             ],
             [
              0.8888888888888888,
              "#fdca26"
             ],
             [
              1,
              "#f0f921"
             ]
            ],
            "type": "contour"
           }
          ],
          "contourcarpet": [
           {
            "colorbar": {
             "outlinewidth": 0,
             "ticks": ""
            },
            "type": "contourcarpet"
           }
          ],
          "heatmap": [
           {
            "colorbar": {
             "outlinewidth": 0,
             "ticks": ""
            },
            "colorscale": [
             [
              0,
              "#0d0887"
             ],
             [
              0.1111111111111111,
              "#46039f"
             ],
             [
              0.2222222222222222,
              "#7201a8"
             ],
             [
              0.3333333333333333,
              "#9c179e"
             ],
             [
              0.4444444444444444,
              "#bd3786"
             ],
             [
              0.5555555555555556,
              "#d8576b"
             ],
             [
              0.6666666666666666,
              "#ed7953"
             ],
             [
              0.7777777777777778,
              "#fb9f3a"
             ],
             [
              0.8888888888888888,
              "#fdca26"
             ],
             [
              1,
              "#f0f921"
             ]
            ],
            "type": "heatmap"
           }
          ],
          "heatmapgl": [
           {
            "colorbar": {
             "outlinewidth": 0,
             "ticks": ""
            },
            "colorscale": [
             [
              0,
              "#0d0887"
             ],
             [
              0.1111111111111111,
              "#46039f"
             ],
             [
              0.2222222222222222,
              "#7201a8"
             ],
             [
              0.3333333333333333,
              "#9c179e"
             ],
             [
              0.4444444444444444,
              "#bd3786"
             ],
             [
              0.5555555555555556,
              "#d8576b"
             ],
             [
              0.6666666666666666,
              "#ed7953"
             ],
             [
              0.7777777777777778,
              "#fb9f3a"
             ],
             [
              0.8888888888888888,
              "#fdca26"
             ],
             [
              1,
              "#f0f921"
             ]
            ],
            "type": "heatmapgl"
           }
          ],
          "histogram": [
           {
            "marker": {
             "pattern": {
              "fillmode": "overlay",
              "size": 10,
              "solidity": 0.2
             }
            },
            "type": "histogram"
           }
          ],
          "histogram2d": [
           {
            "colorbar": {
             "outlinewidth": 0,
             "ticks": ""
            },
            "colorscale": [
             [
              0,
              "#0d0887"
             ],
             [
              0.1111111111111111,
              "#46039f"
             ],
             [
              0.2222222222222222,
              "#7201a8"
             ],
             [
              0.3333333333333333,
              "#9c179e"
             ],
             [
              0.4444444444444444,
              "#bd3786"
             ],
             [
              0.5555555555555556,
              "#d8576b"
             ],
             [
              0.6666666666666666,
              "#ed7953"
             ],
             [
              0.7777777777777778,
              "#fb9f3a"
             ],
             [
              0.8888888888888888,
              "#fdca26"
             ],
             [
              1,
              "#f0f921"
             ]
            ],
            "type": "histogram2d"
           }
          ],
          "histogram2dcontour": [
           {
            "colorbar": {
             "outlinewidth": 0,
             "ticks": ""
            },
            "colorscale": [
             [
              0,
              "#0d0887"
             ],
             [
              0.1111111111111111,
              "#46039f"
             ],
             [
              0.2222222222222222,
              "#7201a8"
             ],
             [
              0.3333333333333333,
              "#9c179e"
             ],
             [
              0.4444444444444444,
              "#bd3786"
             ],
             [
              0.5555555555555556,
              "#d8576b"
             ],
             [
              0.6666666666666666,
              "#ed7953"
             ],
             [
              0.7777777777777778,
              "#fb9f3a"
             ],
             [
              0.8888888888888888,
              "#fdca26"
             ],
             [
              1,
              "#f0f921"
             ]
            ],
            "type": "histogram2dcontour"
           }
          ],
          "mesh3d": [
           {
            "colorbar": {
             "outlinewidth": 0,
             "ticks": ""
            },
            "type": "mesh3d"
           }
          ],
          "parcoords": [
           {
            "line": {
             "colorbar": {
              "outlinewidth": 0,
              "ticks": ""
             }
            },
            "type": "parcoords"
           }
          ],
          "pie": [
           {
            "automargin": true,
            "type": "pie"
           }
          ],
          "scatter": [
           {
            "marker": {
             "colorbar": {
              "outlinewidth": 0,
              "ticks": ""
             }
            },
            "type": "scatter"
           }
          ],
          "scatter3d": [
           {
            "line": {
             "colorbar": {
              "outlinewidth": 0,
              "ticks": ""
             }
            },
            "marker": {
             "colorbar": {
              "outlinewidth": 0,
              "ticks": ""
             }
            },
            "type": "scatter3d"
           }
          ],
          "scattercarpet": [
           {
            "marker": {
             "colorbar": {
              "outlinewidth": 0,
              "ticks": ""
             }
            },
            "type": "scattercarpet"
           }
          ],
          "scattergeo": [
           {
            "marker": {
             "colorbar": {
              "outlinewidth": 0,
              "ticks": ""
             }
            },
            "type": "scattergeo"
           }
          ],
          "scattergl": [
           {
            "marker": {
             "colorbar": {
              "outlinewidth": 0,
              "ticks": ""
             }
            },
            "type": "scattergl"
           }
          ],
          "scattermapbox": [
           {
            "marker": {
             "colorbar": {
              "outlinewidth": 0,
              "ticks": ""
             }
            },
            "type": "scattermapbox"
           }
          ],
          "scatterpolar": [
           {
            "marker": {
             "colorbar": {
              "outlinewidth": 0,
              "ticks": ""
             }
            },
            "type": "scatterpolar"
           }
          ],
          "scatterpolargl": [
           {
            "marker": {
             "colorbar": {
              "outlinewidth": 0,
              "ticks": ""
             }
            },
            "type": "scatterpolargl"
           }
          ],
          "scatterternary": [
           {
            "marker": {
             "colorbar": {
              "outlinewidth": 0,
              "ticks": ""
             }
            },
            "type": "scatterternary"
           }
          ],
          "surface": [
           {
            "colorbar": {
             "outlinewidth": 0,
             "ticks": ""
            },
            "colorscale": [
             [
              0,
              "#0d0887"
             ],
             [
              0.1111111111111111,
              "#46039f"
             ],
             [
              0.2222222222222222,
              "#7201a8"
             ],
             [
              0.3333333333333333,
              "#9c179e"
             ],
             [
              0.4444444444444444,
              "#bd3786"
             ],
             [
              0.5555555555555556,
              "#d8576b"
             ],
             [
              0.6666666666666666,
              "#ed7953"
             ],
             [
              0.7777777777777778,
              "#fb9f3a"
             ],
             [
              0.8888888888888888,
              "#fdca26"
             ],
             [
              1,
              "#f0f921"
             ]
            ],
            "type": "surface"
           }
          ],
          "table": [
           {
            "cells": {
             "fill": {
              "color": "#EBF0F8"
             },
             "line": {
              "color": "white"
             }
            },
            "header": {
             "fill": {
              "color": "#C8D4E3"
             },
             "line": {
              "color": "white"
             }
            },
            "type": "table"
           }
          ]
         },
         "layout": {
          "annotationdefaults": {
           "arrowcolor": "#2a3f5f",
           "arrowhead": 0,
           "arrowwidth": 1
          },
          "autotypenumbers": "strict",
          "coloraxis": {
           "colorbar": {
            "outlinewidth": 0,
            "ticks": ""
           }
          },
          "colorscale": {
           "diverging": [
            [
             0,
             "#8e0152"
            ],
            [
             0.1,
             "#c51b7d"
            ],
            [
             0.2,
             "#de77ae"
            ],
            [
             0.3,
             "#f1b6da"
            ],
            [
             0.4,
             "#fde0ef"
            ],
            [
             0.5,
             "#f7f7f7"
            ],
            [
             0.6,
             "#e6f5d0"
            ],
            [
             0.7,
             "#b8e186"
            ],
            [
             0.8,
             "#7fbc41"
            ],
            [
             0.9,
             "#4d9221"
            ],
            [
             1,
             "#276419"
            ]
           ],
           "sequential": [
            [
             0,
             "#0d0887"
            ],
            [
             0.1111111111111111,
             "#46039f"
            ],
            [
             0.2222222222222222,
             "#7201a8"
            ],
            [
             0.3333333333333333,
             "#9c179e"
            ],
            [
             0.4444444444444444,
             "#bd3786"
            ],
            [
             0.5555555555555556,
             "#d8576b"
            ],
            [
             0.6666666666666666,
             "#ed7953"
            ],
            [
             0.7777777777777778,
             "#fb9f3a"
            ],
            [
             0.8888888888888888,
             "#fdca26"
            ],
            [
             1,
             "#f0f921"
            ]
           ],
           "sequentialminus": [
            [
             0,
             "#0d0887"
            ],
            [
             0.1111111111111111,
             "#46039f"
            ],
            [
             0.2222222222222222,
             "#7201a8"
            ],
            [
             0.3333333333333333,
             "#9c179e"
            ],
            [
             0.4444444444444444,
             "#bd3786"
            ],
            [
             0.5555555555555556,
             "#d8576b"
            ],
            [
             0.6666666666666666,
             "#ed7953"
            ],
            [
             0.7777777777777778,
             "#fb9f3a"
            ],
            [
             0.8888888888888888,
             "#fdca26"
            ],
            [
             1,
             "#f0f921"
            ]
           ]
          },
          "colorway": [
           "#636efa",
           "#EF553B",
           "#00cc96",
           "#ab63fa",
           "#FFA15A",
           "#19d3f3",
           "#FF6692",
           "#B6E880",
           "#FF97FF",
           "#FECB52"
          ],
          "font": {
           "color": "#2a3f5f"
          },
          "geo": {
           "bgcolor": "white",
           "lakecolor": "white",
           "landcolor": "#E5ECF6",
           "showlakes": true,
           "showland": true,
           "subunitcolor": "white"
          },
          "hoverlabel": {
           "align": "left"
          },
          "hovermode": "closest",
          "mapbox": {
           "style": "light"
          },
          "paper_bgcolor": "white",
          "plot_bgcolor": "#E5ECF6",
          "polar": {
           "angularaxis": {
            "gridcolor": "white",
            "linecolor": "white",
            "ticks": ""
           },
           "bgcolor": "#E5ECF6",
           "radialaxis": {
            "gridcolor": "white",
            "linecolor": "white",
            "ticks": ""
           }
          },
          "scene": {
           "xaxis": {
            "backgroundcolor": "#E5ECF6",
            "gridcolor": "white",
            "gridwidth": 2,
            "linecolor": "white",
            "showbackground": true,
            "ticks": "",
            "zerolinecolor": "white"
           },
           "yaxis": {
            "backgroundcolor": "#E5ECF6",
            "gridcolor": "white",
            "gridwidth": 2,
            "linecolor": "white",
            "showbackground": true,
            "ticks": "",
            "zerolinecolor": "white"
           },
           "zaxis": {
            "backgroundcolor": "#E5ECF6",
            "gridcolor": "white",
            "gridwidth": 2,
            "linecolor": "white",
            "showbackground": true,
            "ticks": "",
            "zerolinecolor": "white"
           }
          },
          "shapedefaults": {
           "line": {
            "color": "#2a3f5f"
           }
          },
          "ternary": {
           "aaxis": {
            "gridcolor": "white",
            "linecolor": "white",
            "ticks": ""
           },
           "baxis": {
            "gridcolor": "white",
            "linecolor": "white",
            "ticks": ""
           },
           "bgcolor": "#E5ECF6",
           "caxis": {
            "gridcolor": "white",
            "linecolor": "white",
            "ticks": ""
           }
          },
          "title": {
           "x": 0.05
          },
          "xaxis": {
           "automargin": true,
           "gridcolor": "white",
           "linecolor": "white",
           "ticks": "",
           "title": {
            "standoff": 15
           },
           "zerolinecolor": "white",
           "zerolinewidth": 2
          },
          "yaxis": {
           "automargin": true,
           "gridcolor": "white",
           "linecolor": "white",
           "ticks": "",
           "title": {
            "standoff": 15
           },
           "zerolinecolor": "white",
           "zerolinewidth": 2
          }
         }
        }
       }
      }
     },
     "metadata": {},
     "output_type": "display_data"
    }
   ],
   "source": [
    "df = pd.read_csv('bigdata/Total cancers/Prevalence.csv')\n",
    "df = df.set_index('Country Code')\n",
    "df.loc['TWN',:] = df.loc['CHN',:]\n",
    "df = df.reset_index()\n",
    "\n",
    "fig = go.Figure(data=go.Choropleth(\n",
    "        locations = df['Country Code'],\n",
    "        z = df['Prevalence']/100.0,\n",
    "        colorscale = [[0,\"rgb(5, 10, 172)\"],[0.35,\"rgb(40, 60, 190)\"],[0.5,\"rgb(70, 100, 245)\"],\\\n",
    "            [0.6,\"rgb(90, 120, 245)\"],[0.7,\"rgb(106, 137, 247)\"],[1,\"rgb(210, 240, 255)\"]],\n",
    "        # colorscale = 'Reds',\n",
    "        autocolorscale = False,\n",
    "        reversescale = True,\n",
    "        \n",
    "    \n",
    "        marker = dict(\n",
    "            line = dict (\n",
    "                color = 'rgb(180,180,180)',\n",
    "                width = 0.2\n",
    "            ) ),\n",
    "        colorbar = dict(\n",
    "            len = 0.4,\n",
    "            thickness = 15,\n",
    "            tickwidth = 0.2,\n",
    "            tick0= 0.2,\n",
    "            title = 'Prevalence'),\n",
    "))\n",
    "fig.update_layout(\n",
    "    font=dict(\n",
    "        # family=\"Courier New, monospace\",\n",
    "        family=\"Times New Roman\",\n",
    "        size=8,\n",
    "        # color=\"#7f7f7f\"\n",
    "    ),\n",
    "    margin = {'l':0,'r':0,'t':0,'b':0},\n",
    "#     title = 'Economic Burden of Road Injuries During 2020-2050',\n",
    "    geo = dict(\n",
    "        showframe = False,\n",
    "        showcoastlines = False,\n",
    "                showcountries = True,\n",
    "        countrycolor = \"rgb(0, 0, 0)\",\n",
    "        countrywidth = 0.1,\n",
    "        projection_type='equirectangular',\n",
    "    )\n",
    ")\n",
    "\n",
    "fig.data[0].colorbar.x=0.0\n",
    "fig.data[0].colorbar.y=0.4\n",
    "\n",
    "# plot(fig)\n",
    "fig.show()\n",
    "fig.write_image(\"tables/figure_S3.pdf\")"
   ]
  },
  {
   "cell_type": "code",
   "execution_count": 79,
   "metadata": {},
   "outputs": [],
   "source": [
    "import pandas as pd\n",
    "df = pd.read_csv('bigdata/Total cancers/DALYs_specific.csv')\n",
    "# df = df[df['metric'] == 'Number']\n",
    "df = df[df['metric'] == 'Number']\n",
    "dff = pd.pivot_table(df, index=['location', 'cause'], columns=['measure'], values='val')\n",
    "data = dff.reset_index()\n",
    "data = data[(data['cause']!='Total cancers') & (data['cause']!='Neoplasms')]\n",
    "data.sort_values(['location','DALYs (Disability-Adjusted Life Years)'], ascending = [True,False], inplace=True)\n",
    "data_IHME = data.groupby('location').head(1)\n",
    "data_IHME = data_IHME.merge(countries_info, left_on='location', right_on='country')\n",
    "\n",
    "data2 = data.groupby('cause').sum().reset_index()\n",
    "ranklist = data2.sort_values(['DALYs (Disability-Adjusted Life Years)'], ascending=False)['cause'].unique().tolist()\n",
    "# ranklist = ['Tracheal, bronchus, and lung cancer', 'Colon and rectum cancer', 'Breast cancer', 'Stomach cancer', 'Liver cancer', 'Pancreatic cancer', 'Brain and central nervous system cancer', 'Leukemia', 'Other neoplasms', 'Non-Hodgkin lymphoma', 'Esophageal cancer', 'Cervical cancer', 'Prostate cancer', 'Ovarian cancer', 'Kidney cancer', 'Lip and oral cavity cancer', 'Bladder cancer', 'Nasopharynx cancer', 'Other pharynx cancer', 'Uterine cancer', 'Malignant skin melanoma', 'Gallbladder and biliary tract cancer', 'Multiple myeloma', 'Larynx cancer', 'Non-melanoma skin cancer', 'Thyroid cancer', 'Hodgkin lymphoma', 'Testicular cancer', 'Mesothelioma', 'Other malignant neoplasms']\n",
    "def getrank(disease):\n",
    "    return ranklist.index(disease) + 1\n",
    "\n",
    "data_IHME['rank'] = data_IHME['cause'].apply(getrank)\n",
    "rankranklist = sorted(data_IHME['rank'].unique())\n",
    "def getrankrank(rank):\n",
    "    return rankranklist.index(rank) + 1\n",
    "data_IHME['rankrank'] = data_IHME['rank'].apply(getrankrank)\n",
    "data_IHME.sort_values(['rankrank', 'DALYs (Disability-Adjusted Life Years)'], ascending = [True, False], inplace=True)\n",
    "data_IHME[['Country Code', 'cause', 'rank', 'rankrank', 'DALYs (Disability-Adjusted Life Years)']].to_csv('tables/Table1g.csv', index=False, float_format='%.2f')\n"
   ]
  },
  {
   "cell_type": "code",
   "execution_count": 80,
   "metadata": {},
   "outputs": [
    {
     "name": "stdout",
     "output_type": "stream",
     "text": [
      "['TBL' 'Colon' 'Stomach' 'Breast' 'Other' 'Liver' 'Esophageal' 'Leukemia'\n",
      " 'Pancreatic' 'Cervical' 'Prostate'] 11\n"
     ]
    },
    {
     "data": {
      "application/vnd.plotly.v1+json": {
       "config": {
        "plotlyServerURL": "https://plot.ly"
       },
       "data": [
        {
         "colorscale": [
          [
           0,
           "rgb(39, 125, 161)"
          ],
          [
           1,
           "rgb(39, 125, 161)"
          ]
         ],
         "geo": "geo",
         "hovertemplate": "cause=TBL<br>Country Code=%{location}<extra></extra>",
         "locations": [
          "CHN",
          "USA",
          "JPN",
          "RUS",
          "IDN",
          "DEU",
          "FRA",
          "BRA",
          "GBR",
          "TUR",
          "POL",
          "ITA",
          "VNM",
          "ESP",
          "CAN",
          "UKR",
          "KOR",
          "PHL",
          "ARG",
          "ROU",
          "MMR",
          "NLD",
          "TWN",
          "PRK",
          "ZAF",
          "HUN",
          "AUS",
          "SRB",
          "GRC",
          "BEL",
          "CUB",
          "VEN",
          "CZE",
          "MYS",
          "BGR",
          "IRQ",
          "PRT",
          "KAZ",
          "AUT",
          "BLR",
          "DNK",
          "SWE",
          "CHE",
          "KHM",
          "AZE",
          "HRV",
          "TUN",
          "LKA",
          "SVK",
          "BIH",
          "ISR",
          "FIN",
          "NOR",
          "GEO",
          "IRL",
          "NZL",
          "URY",
          "DOM",
          "HND",
          "MKD",
          "LBN",
          "ARM",
          "SGP",
          "LTU",
          "SVN",
          "MDA",
          "LAO",
          "ALB",
          "LBY",
          "JOR",
          "LVA",
          "PRY",
          "EST",
          "PSE",
          "MNE",
          "TKM",
          "CYP",
          "BWA",
          "LUX",
          "GAB",
          "TLS",
          "MLT",
          "QAT",
          "ISL",
          "BRN",
          "SUR",
          "GUM",
          "GRL",
          "MCO",
          "VUT",
          "AND",
          "BMU",
          "FSM",
          "MNP",
          "SMR",
          "ASM",
          "MHL",
          "PLW",
          "COK",
          "TUV",
          "NRU",
          "NIU",
          "TKL"
         ],
         "name": "TBL",
         "showlegend": true,
         "showscale": false,
         "type": "choropleth",
         "z": [
          1,
          1,
          1,
          1,
          1,
          1,
          1,
          1,
          1,
          1,
          1,
          1,
          1,
          1,
          1,
          1,
          1,
          1,
          1,
          1,
          1,
          1,
          1,
          1,
          1,
          1,
          1,
          1,
          1,
          1,
          1,
          1,
          1,
          1,
          1,
          1,
          1,
          1,
          1,
          1,
          1,
          1,
          1,
          1,
          1,
          1,
          1,
          1,
          1,
          1,
          1,
          1,
          1,
          1,
          1,
          1,
          1,
          1,
          1,
          1,
          1,
          1,
          1,
          1,
          1,
          1,
          1,
          1,
          1,
          1,
          1,
          1,
          1,
          1,
          1,
          1,
          1,
          1,
          1,
          1,
          1,
          1,
          1,
          1,
          1,
          1,
          1,
          1,
          1,
          1,
          1,
          1,
          1,
          1,
          1,
          1,
          1,
          1,
          1,
          1,
          1,
          1,
          1
         ]
        },
        {
         "colorscale": [
          [
           0,
           "rgb(150, 150, 150)"
          ],
          [
           1,
           "rgb(150, 150, 150)"
          ]
         ],
         "geo": "geo",
         "hovertemplate": "cause=Colon<br>Country Code=%{location}<extra></extra>",
         "locations": [
          "MEX",
          "PRI",
          "SYC"
         ],
         "name": "Colon",
         "showlegend": true,
         "showscale": false,
         "type": "choropleth",
         "z": [
          1,
          1,
          1
         ]
        },
        {
         "colorscale": [
          [
           0,
           "rgb(250, 190, 40)"
          ],
          [
           1,
           "rgb(250, 190, 40)"
          ]
         ],
         "geo": "geo",
         "hovertemplate": "cause=Stomach<br>Country Code=%{location}<extra></extra>",
         "locations": [
          "IRN",
          "COL",
          "PER",
          "CHL",
          "UZB",
          "GTM",
          "YEM",
          "ECU",
          "BOL",
          "TJK",
          "KGZ",
          "SLV",
          "CRI",
          "NIC",
          "PAN",
          "CPV"
         ],
         "name": "Stomach",
         "showlegend": true,
         "showscale": false,
         "type": "choropleth",
         "z": [
          1,
          1,
          1,
          1,
          1,
          1,
          1,
          1,
          1,
          1,
          1,
          1,
          1,
          1,
          1,
          1
         ]
        },
        {
         "colorscale": [
          [
           0,
           "rgb(150, 0, 190)"
          ],
          [
           1,
           "rgb(150, 0, 190)"
          ]
         ],
         "geo": "geo",
         "hovertemplate": "cause=Breast<br>Country Code=%{location}<extra></extra>",
         "locations": [
          "IND",
          "PAK",
          "NGA",
          "MAR",
          "GHA",
          "DZA",
          "SAU",
          "PNG",
          "COG",
          "NAM",
          "KWT",
          "MUS",
          "SLB",
          "FJI",
          "BHR",
          "GUY",
          "BHS",
          "GNQ",
          "MDV",
          "WSM"
         ],
         "name": "Breast",
         "showlegend": true,
         "showscale": false,
         "type": "choropleth",
         "z": [
          1,
          1,
          1,
          1,
          1,
          1,
          1,
          1,
          1,
          1,
          1,
          1,
          1,
          1,
          1,
          1,
          1,
          1,
          1,
          1
         ]
        },
        {
         "colorscale": [
          [
           0,
           "rgb(80, 80, 80)"
          ],
          [
           1,
           "rgb(80, 80, 80)"
          ]
         ],
         "geo": "geo",
         "hovertemplate": "cause=Other<br>Country Code=%{location}<extra></extra>",
         "locations": [
          "BGD",
          "TZA",
          "NPL",
          "UGA",
          "MWI",
          "MOZ",
          "ZMB",
          "RWA",
          "BDI",
          "SSD",
          "OMN",
          "DJI",
          "BTN",
          "STP"
         ],
         "name": "Other",
         "showlegend": true,
         "showscale": false,
         "type": "choropleth",
         "z": [
          1,
          1,
          1,
          1,
          1,
          1,
          1,
          1,
          1,
          1,
          1,
          1,
          1,
          1
         ]
        },
        {
         "colorscale": [
          [
           0,
           "rgb(144, 190, 109)"
          ],
          [
           1,
           "rgb(144, 190, 109)"
          ]
         ],
         "geo": "geo",
         "hovertemplate": "cause=Liver<br>Country Code=%{location}<extra></extra>",
         "locations": [
          "THA",
          "EGY",
          "MNG",
          "GIN",
          "MLI",
          "GMB",
          "SWZ",
          "TON"
         ],
         "name": "Liver",
         "showlegend": true,
         "showscale": false,
         "type": "choropleth",
         "z": [
          1,
          1,
          1,
          1,
          1,
          1,
          1,
          1
         ]
        },
        {
         "colorscale": [
          [
           0,
           "rgb(0, 0, 255)"
          ],
          [
           1,
           "rgb(0, 0, 255)"
          ]
         ],
         "geo": "geo",
         "hovertemplate": "cause=Esophageal<br>Country Code=%{location}<extra></extra>",
         "locations": [
          "KEN"
         ],
         "name": "Esophageal",
         "showlegend": true,
         "showscale": false,
         "type": "choropleth",
         "z": [
          1
         ]
        },
        {
         "colorscale": [
          [
           0,
           "rgb(255, 20, 20)"
          ],
          [
           1,
           "rgb(255, 20, 20)"
          ]
         ],
         "geo": "geo",
         "hovertemplate": "cause=Leukemia<br>Country Code=%{location}<extra></extra>",
         "locations": [
          "ETH",
          "AFG",
          "SDN",
          "SYR"
         ],
         "name": "Leukemia",
         "showlegend": true,
         "showscale": false,
         "type": "choropleth",
         "z": [
          1,
          1,
          1,
          1
         ]
        },
        {
         "colorscale": [
          [
           0,
           "rgb(50, 0, 150)"
          ],
          [
           1,
           "rgb(50, 0, 150)"
          ]
         ],
         "geo": "geo",
         "hovertemplate": "cause=Pancreatic<br>Country Code=%{location}<extra></extra>",
         "locations": [
          "ARE"
         ],
         "name": "Pancreatic",
         "showlegend": true,
         "showscale": false,
         "type": "choropleth",
         "z": [
          1
         ]
        },
        {
         "colorscale": [
          [
           0,
           "rgb(243, 114, 44)"
          ],
          [
           1,
           "rgb(243, 114, 44)"
          ]
         ],
         "geo": "geo",
         "hovertemplate": "cause=Cervical<br>Country Code=%{location}<extra></extra>",
         "locations": [
          "COD",
          "MDG",
          "AGO",
          "CMR",
          "SOM",
          "ZWE",
          "BFA",
          "HTI",
          "CIV",
          "NER",
          "SEN",
          "TCD",
          "BEN",
          "ERI",
          "TGO",
          "SLE",
          "CAF",
          "LSO",
          "LBR",
          "MRT",
          "GNB",
          "COM",
          "KIR",
          "BLZ"
         ],
         "name": "Cervical",
         "showlegend": true,
         "showscale": false,
         "type": "choropleth",
         "z": [
          1,
          1,
          1,
          1,
          1,
          1,
          1,
          1,
          1,
          1,
          1,
          1,
          1,
          1,
          1,
          1,
          1,
          1,
          1,
          1,
          1,
          1,
          1,
          1
         ]
        },
        {
         "colorscale": [
          [
           0,
           "rgb(0, 255, 240)"
          ],
          [
           1,
           "rgb(0, 255, 240)"
          ]
         ],
         "geo": "geo",
         "hovertemplate": "cause=Prostate<br>Country Code=%{location}<extra></extra>",
         "locations": [
          "JAM",
          "TTO",
          "BRB",
          "VIR",
          "LCA",
          "DMA",
          "VCT",
          "GRD",
          "ATG",
          "KNA"
         ],
         "name": "Prostate",
         "showlegend": true,
         "showscale": false,
         "type": "choropleth",
         "z": [
          1,
          1,
          1,
          1,
          1,
          1,
          1,
          1,
          1,
          1
         ]
        }
       ],
       "layout": {
        "font": {
         "family": "Times New Roman",
         "size": 10
        },
        "geo": {
         "center": {},
         "countrycolor": "rgb(0, 0, 0)",
         "countrywidth": 0.1,
         "domain": {
          "x": [
           0,
           1
          ],
          "y": [
           0,
           1
          ]
         },
         "projection": {
          "type": "equirectangular"
         },
         "showcoastlines": false,
         "showcountries": true,
         "showframe": false
        },
        "legend": {
         "title": {
          "text": "Cancer types"
         },
         "tracegroupgap": 0,
         "x": 0,
         "y": 0.2
        },
        "margin": {
         "b": 0,
         "l": 0,
         "r": 0,
         "t": 0
        },
        "template": {
         "data": {
          "bar": [
           {
            "error_x": {
             "color": "#2a3f5f"
            },
            "error_y": {
             "color": "#2a3f5f"
            },
            "marker": {
             "line": {
              "color": "#E5ECF6",
              "width": 0.5
             },
             "pattern": {
              "fillmode": "overlay",
              "size": 10,
              "solidity": 0.2
             }
            },
            "type": "bar"
           }
          ],
          "barpolar": [
           {
            "marker": {
             "line": {
              "color": "#E5ECF6",
              "width": 0.5
             },
             "pattern": {
              "fillmode": "overlay",
              "size": 10,
              "solidity": 0.2
             }
            },
            "type": "barpolar"
           }
          ],
          "carpet": [
           {
            "aaxis": {
             "endlinecolor": "#2a3f5f",
             "gridcolor": "white",
             "linecolor": "white",
             "minorgridcolor": "white",
             "startlinecolor": "#2a3f5f"
            },
            "baxis": {
             "endlinecolor": "#2a3f5f",
             "gridcolor": "white",
             "linecolor": "white",
             "minorgridcolor": "white",
             "startlinecolor": "#2a3f5f"
            },
            "type": "carpet"
           }
          ],
          "choropleth": [
           {
            "colorbar": {
             "outlinewidth": 0,
             "ticks": ""
            },
            "type": "choropleth"
           }
          ],
          "contour": [
           {
            "colorbar": {
             "outlinewidth": 0,
             "ticks": ""
            },
            "colorscale": [
             [
              0,
              "#0d0887"
             ],
             [
              0.1111111111111111,
              "#46039f"
             ],
             [
              0.2222222222222222,
              "#7201a8"
             ],
             [
              0.3333333333333333,
              "#9c179e"
             ],
             [
              0.4444444444444444,
              "#bd3786"
             ],
             [
              0.5555555555555556,
              "#d8576b"
             ],
             [
              0.6666666666666666,
              "#ed7953"
             ],
             [
              0.7777777777777778,
              "#fb9f3a"
             ],
             [
              0.8888888888888888,
              "#fdca26"
             ],
             [
              1,
              "#f0f921"
             ]
            ],
            "type": "contour"
           }
          ],
          "contourcarpet": [
           {
            "colorbar": {
             "outlinewidth": 0,
             "ticks": ""
            },
            "type": "contourcarpet"
           }
          ],
          "heatmap": [
           {
            "colorbar": {
             "outlinewidth": 0,
             "ticks": ""
            },
            "colorscale": [
             [
              0,
              "#0d0887"
             ],
             [
              0.1111111111111111,
              "#46039f"
             ],
             [
              0.2222222222222222,
              "#7201a8"
             ],
             [
              0.3333333333333333,
              "#9c179e"
             ],
             [
              0.4444444444444444,
              "#bd3786"
             ],
             [
              0.5555555555555556,
              "#d8576b"
             ],
             [
              0.6666666666666666,
              "#ed7953"
             ],
             [
              0.7777777777777778,
              "#fb9f3a"
             ],
             [
              0.8888888888888888,
              "#fdca26"
             ],
             [
              1,
              "#f0f921"
             ]
            ],
            "type": "heatmap"
           }
          ],
          "heatmapgl": [
           {
            "colorbar": {
             "outlinewidth": 0,
             "ticks": ""
            },
            "colorscale": [
             [
              0,
              "#0d0887"
             ],
             [
              0.1111111111111111,
              "#46039f"
             ],
             [
              0.2222222222222222,
              "#7201a8"
             ],
             [
              0.3333333333333333,
              "#9c179e"
             ],
             [
              0.4444444444444444,
              "#bd3786"
             ],
             [
              0.5555555555555556,
              "#d8576b"
             ],
             [
              0.6666666666666666,
              "#ed7953"
             ],
             [
              0.7777777777777778,
              "#fb9f3a"
             ],
             [
              0.8888888888888888,
              "#fdca26"
             ],
             [
              1,
              "#f0f921"
             ]
            ],
            "type": "heatmapgl"
           }
          ],
          "histogram": [
           {
            "marker": {
             "pattern": {
              "fillmode": "overlay",
              "size": 10,
              "solidity": 0.2
             }
            },
            "type": "histogram"
           }
          ],
          "histogram2d": [
           {
            "colorbar": {
             "outlinewidth": 0,
             "ticks": ""
            },
            "colorscale": [
             [
              0,
              "#0d0887"
             ],
             [
              0.1111111111111111,
              "#46039f"
             ],
             [
              0.2222222222222222,
              "#7201a8"
             ],
             [
              0.3333333333333333,
              "#9c179e"
             ],
             [
              0.4444444444444444,
              "#bd3786"
             ],
             [
              0.5555555555555556,
              "#d8576b"
             ],
             [
              0.6666666666666666,
              "#ed7953"
             ],
             [
              0.7777777777777778,
              "#fb9f3a"
             ],
             [
              0.8888888888888888,
              "#fdca26"
             ],
             [
              1,
              "#f0f921"
             ]
            ],
            "type": "histogram2d"
           }
          ],
          "histogram2dcontour": [
           {
            "colorbar": {
             "outlinewidth": 0,
             "ticks": ""
            },
            "colorscale": [
             [
              0,
              "#0d0887"
             ],
             [
              0.1111111111111111,
              "#46039f"
             ],
             [
              0.2222222222222222,
              "#7201a8"
             ],
             [
              0.3333333333333333,
              "#9c179e"
             ],
             [
              0.4444444444444444,
              "#bd3786"
             ],
             [
              0.5555555555555556,
              "#d8576b"
             ],
             [
              0.6666666666666666,
              "#ed7953"
             ],
             [
              0.7777777777777778,
              "#fb9f3a"
             ],
             [
              0.8888888888888888,
              "#fdca26"
             ],
             [
              1,
              "#f0f921"
             ]
            ],
            "type": "histogram2dcontour"
           }
          ],
          "mesh3d": [
           {
            "colorbar": {
             "outlinewidth": 0,
             "ticks": ""
            },
            "type": "mesh3d"
           }
          ],
          "parcoords": [
           {
            "line": {
             "colorbar": {
              "outlinewidth": 0,
              "ticks": ""
             }
            },
            "type": "parcoords"
           }
          ],
          "pie": [
           {
            "automargin": true,
            "type": "pie"
           }
          ],
          "scatter": [
           {
            "marker": {
             "colorbar": {
              "outlinewidth": 0,
              "ticks": ""
             }
            },
            "type": "scatter"
           }
          ],
          "scatter3d": [
           {
            "line": {
             "colorbar": {
              "outlinewidth": 0,
              "ticks": ""
             }
            },
            "marker": {
             "colorbar": {
              "outlinewidth": 0,
              "ticks": ""
             }
            },
            "type": "scatter3d"
           }
          ],
          "scattercarpet": [
           {
            "marker": {
             "colorbar": {
              "outlinewidth": 0,
              "ticks": ""
             }
            },
            "type": "scattercarpet"
           }
          ],
          "scattergeo": [
           {
            "marker": {
             "colorbar": {
              "outlinewidth": 0,
              "ticks": ""
             }
            },
            "type": "scattergeo"
           }
          ],
          "scattergl": [
           {
            "marker": {
             "colorbar": {
              "outlinewidth": 0,
              "ticks": ""
             }
            },
            "type": "scattergl"
           }
          ],
          "scattermapbox": [
           {
            "marker": {
             "colorbar": {
              "outlinewidth": 0,
              "ticks": ""
             }
            },
            "type": "scattermapbox"
           }
          ],
          "scatterpolar": [
           {
            "marker": {
             "colorbar": {
              "outlinewidth": 0,
              "ticks": ""
             }
            },
            "type": "scatterpolar"
           }
          ],
          "scatterpolargl": [
           {
            "marker": {
             "colorbar": {
              "outlinewidth": 0,
              "ticks": ""
             }
            },
            "type": "scatterpolargl"
           }
          ],
          "scatterternary": [
           {
            "marker": {
             "colorbar": {
              "outlinewidth": 0,
              "ticks": ""
             }
            },
            "type": "scatterternary"
           }
          ],
          "surface": [
           {
            "colorbar": {
             "outlinewidth": 0,
             "ticks": ""
            },
            "colorscale": [
             [
              0,
              "#0d0887"
             ],
             [
              0.1111111111111111,
              "#46039f"
             ],
             [
              0.2222222222222222,
              "#7201a8"
             ],
             [
              0.3333333333333333,
              "#9c179e"
             ],
             [
              0.4444444444444444,
              "#bd3786"
             ],
             [
              0.5555555555555556,
              "#d8576b"
             ],
             [
              0.6666666666666666,
              "#ed7953"
             ],
             [
              0.7777777777777778,
              "#fb9f3a"
             ],
             [
              0.8888888888888888,
              "#fdca26"
             ],
             [
              1,
              "#f0f921"
             ]
            ],
            "type": "surface"
           }
          ],
          "table": [
           {
            "cells": {
             "fill": {
              "color": "#EBF0F8"
             },
             "line": {
              "color": "white"
             }
            },
            "header": {
             "fill": {
              "color": "#C8D4E3"
             },
             "line": {
              "color": "white"
             }
            },
            "type": "table"
           }
          ]
         },
         "layout": {
          "annotationdefaults": {
           "arrowcolor": "#2a3f5f",
           "arrowhead": 0,
           "arrowwidth": 1
          },
          "autotypenumbers": "strict",
          "coloraxis": {
           "colorbar": {
            "outlinewidth": 0,
            "ticks": ""
           }
          },
          "colorscale": {
           "diverging": [
            [
             0,
             "#8e0152"
            ],
            [
             0.1,
             "#c51b7d"
            ],
            [
             0.2,
             "#de77ae"
            ],
            [
             0.3,
             "#f1b6da"
            ],
            [
             0.4,
             "#fde0ef"
            ],
            [
             0.5,
             "#f7f7f7"
            ],
            [
             0.6,
             "#e6f5d0"
            ],
            [
             0.7,
             "#b8e186"
            ],
            [
             0.8,
             "#7fbc41"
            ],
            [
             0.9,
             "#4d9221"
            ],
            [
             1,
             "#276419"
            ]
           ],
           "sequential": [
            [
             0,
             "#0d0887"
            ],
            [
             0.1111111111111111,
             "#46039f"
            ],
            [
             0.2222222222222222,
             "#7201a8"
            ],
            [
             0.3333333333333333,
             "#9c179e"
            ],
            [
             0.4444444444444444,
             "#bd3786"
            ],
            [
             0.5555555555555556,
             "#d8576b"
            ],
            [
             0.6666666666666666,
             "#ed7953"
            ],
            [
             0.7777777777777778,
             "#fb9f3a"
            ],
            [
             0.8888888888888888,
             "#fdca26"
            ],
            [
             1,
             "#f0f921"
            ]
           ],
           "sequentialminus": [
            [
             0,
             "#0d0887"
            ],
            [
             0.1111111111111111,
             "#46039f"
            ],
            [
             0.2222222222222222,
             "#7201a8"
            ],
            [
             0.3333333333333333,
             "#9c179e"
            ],
            [
             0.4444444444444444,
             "#bd3786"
            ],
            [
             0.5555555555555556,
             "#d8576b"
            ],
            [
             0.6666666666666666,
             "#ed7953"
            ],
            [
             0.7777777777777778,
             "#fb9f3a"
            ],
            [
             0.8888888888888888,
             "#fdca26"
            ],
            [
             1,
             "#f0f921"
            ]
           ]
          },
          "colorway": [
           "#636efa",
           "#EF553B",
           "#00cc96",
           "#ab63fa",
           "#FFA15A",
           "#19d3f3",
           "#FF6692",
           "#B6E880",
           "#FF97FF",
           "#FECB52"
          ],
          "font": {
           "color": "#2a3f5f"
          },
          "geo": {
           "bgcolor": "white",
           "lakecolor": "white",
           "landcolor": "#E5ECF6",
           "showlakes": true,
           "showland": true,
           "subunitcolor": "white"
          },
          "hoverlabel": {
           "align": "left"
          },
          "hovermode": "closest",
          "mapbox": {
           "style": "light"
          },
          "paper_bgcolor": "white",
          "plot_bgcolor": "#E5ECF6",
          "polar": {
           "angularaxis": {
            "gridcolor": "white",
            "linecolor": "white",
            "ticks": ""
           },
           "bgcolor": "#E5ECF6",
           "radialaxis": {
            "gridcolor": "white",
            "linecolor": "white",
            "ticks": ""
           }
          },
          "scene": {
           "xaxis": {
            "backgroundcolor": "#E5ECF6",
            "gridcolor": "white",
            "gridwidth": 2,
            "linecolor": "white",
            "showbackground": true,
            "ticks": "",
            "zerolinecolor": "white"
           },
           "yaxis": {
            "backgroundcolor": "#E5ECF6",
            "gridcolor": "white",
            "gridwidth": 2,
            "linecolor": "white",
            "showbackground": true,
            "ticks": "",
            "zerolinecolor": "white"
           },
           "zaxis": {
            "backgroundcolor": "#E5ECF6",
            "gridcolor": "white",
            "gridwidth": 2,
            "linecolor": "white",
            "showbackground": true,
            "ticks": "",
            "zerolinecolor": "white"
           }
          },
          "shapedefaults": {
           "line": {
            "color": "#2a3f5f"
           }
          },
          "ternary": {
           "aaxis": {
            "gridcolor": "white",
            "linecolor": "white",
            "ticks": ""
           },
           "baxis": {
            "gridcolor": "white",
            "linecolor": "white",
            "ticks": ""
           },
           "bgcolor": "#E5ECF6",
           "caxis": {
            "gridcolor": "white",
            "linecolor": "white",
            "ticks": ""
           }
          },
          "title": {
           "x": 0.05
          },
          "xaxis": {
           "automargin": true,
           "gridcolor": "white",
           "linecolor": "white",
           "ticks": "",
           "title": {
            "standoff": 15
           },
           "zerolinecolor": "white",
           "zerolinewidth": 2
          },
          "yaxis": {
           "automargin": true,
           "gridcolor": "white",
           "linecolor": "white",
           "ticks": "",
           "title": {
            "standoff": 15
           },
           "zerolinecolor": "white",
           "zerolinewidth": 2
          }
         }
        }
       }
      }
     },
     "metadata": {},
     "output_type": "display_data"
    }
   ],
   "source": [
    "import plotly.express as px\n",
    "df = pd.read_csv('tables/Table1g.csv')\n",
    "df = df.set_index('Country Code')\n",
    "df.loc['TWN',:] = df.loc['CHN',:]\n",
    "df = df.replace(\"Tracheal, bronchus, and lung cancer\", 'TBL')\n",
    "df = df.replace(\"Colon and rectum cancer\", 'Colon')\n",
    "df = df.replace(\"Stomach cancer\", 'Stomach')\n",
    "df = df.replace(\"Breast cancer\", 'Breast')\n",
    "df = df.replace(\"Other malignant neoplasms\", 'Other')\n",
    "df = df.replace(\"Liver cancer\", 'Liver')\n",
    "df = df.replace(\"Esophageal cancer\", 'Esophageal')\n",
    "df = df.replace(\"Leukemia\", 'Leukemia')\n",
    "df = df.replace(\"Pancreatic cancer\", 'Pancreatic')\n",
    "df = df.replace(\"Cervical cancer\", 'Cervical')\n",
    "df = df.replace(\"Prostate cancer\", 'Prostate')\n",
    "df = df.replace(\"Brain and central nervous system cancer\", 'Brain')\n",
    "df = df.replace(\"Lip and oral cavity cancer\", 'Lip')\n",
    "df = df.reset_index()\n",
    "# print(len(df['cause'].unique()))\n",
    "print(df['cause'].unique(), len(df['cause'].unique()))\n",
    "fig = px.choropleth(df,\n",
    "        locations = df['Country Code'],\n",
    "        # \"Bergeron\"\n",
    "        color = df['cause'],\n",
    "        color_discrete_map = {'TBL': \"rgb(39, 125, 161)\",\n",
    "                            'Colon': \"rgb(150, 150, 150)\",\n",
    "                            'Stomach': \"rgb(250, 190, 40)\",\n",
    "                            'Breast':  \"rgb(150, 0, 190)\", #\"rgb(77, 144, 142)\",\n",
    "                            'Other': \"rgb(80, 80, 80)\", #\"rgb(67, 170, 139)\", #\"rgb(248, 150, 30)\",\n",
    "                            'Liver': \"rgb(144, 190, 109)\",\n",
    "                            'Esophageal': \"rgb(0, 0, 255)\",\n",
    "                            'Leukemia': \"rgb(255, 20, 20)\", #\"rgb(249, 132, 74)\",\n",
    "                            'Pancreatic': \"rgb(50, 0, 150)\", #\"rgb(255, 220, 20)\", #\"rgb(249, 199, 79)\",\n",
    "                            'Cervical': \"rgb(243, 114, 44)\",\n",
    "                            'Prostate': \"rgb(0, 255, 240)\", #rgb(200, 80, 120)\"\n",
    "                            } #\"rgb(0, 255, 240)\"},  #\"rgb(0, 53, 102)\"}\n",
    "        # color_discrete_map = {'TBL': \"rgb(50, 0, 150)\",\n",
    "        #                     'Colon and rectum': \"rgb(100, 0, 170)\",\n",
    "        #                     'Breast': \"rgb(150, 0, 190)\",\n",
    "        #                     'Stomach': \"rgb(190, 40, 150)\",\n",
    "        #                     'Liver': \"rgb(200, 80, 120)\",\n",
    "        #                     'Pancreatic': \"rgb(220, 100, 100)\",\n",
    "        #                     'Leukemia': \"rgb(240, 130, 80)\",\n",
    "        #                     'Esophageal': \"rgb(250, 160, 60)\",\n",
    "        #                     'Cervical': \"rgb(250, 190, 40)\",\n",
    "        #                     'Prostate': \"rgb(255, 220, 20)\",\n",
    "        #                     'Other neoplasms': \"rgb(0, 255, 240)\"} \n",
    ")\n",
    "fig.update_layout(\n",
    "    font=dict(\n",
    "        # family=\"Courier New, monospace\",\n",
    "        family=\"Times New Roman\",\n",
    "        size=10,\n",
    "        # color=\"#7f7f7f\"\n",
    "    ),\n",
    "    margin = {'l':0,'r':0,'t':0,'b':0},\n",
    "#     title = 'Economic Burden of Road Injuries During 2020-2050',\n",
    "    geo = dict(\n",
    "        showframe = False,\n",
    "        showcoastlines = False,\n",
    "                showcountries = True,\n",
    "        countrycolor = \"rgb(0, 0, 0)\",\n",
    "        countrywidth = 0.1,\n",
    "        projection_type='equirectangular',\n",
    "    ),\n",
    "    legend = dict(\n",
    "        x = 0, \n",
    "        y = 0.2,\n",
    "        title = 'Cancer types'\n",
    "    )\n",
    ")\n",
    "# fig.update_layout(\n",
    "#     geo = dict(\n",
    "#         showframe = False,\n",
    "#         showcoastlines = False,\n",
    "#                 showcountries = True,\n",
    "#         countrycolor = \"rgb(0, 0, 0)\",\n",
    "#         countrywidth = 0.1,\n",
    "#         projection_type='equirectangular'\n",
    "#     )\n",
    "# )\n",
    "# fig.update_layout(margin={\"r\":0,\"t\":0,\"l\":0,\"b\":0})\n",
    "# fig.update_geos(fitbounds=\"locations\", visible=False)\n",
    "fig.show()\n",
    "# plot(fig)\n",
    "fig.write_image(\"tables/figure_4.pdf\")"
   ]
  },
  {
   "cell_type": "code",
   "execution_count": null,
   "metadata": {},
   "outputs": [],
   "source": []
  }
 ],
 "metadata": {
  "interpreter": {
   "hash": "c313004aacb210e2a0b0ec8e97d422a11096aa68fd78b262a7f6f720f4307dc6"
  },
  "kernelspec": {
   "display_name": "Python 3.7.10 64-bit ('base': conda)",
   "name": "python3"
  },
  "language_info": {
   "codemirror_mode": {
    "name": "ipython",
    "version": 3
   },
   "file_extension": ".py",
   "mimetype": "text/x-python",
   "name": "python",
   "nbconvert_exporter": "python",
   "pygments_lexer": "ipython3",
   "version": "3.7.10"
  }
 },
 "nbformat": 4,
 "nbformat_minor": 2
}
